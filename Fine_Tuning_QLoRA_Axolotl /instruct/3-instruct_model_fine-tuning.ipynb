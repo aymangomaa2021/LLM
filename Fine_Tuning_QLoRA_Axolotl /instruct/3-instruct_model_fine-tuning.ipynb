{
 "cells": [
  {
   "cell_type": "markdown",
   "metadata": {
    "id": "27GmewgZ7hRi"
   },
   "source": [
    "# **Fine tune Instruct Model**"
   ]
  },
  {
   "cell_type": "markdown",
   "metadata": {
    "id": "NO1yjdut7Zea"
   },
   "source": [
    "##Installing Dependencies"
   ]
  },
  {
   "cell_type": "code",
   "execution_count": 1,
   "metadata": {
    "executionInfo": {
     "elapsed": 9435,
     "status": "ok",
     "timestamp": 1746894601204,
     "user": {
      "displayName": "Ayman Gomaa",
      "userId": "08700742472508547470"
     },
     "user_tz": 300
    },
    "id": "uM-ZLuzh7Cdm"
   },
   "outputs": [],
   "source": [
    "%%capture installation_log\n",
    "!pip install --no-build-isolation axolotl[deepspeed]\n",
    "!pip install wandb\n",
    "!pip install -q datasets"
   ]
  },
  {
   "cell_type": "code",
   "execution_count": 2,
   "metadata": {
    "colab": {
     "base_uri": "https://localhost:8080/"
    },
    "executionInfo": {
     "elapsed": 10191,
     "status": "ok",
     "timestamp": 1746894611397,
     "user": {
      "displayName": "Ayman Gomaa",
      "userId": "08700742472508547470"
     },
     "user_tz": 300
    },
    "id": "f4ol4BL68CpG",
    "outputId": "25a1442c-919d-464e-c27a-3d541ff5e41c"
   },
   "outputs": [
    {
     "name": "stdout",
     "output_type": "stream",
     "text": [
      "[2025-05-10 16:30:10,758] [INFO] [real_accelerator.py:219:get_accelerator] Setting ds_accelerator to cuda (auto detect)\n"
     ]
    }
   ],
   "source": [
    "from datasets import load_dataset ,DatasetDict\n",
    "import json\n",
    "import pandas as pd\n",
    "from pprint import pprint\n",
    "import torch\n",
    "assert (torch.cuda.is_available()==True)\n",
    "from peft import AutoPeftModelForCausalLM\n",
    "from transformers import AutoTokenizer, AutoConfig\n",
    "from huggingface_hub import HfApi, ModelCard, ModelCardData"
   ]
  },
  {
   "cell_type": "code",
   "execution_count": 3,
   "metadata": {
    "executionInfo": {
     "elapsed": 733,
     "status": "ok",
     "timestamp": 1746894612133,
     "user": {
      "displayName": "Ayman Gomaa",
      "userId": "08700742472508547470"
     },
     "user_tz": 300
    },
    "id": "-08rZxbU8EEJ"
   },
   "outputs": [],
   "source": [
    "from google.colab import userdata\n",
    "import os\n",
    "os.environ[\"HF_TOKEN\"] = userdata.get('HF_TOKEN') # make sure to use the name you used for your secret\n",
    "os.environ[\"WANDB_API_KEY\"] = userdata.get('WANDB_API_KEY') # make sure to use the name you used for your secret\n",
    "hf_profile = 'aymangomaa'"
   ]
  },
  {
   "cell_type": "markdown",
   "metadata": {
    "id": "KOLeUIE3_geL"
   },
   "source": [
    "## Load Dataset\n",
    "The Fine-tune Base Model notebook covers dataset loading and transformation, splitting the training set into training and validation subsets (e.g., 90/10 split), and pushing the processed dataset to the Hugging Face Hub."
   ]
  },
  {
   "cell_type": "code",
   "execution_count": 4,
   "metadata": {
    "colab": {
     "base_uri": "https://localhost:8080/"
    },
    "executionInfo": {
     "elapsed": 6797,
     "status": "ok",
     "timestamp": 1746894618934,
     "user": {
      "displayName": "Ayman Gomaa",
      "userId": "08700742472508547470"
     },
     "user_tz": 300
    },
    "id": "slqDAcZQmL0R",
    "outputId": "ba54faca-4211-471f-94c4-fd56f96988f2"
   },
   "outputs": [
    {
     "data": {
      "text/plain": [
       "DatasetDict({\n",
       "    train: Dataset({\n",
       "        features: ['text', 'relations', 'messages'],\n",
       "        num_rows: 3458\n",
       "    })\n",
       "    validation: Dataset({\n",
       "        features: ['text', 'relations', 'messages'],\n",
       "        num_rows: 385\n",
       "    })\n",
       "    test: Dataset({\n",
       "        features: ['text', 'relations', 'messages'],\n",
       "        num_rows: 428\n",
       "    })\n",
       "})"
      ]
     },
     "execution_count": 4,
     "metadata": {},
     "output_type": "execute_result"
    }
   ],
   "source": [
    "from datasets import load_dataset\n",
    "\n",
    "summarization_dataset_chat = load_dataset(f\"{hf_profile}/entity_extraction_ade_v2_chat_base\")\n",
    "summarization_dataset_chat"
   ]
  },
  {
   "cell_type": "code",
   "execution_count": 5,
   "metadata": {
    "colab": {
     "base_uri": "https://localhost:8080/"
    },
    "executionInfo": {
     "elapsed": 17,
     "status": "ok",
     "timestamp": 1746894618955,
     "user": {
      "displayName": "Ayman Gomaa",
      "userId": "08700742472508547470"
     },
     "user_tz": 300
    },
    "id": "DfyvWtp2ohXF",
    "outputId": "e3a1e31c-a10c-4957-ec30-a9461c524026"
   },
   "outputs": [
    {
     "name": "stdout",
     "output_type": "stream",
     "text": [
      "[{'content': 'Extract all adverse drug effect (ADE) relationships from the '\n",
      "             'sentence. ### TEXT: PURPOSE: The occurrence of myoclonus '\n",
      "             'associated with continuous i.v. infusion of dobutamine in a '\n",
      "             'patient with end-stage renal disease (ESRD) is described.',\n",
      "  'role': 'user'},\n",
      " {'content': '[{\"ade\": \"myoclonus\", \"drug\": \"dobutamine\"}]',\n",
      "  'role': 'assistant'}]\n"
     ]
    }
   ],
   "source": [
    "pprint(summarization_dataset_chat['train'][4]['messages'])"
   ]
  },
  {
   "cell_type": "markdown",
   "metadata": {
    "id": "jCVCPDIeFVCP"
   },
   "source": [
    "## Training Parameters"
   ]
  },
  {
   "cell_type": "code",
   "execution_count": 6,
   "metadata": {
    "executionInfo": {
     "elapsed": 2,
     "status": "ok",
     "timestamp": 1746894618963,
     "user": {
      "displayName": "Ayman Gomaa",
      "userId": "08700742472508547470"
     },
     "user_tz": 300
    },
    "id": "Ek4ijI5qF08H"
   },
   "outputs": [],
   "source": [
    "import yaml"
   ]
  },
  {
   "cell_type": "code",
   "execution_count": 7,
   "metadata": {
    "executionInfo": {
     "elapsed": 3,
     "status": "ok",
     "timestamp": 1746894618967,
     "user": {
      "displayName": "Ayman Gomaa",
      "userId": "08700742472508547470"
     },
     "user_tz": 300
    },
    "id": "o7E0m9ZdFPup"
   },
   "outputs": [],
   "source": [
    "# Define variables\n",
    "dataset_prepared_path = './prepared_data/'\n",
    "output_dir = './outputs/'\n",
    "data_download_path = f\"{hf_profile}/entity_extraction_ade_v2_chat_base\"\n",
    "wandb_project = 'hw3_instruct'\n",
    "base_model = 'Qwen/Qwen3-1.7B'"
   ]
  },
  {
   "cell_type": "code",
   "execution_count": 8,
   "metadata": {
    "executionInfo": {
     "elapsed": 2,
     "status": "ok",
     "timestamp": 1746894618970,
     "user": {
      "displayName": "Ayman Gomaa",
      "userId": "08700742472508547470"
     },
     "user_tz": 300
    },
    "id": "kEBgHfP4F7Q4"
   },
   "outputs": [],
   "source": [
    "# Use template with placeholders\n",
    "# chat_template updated for instruct model\n",
    "yaml_template = \"\"\"\n",
    "seed: 42\n",
    "torch_seed: 42\n",
    "\n",
    "datasets:\n",
    "  - path: ${DATASET_PATH}\n",
    "    field_messages: messages\n",
    "    type: chat_template\n",
    "    chat_template: tokenizer_default\n",
    "    train_on_split: train\n",
    "\n",
    "test_datasets:\n",
    "  - path: ${DATASET_PATH}\n",
    "    type: chat_template\n",
    "    field_messages: messages\n",
    "    chat_template: tokenizer_default\n",
    "    split: validation\n",
    "\n",
    "train_on_inputs : false\n",
    "\n",
    "base_model: ${BASE_MODEL}\n",
    "load_in_4bit: true\n",
    "adapter: qlora\n",
    "lora_r: 128\n",
    "lora_alpha: 256\n",
    "lora_dropout: 0.01\n",
    "lora_target_linear: true\n",
    "\n",
    "learning_rate: 2e-5\n",
    "lr_scheduler: cosine\n",
    "num_epochs: 1\n",
    "optimizer: paged_adamw_8bit\n",
    "warmup_ratio: 0.2\n",
    "\n",
    "eval_strategy: steps\n",
    "eval_steps: 0.1\n",
    "max_steps: 50\n",
    "save_strategy: \"steps\"\n",
    "save_steps: 0.1\n",
    "save_total_limit: 2\n",
    "load_best_model_at_end: true\n",
    "metric_for_best_model: eval_loss\n",
    "greater_is_better: false\n",
    "\n",
    "sequence_len: 512\n",
    "pad_to_sequence_len: true\n",
    "\n",
    "micro_batch_size: 4\n",
    "gradient_accumulation_steps: 4\n",
    "gradient_checkpointing: true\n",
    "\n",
    "sample_packing: false\n",
    "group_by_length: false\n",
    "dataset_prepared_path: ${PREPARED_PATH}\n",
    "output_dir: ${OUTPUT_DIR}\n",
    "\n",
    "bf16: true\n",
    "fp16: false\n",
    "tf32: false\n",
    "flash_attention: false\n",
    "sdp_attention: true\n",
    "\n",
    "wandb_project: ${WANDB_PROJECT}\n",
    "wandb_name: drug-ade-extraction-finetuned-instruct-2\n",
    "\"\"\""
   ]
  },
  {
   "cell_type": "code",
   "execution_count": 9,
   "metadata": {
    "executionInfo": {
     "elapsed": 2,
     "status": "ok",
     "timestamp": 1746894618975,
     "user": {
      "displayName": "Ayman Gomaa",
      "userId": "08700742472508547470"
     },
     "user_tz": 300
    },
    "id": "fLSCZhkvNnGF"
   },
   "outputs": [],
   "source": [
    "# Define variables\n",
    "variables = {\n",
    "    \"${DATASET_PATH}\": data_download_path,\n",
    "    \"${PREPARED_PATH}\": dataset_prepared_path,\n",
    "    \"${OUTPUT_DIR}\": output_dir,\n",
    "    \"${WANDB_PROJECT}\": wandb_project,\n",
    "    \"${BASE_MODEL}\": base_model\n",
    "}\n",
    "\n",
    "# Replace all placeholders at once\n",
    "yaml_content = yaml_template\n",
    "for placeholder, value in variables.items():\n",
    "    yaml_content = yaml_content.replace(placeholder, value)"
   ]
  },
  {
   "cell_type": "code",
   "execution_count": 10,
   "metadata": {
    "colab": {
     "base_uri": "https://localhost:8080/"
    },
    "executionInfo": {
     "elapsed": 41,
     "status": "ok",
     "timestamp": 1746894619018,
     "user": {
      "displayName": "Ayman Gomaa",
      "userId": "08700742472508547470"
     },
     "user_tz": 300
    },
    "id": "iVuuujK-Npgz",
    "outputId": "467bff5a-ce01-43ee-e861-1dc7112fb9b7"
   },
   "outputs": [
    {
     "name": "stdout",
     "output_type": "stream",
     "text": [
      "training.yaml has been created successfully!\n"
     ]
    }
   ],
   "source": [
    "# Write to training.yaml file\n",
    "with open('training.yaml', 'w') as file:\n",
    "    file.write(yaml_content)\n",
    "\n",
    "print(\"training.yaml has been created successfully!\")"
   ]
  },
  {
   "cell_type": "code",
   "execution_count": 11,
   "metadata": {
    "colab": {
     "base_uri": "https://localhost:8080/"
    },
    "executionInfo": {
     "elapsed": 600,
     "status": "ok",
     "timestamp": 1746894619619,
     "user": {
      "displayName": "Ayman Gomaa",
      "userId": "08700742472508547470"
     },
     "user_tz": 300
    },
    "id": "e4BtBrUWoxQQ",
    "outputId": "d45250b8-2841-4dd5-9fce-1a0cf468b370"
   },
   "outputs": [
    {
     "name": "stdout",
     "output_type": "stream",
     "text": [
      "Drive already mounted at /content/drive; to attempt to forcibly remount, call drive.mount(\"/content/drive\", force_remount=True).\n"
     ]
    }
   ],
   "source": [
    "from google.colab import drive\n",
    "drive.mount('/content/drive')"
   ]
  },
  {
   "cell_type": "markdown",
   "metadata": {
    "id": "HRSp61ZmOjGv"
   },
   "source": [
    "## Dataset Preprocessing"
   ]
  },
  {
   "cell_type": "code",
   "execution_count": 12,
   "metadata": {
    "executionInfo": {
     "elapsed": 105,
     "status": "ok",
     "timestamp": 1746894619726,
     "user": {
      "displayName": "Ayman Gomaa",
      "userId": "08700742472508547470"
     },
     "user_tz": 300
    },
    "id": "99IGnE9iOl08"
   },
   "outputs": [],
   "source": [
    "!rm -rf {dataset_prepared_path}"
   ]
  },
  {
   "cell_type": "code",
   "execution_count": 13,
   "metadata": {
    "colab": {
     "base_uri": "https://localhost:8080/"
    },
    "executionInfo": {
     "elapsed": 36003,
     "status": "ok",
     "timestamp": 1746894655731,
     "user": {
      "displayName": "Ayman Gomaa",
      "userId": "08700742472508547470"
     },
     "user_tz": 300
    },
    "id": "_YTRRLfFOqt1",
    "outputId": "92b361cb-e87a-4e2b-d782-3a44b5b0bb39"
   },
   "outputs": [
    {
     "name": "stdout",
     "output_type": "stream",
     "text": [
      "2025-05-10 16:30:25.164904: E external/local_xla/xla/stream_executor/cuda/cuda_fft.cc:477] Unable to register cuFFT factory: Attempting to register factory for plugin cuFFT when one has already been registered\n",
      "WARNING: All log messages before absl::InitializeLog() is called are written to STDERR\n",
      "E0000 00:00:1746894625.185013   35343 cuda_dnn.cc:8310] Unable to register cuDNN factory: Attempting to register factory for plugin cuDNN when one has already been registered\n",
      "E0000 00:00:1746894625.190984   35343 cuda_blas.cc:1418] Unable to register cuBLAS factory: Attempting to register factory for plugin cuBLAS when one has already been registered\n",
      "[2025-05-10 16:30:27,416] [INFO] [numexpr.utils._init_num_threads:162] [PID:35343] NumExpr defaulting to 8 threads.\n",
      "[2025-05-10 16:30:28,393] [INFO] [real_accelerator.py:219:get_accelerator] Setting ds_accelerator to cuda (auto detect)\n",
      "[2025-05-10 16:30:28,477] [INFO] [root.spawn:60] [PID:35343] x86_64-linux-gnu-gcc -Wsign-compare -DNDEBUG -g -fwrapv -O2 -Wall -g -fstack-protector-strong -Wformat -Werror=format-security -g -fwrapv -O2 -fPIC -c /tmp/tmpd7a49i9f/test.c -o /tmp/tmpd7a49i9f/test.o\n",
      "[2025-05-10 16:30:28,511] [INFO] [root.spawn:60] [PID:35343] x86_64-linux-gnu-gcc /tmp/tmpd7a49i9f/test.o -laio -o /tmp/tmpd7a49i9f/a.out\n",
      "[2025-05-10 16:30:28,570] [INFO] [root.spawn:60] [PID:35343] x86_64-linux-gnu-gcc -Wsign-compare -DNDEBUG -g -fwrapv -O2 -Wall -g -fstack-protector-strong -Wformat -Werror=format-security -g -fwrapv -O2 -fPIC -c /tmp/tmpt23hk5ag/test.c -o /tmp/tmpt23hk5ag/test.o\n",
      "[2025-05-10 16:30:28,586] [INFO] [root.spawn:60] [PID:35343] x86_64-linux-gnu-gcc /tmp/tmpt23hk5ag/test.o -L/usr/local/cuda -L/usr/local/cuda/lib64 -lcufile -o /tmp/tmpt23hk5ag/a.out\n",
      "[2025-05-10 16:30:28,631] [INFO] [root.spawn:60] [PID:35343] x86_64-linux-gnu-gcc -Wsign-compare -DNDEBUG -g -fwrapv -O2 -Wall -g -fstack-protector-strong -Wformat -Werror=format-security -g -fwrapv -O2 -fPIC -c /tmp/tmpi3h7nyds/test.c -o /tmp/tmpi3h7nyds/test.o\n",
      "[2025-05-10 16:30:28,646] [INFO] [root.spawn:60] [PID:35343] x86_64-linux-gnu-gcc /tmp/tmpi3h7nyds/test.o -laio -o /tmp/tmpi3h7nyds/a.out\n",
      "[2025-05-10 16:30:29,718] [INFO] [datasets.<module>:54] [PID:35343] PyTorch version 2.6.0+cu124 available.\n",
      "[2025-05-10 16:30:29,719] [INFO] [datasets.<module>:66] [PID:35343] Polars version 1.21.0 available.\n",
      "[2025-05-10 16:30:29,720] [INFO] [datasets.<module>:77] [PID:35343] Duckdb version 1.2.2 available.\n",
      "[2025-05-10 16:30:29,720] [INFO] [datasets.<module>:112] [PID:35343] TensorFlow version 2.18.0 available.\n",
      "[2025-05-10 16:30:29,721] [INFO] [datasets.<module>:125] [PID:35343] JAX version 0.5.2 available.\n",
      "\u001b[33m[2025-05-10 16:30:32,716] [WARNING] [axolotl.utils.schemas.config.check_auto_enable_lora_kernels:1372] [PID:35343] [RANK:0] Auto-enabling LoRA kernel optimizations for faster training. Please explicitly set `lora_*_kernel` config values to `false` to disable. See https://docs.axolotl.ai/docs/lora_optims.html for more info.\u001b[39m\n",
      "[2025-05-10 16:30:33,328] [INFO] [axolotl.normalize_config:237] [PID:35343] [RANK:0] cuda memory usage baseline: 0.000GB (+0.002GB cache, +0.359GB misc)\u001b[39m\n",
      "\n",
      "     #@@ #@@      @@# @@#\n",
      "    @@  @@          @@  @@           =@@#                               @@                 #@    =@@#.\n",
      "    @@    #@@@@@@@@@    @@           #@#@=                              @@                 #@     .=@@\n",
      "      #@@@@@@@@@@@@@@@@@            =@# @#     ##=     ##    =####=+    @@      =#####+  =#@@###.   @@\n",
      "    @@@@@@@@@@/  +@@/  +@@          #@  =@=     #@=   @@   =@#+  +#@#   @@    =@#+  +#@#   #@.      @@\n",
      "    @@@@@@@@@@  ##@@  ##@@         =@#   @#      =@# @#    @@      @@   @@    @@      #@   #@       @@\n",
      "     @@@@@@@@@@@@@@@@@@@@          #@=+++#@=      =@@#     @@      @@   @@    @@      #@   #@       @@\n",
      "                                  =@#=====@@     =@# @#    @@      @@   @@    @@      #@   #@       @@\n",
      "    @@@@@@@@@@@@@@@@  @@@@        #@      #@=   #@=  +@@   #@#    =@#   @@.   =@#    =@#   #@.      @@\n",
      "                                 =@#       @#  #@=     #@   =#@@@@#=    +#@@=  +#@@@@#=    .##@@+   @@\n",
      "    @@@@  @@@@@@@@@@@@@@@@\n",
      "\n",
      "[2025-05-10 16:30:34,887] [DEBUG] [axolotl.utils.models.load_tokenizer:441] [PID:35343] [RANK:0] EOS: 151645 / <|im_end|>\u001b[39m\n",
      "[2025-05-10 16:30:34,887] [DEBUG] [axolotl.utils.models.load_tokenizer:442] [PID:35343] [RANK:0] BOS: None / None\u001b[39m\n",
      "[2025-05-10 16:30:34,887] [DEBUG] [axolotl.utils.models.load_tokenizer:443] [PID:35343] [RANK:0] PAD: 151643 / <|endoftext|>\u001b[39m\n",
      "[2025-05-10 16:30:34,888] [DEBUG] [axolotl.utils.models.load_tokenizer:444] [PID:35343] [RANK:0] UNK: None / None\u001b[39m\n",
      "[2025-05-10 16:30:34,888] [INFO] [axolotl.utils.models.load_tokenizer:458] [PID:35343] [RANK:0] No Chat template selected. Consider adding a chat template for easier inference.\u001b[39m\n",
      "[2025-05-10 16:30:34,888] [INFO] [axolotl.utils.data.sft.load_tokenized_prepared_datasets:267] [PID:35343] [RANK:0] Skipping prepared dataset in prepared_data/fad58ed398639171a2949561287be4d0 for pre-processing...\u001b[39m\n",
      "[2025-05-10 16:30:34,888] [INFO] [axolotl.utils.data.sft.load_tokenized_prepared_datasets:272] [PID:35343] [RANK:0] Loading raw datasets...\u001b[39m\n",
      "[2025-05-10 16:30:40,117] [INFO] [axolotl.utils.data.sft.get_dataset_wrapper:484] [PID:35343] [RANK:0] Loading dataset with base_type: chat_template and prompt_style: None\u001b[39m\n",
      "[2025-05-10 16:30:40,147] [INFO] [axolotl.__call__:761] [PID:35343] [RANK:0] Using chat template:\n",
      "---\n",
      "{%- if tools %}\n",
      "    {{- '<|im_start|>system\\n' }}\n",
      "    {%- if messages[0].role == 'system' %}\n",
      "        {{- messages[0].content + '\\n\\n' }}\n",
      "    {%- endif %}\n",
      "    {{- \"# Tools\\n\\nYou may call one or more functions to assist with the user query.\\n\\nYou are provided with function signatures within <tools></tools> XML tags:\\n<tools>\" }}\n",
      "    {%- for tool in tools %}\n",
      "        {{- \"\\n\" }}\n",
      "        {{- tool | tojson }}\n",
      "    {%- endfor %}\n",
      "    {{- \"\\n</tools>\\n\\nFor each function call, return a json object with function name and arguments within <tool_call></tool_call> XML tags:\\n<tool_call>\\n{\\\"name\\\": <function-name>, \\\"arguments\\\": <args-json-object>}\\n</tool_call><|im_end|>\\n\" }}\n",
      "{%- else %}\n",
      "    {%- if messages[0].role == 'system' %}\n",
      "        {{- '<|im_start|>system\\n' + messages[0].content + '<|im_end|>\\n' }}\n",
      "    {%- endif %}\n",
      "{%- endif %}\n",
      "{%- set ns = namespace(multi_step_tool=true, last_query_index=messages|length - 1) %}\n",
      "{%- for message in messages[::-1] %}\n",
      "    {%- set index = (messages|length - 1) - loop.index0 %}\n",
      "    {%- if ns.multi_step_tool and message.role == \"user\" and not(message.content.startswith('<tool_response>') and message.content.endswith('</tool_response>')) %}\n",
      "        {%- set ns.multi_step_tool = false %}\n",
      "        {%- set ns.last_query_index = index %}\n",
      "    {%- endif %}\n",
      "{%- endfor %}\n",
      "{%- for message in messages %}\n",
      "    {%- if (message.role == \"user\") or (message.role == \"system\" and not loop.first) %}\n",
      "        {{- '<|im_start|>' + message.role + '\\n' + message.content + '<|im_end|>' + '\\n' }}\n",
      "    {%- elif message.role == \"assistant\" %}\n",
      "        {%- set content = message.content %}\n",
      "        {%- set reasoning_content = '' %}\n",
      "        {%- if message.reasoning_content is defined and message.reasoning_content is not none %}\n",
      "            {%- set reasoning_content = message.reasoning_content %}\n",
      "        {%- else %}\n",
      "            {%- if '</think>' in message.content %}\n",
      "                {%- set content = message.content.split('</think>')[-1].lstrip('\\n') %}\n",
      "                {%- set reasoning_content = message.content.split('</think>')[0].rstrip('\\n').split('<think>')[-1].lstrip('\\n') %}\n",
      "            {%- endif %}\n",
      "        {%- endif %}\n",
      "        {%- if loop.index0 > ns.last_query_index %}\n",
      "            {%- if loop.last or (not loop.last and reasoning_content) %}\n",
      "                {{- '<|im_start|>' + message.role + '\\n<think>\\n' + reasoning_content.strip('\\n') + '\\n</think>\\n\\n' + content.lstrip('\\n') }}\n",
      "            {%- else %}\n",
      "                {{- '<|im_start|>' + message.role + '\\n' + content }}\n",
      "            {%- endif %}\n",
      "        {%- else %}\n",
      "            {{- '<|im_start|>' + message.role + '\\n' + content }}\n",
      "        {%- endif %}\n",
      "        {%- if message.tool_calls %}\n",
      "            {%- for tool_call in message.tool_calls %}\n",
      "                {%- if (loop.first and content) or (not loop.first) %}\n",
      "                    {{- '\\n' }}\n",
      "                {%- endif %}\n",
      "                {%- if tool_call.function %}\n",
      "                    {%- set tool_call = tool_call.function %}\n",
      "                {%- endif %}\n",
      "                {{- '<tool_call>\\n{\"name\": \"' }}\n",
      "                {{- tool_call.name }}\n",
      "                {{- '\", \"arguments\": ' }}\n",
      "                {%- if tool_call.arguments is string %}\n",
      "                    {{- tool_call.arguments }}\n",
      "                {%- else %}\n",
      "                    {{- tool_call.arguments | tojson }}\n",
      "                {%- endif %}\n",
      "                {{- '}\\n</tool_call>' }}\n",
      "            {%- endfor %}\n",
      "        {%- endif %}\n",
      "        {{- '<|im_end|>\\n' }}\n",
      "    {%- elif message.role == \"tool\" %}\n",
      "        {%- if loop.first or (messages[loop.index0 - 1].role != \"tool\") %}\n",
      "            {{- '<|im_start|>user' }}\n",
      "        {%- endif %}\n",
      "        {{- '\\n<tool_response>\\n' }}\n",
      "        {{- message.content }}\n",
      "        {{- '\\n</tool_response>' }}\n",
      "        {%- if loop.last or (messages[loop.index0 + 1].role != \"tool\") %}\n",
      "            {{- '<|im_end|>\\n' }}\n",
      "        {%- endif %}\n",
      "    {%- endif %}\n",
      "{%- endfor %}\n",
      "{%- if add_generation_prompt %}\n",
      "    {{- '<|im_start|>assistant\\n' }}\n",
      "    {%- if enable_thinking is defined and enable_thinking is false %}\n",
      "        {{- '<think>\\n\\n</think>\\n\\n' }}\n",
      "    {%- endif %}\n",
      "{%- endif %}\n",
      "---\u001b[39m\n",
      "Tokenizing Prompts (num_proc=8): 100% 3458/3458 [00:03<00:00, 1051.15 examples/s]\n",
      "[2025-05-10 16:30:43,802] [INFO] [axolotl.utils.data.utils.drop_long_seq_in_dataset:177] [PID:35343] [RANK:0] min_input_len: 53\u001b[39m\n",
      "[2025-05-10 16:30:43,803] [INFO] [axolotl.utils.data.utils.drop_long_seq_in_dataset:179] [PID:35343] [RANK:0] max_input_len: 542\u001b[39m\n",
      "Dropping Long Sequences (num_proc=8): 100% 3458/3458 [00:00<00:00, 18102.75 examples/s]\n",
      "\u001b[33m[2025-05-10 16:30:44,741] [WARNING] [axolotl.utils.data.utils.drop_long_seq_in_dataset:207] [PID:35343] [RANK:0] Dropped 1 long samples from dataset\u001b[39m\n",
      "[2025-05-10 16:30:44,741] [INFO] [axolotl.utils.data.sft.load_tokenized_prepared_datasets:351] [PID:35343] [RANK:0] Saving merged prepared dataset to disk... prepared_data/fad58ed398639171a2949561287be4d0\u001b[39m\n",
      "Saving the dataset (1/1 shards): 100% 3457/3457 [00:00<00:00, 94468.65 examples/s]\n",
      "[2025-05-10 16:30:44,781] [INFO] [axolotl.utils.data.sft.load_tokenized_prepared_datasets:267] [PID:35343] [RANK:0] Skipping prepared dataset in prepared_data/ebb6b7f596a6187b95cefc7ced0f70fb for pre-processing...\u001b[39m\n",
      "[2025-05-10 16:30:44,781] [INFO] [axolotl.utils.data.sft.load_tokenized_prepared_datasets:272] [PID:35343] [RANK:0] Loading raw datasets...\u001b[39m\n",
      "[2025-05-10 16:30:48,430] [INFO] [axolotl.utils.data.sft.get_dataset_wrapper:484] [PID:35343] [RANK:0] Loading dataset with base_type: chat_template and prompt_style: None\u001b[39m\n",
      "[2025-05-10 16:30:48,462] [INFO] [axolotl.__call__:761] [PID:35343] [RANK:0] Using chat template:\n",
      "---\n",
      "{%- if tools %}\n",
      "    {{- '<|im_start|>system\\n' }}\n",
      "    {%- if messages[0].role == 'system' %}\n",
      "        {{- messages[0].content + '\\n\\n' }}\n",
      "    {%- endif %}\n",
      "    {{- \"# Tools\\n\\nYou may call one or more functions to assist with the user query.\\n\\nYou are provided with function signatures within <tools></tools> XML tags:\\n<tools>\" }}\n",
      "    {%- for tool in tools %}\n",
      "        {{- \"\\n\" }}\n",
      "        {{- tool | tojson }}\n",
      "    {%- endfor %}\n",
      "    {{- \"\\n</tools>\\n\\nFor each function call, return a json object with function name and arguments within <tool_call></tool_call> XML tags:\\n<tool_call>\\n{\\\"name\\\": <function-name>, \\\"arguments\\\": <args-json-object>}\\n</tool_call><|im_end|>\\n\" }}\n",
      "{%- else %}\n",
      "    {%- if messages[0].role == 'system' %}\n",
      "        {{- '<|im_start|>system\\n' + messages[0].content + '<|im_end|>\\n' }}\n",
      "    {%- endif %}\n",
      "{%- endif %}\n",
      "{%- set ns = namespace(multi_step_tool=true, last_query_index=messages|length - 1) %}\n",
      "{%- for message in messages[::-1] %}\n",
      "    {%- set index = (messages|length - 1) - loop.index0 %}\n",
      "    {%- if ns.multi_step_tool and message.role == \"user\" and not(message.content.startswith('<tool_response>') and message.content.endswith('</tool_response>')) %}\n",
      "        {%- set ns.multi_step_tool = false %}\n",
      "        {%- set ns.last_query_index = index %}\n",
      "    {%- endif %}\n",
      "{%- endfor %}\n",
      "{%- for message in messages %}\n",
      "    {%- if (message.role == \"user\") or (message.role == \"system\" and not loop.first) %}\n",
      "        {{- '<|im_start|>' + message.role + '\\n' + message.content + '<|im_end|>' + '\\n' }}\n",
      "    {%- elif message.role == \"assistant\" %}\n",
      "        {%- set content = message.content %}\n",
      "        {%- set reasoning_content = '' %}\n",
      "        {%- if message.reasoning_content is defined and message.reasoning_content is not none %}\n",
      "            {%- set reasoning_content = message.reasoning_content %}\n",
      "        {%- else %}\n",
      "            {%- if '</think>' in message.content %}\n",
      "                {%- set content = message.content.split('</think>')[-1].lstrip('\\n') %}\n",
      "                {%- set reasoning_content = message.content.split('</think>')[0].rstrip('\\n').split('<think>')[-1].lstrip('\\n') %}\n",
      "            {%- endif %}\n",
      "        {%- endif %}\n",
      "        {%- if loop.index0 > ns.last_query_index %}\n",
      "            {%- if loop.last or (not loop.last and reasoning_content) %}\n",
      "                {{- '<|im_start|>' + message.role + '\\n<think>\\n' + reasoning_content.strip('\\n') + '\\n</think>\\n\\n' + content.lstrip('\\n') }}\n",
      "            {%- else %}\n",
      "                {{- '<|im_start|>' + message.role + '\\n' + content }}\n",
      "            {%- endif %}\n",
      "        {%- else %}\n",
      "            {{- '<|im_start|>' + message.role + '\\n' + content }}\n",
      "        {%- endif %}\n",
      "        {%- if message.tool_calls %}\n",
      "            {%- for tool_call in message.tool_calls %}\n",
      "                {%- if (loop.first and content) or (not loop.first) %}\n",
      "                    {{- '\\n' }}\n",
      "                {%- endif %}\n",
      "                {%- if tool_call.function %}\n",
      "                    {%- set tool_call = tool_call.function %}\n",
      "                {%- endif %}\n",
      "                {{- '<tool_call>\\n{\"name\": \"' }}\n",
      "                {{- tool_call.name }}\n",
      "                {{- '\", \"arguments\": ' }}\n",
      "                {%- if tool_call.arguments is string %}\n",
      "                    {{- tool_call.arguments }}\n",
      "                {%- else %}\n",
      "                    {{- tool_call.arguments | tojson }}\n",
      "                {%- endif %}\n",
      "                {{- '}\\n</tool_call>' }}\n",
      "            {%- endfor %}\n",
      "        {%- endif %}\n",
      "        {{- '<|im_end|>\\n' }}\n",
      "    {%- elif message.role == \"tool\" %}\n",
      "        {%- if loop.first or (messages[loop.index0 - 1].role != \"tool\") %}\n",
      "            {{- '<|im_start|>user' }}\n",
      "        {%- endif %}\n",
      "        {{- '\\n<tool_response>\\n' }}\n",
      "        {{- message.content }}\n",
      "        {{- '\\n</tool_response>' }}\n",
      "        {%- if loop.last or (messages[loop.index0 + 1].role != \"tool\") %}\n",
      "            {{- '<|im_end|>\\n' }}\n",
      "        {%- endif %}\n",
      "    {%- endif %}\n",
      "{%- endfor %}\n",
      "{%- if add_generation_prompt %}\n",
      "    {{- '<|im_start|>assistant\\n' }}\n",
      "    {%- if enable_thinking is defined and enable_thinking is false %}\n",
      "        {{- '<think>\\n\\n</think>\\n\\n' }}\n",
      "    {%- endif %}\n",
      "{%- endif %}\n",
      "---\u001b[39m\n",
      "Tokenizing Prompts (num_proc=8): 100% 385/385 [00:02<00:00, 183.41 examples/s]\n",
      "[2025-05-10 16:30:50,978] [INFO] [axolotl.utils.data.utils.drop_long_seq_in_dataset:177] [PID:35343] [RANK:0] min_input_len: 55\u001b[39m\n",
      "[2025-05-10 16:30:50,979] [INFO] [axolotl.utils.data.utils.drop_long_seq_in_dataset:179] [PID:35343] [RANK:0] max_input_len: 396\u001b[39m\n",
      "Dropping Long Sequences (num_proc=8): 100% 385/385 [00:00<00:00, 2285.14 examples/s]\n",
      "[2025-05-10 16:30:51,930] [INFO] [axolotl.utils.data.sft.load_tokenized_prepared_datasets:351] [PID:35343] [RANK:0] Saving merged prepared dataset to disk... prepared_data/ebb6b7f596a6187b95cefc7ced0f70fb\u001b[39m\n",
      "Saving the dataset (1/1 shards): 100% 385/385 [00:00<00:00, 42672.35 examples/s]\n",
      "[2025-05-10 16:30:52,601] [INFO] [axolotl.utils.data.sft.prepare_dataset:185] [PID:35343] [RANK:0] Maximum number of steps set at 50\u001b[39m\n",
      "[2025-05-10 16:30:52,602] [INFO] [axolotl.common.datasets.load_datasets:91] [PID:35343] [RANK:0] check_dataset_labels...\u001b[39m\n",
      "[2025-05-10 16:30:52,605] [INFO] [axolotl.check_example_labels:44] [PID:35343] [RANK:0] \u001b[31m<|im_start|>\u001b[0m\u001b[97m(-100, 151644)\u001b[0m \u001b[31muser\u001b[0m\u001b[97m(-100, 872)\u001b[0m \u001b[31m\n",
      "\u001b[0m\u001b[97m(-100, 198)\u001b[0m \u001b[31mExtract\u001b[0m\u001b[97m(-100, 28959)\u001b[0m \u001b[31m all\u001b[0m\u001b[97m(-100, 678)\u001b[0m \u001b[31m adverse\u001b[0m\u001b[97m(-100, 30859)\u001b[0m \u001b[31m drug\u001b[0m\u001b[97m(-100, 5506)\u001b[0m \u001b[31m effect\u001b[0m\u001b[97m(-100, 2456)\u001b[0m \u001b[31m (\u001b[0m\u001b[97m(-100, 320)\u001b[0m \u001b[31mADE\u001b[0m\u001b[97m(-100, 32841)\u001b[0m \u001b[31m)\u001b[0m\u001b[97m(-100, 8)\u001b[0m \u001b[31m relationships\u001b[0m\u001b[97m(-100, 11871)\u001b[0m \u001b[31m from\u001b[0m\u001b[97m(-100, 504)\u001b[0m \u001b[31m the\u001b[0m\u001b[97m(-100, 279)\u001b[0m \u001b[31m sentence\u001b[0m\u001b[97m(-100, 11652)\u001b[0m \u001b[31m.\u001b[0m\u001b[97m(-100, 13)\u001b[0m \u001b[31m ###\u001b[0m\u001b[97m(-100, 16600)\u001b[0m \u001b[31m TEXT\u001b[0m\u001b[97m(-100, 15762)\u001b[0m \u001b[31m:\u001b[0m\u001b[97m(-100, 25)\u001b[0m \u001b[31m Although\u001b[0m\u001b[97m(-100, 10328)\u001b[0m \u001b[31m transient\u001b[0m\u001b[97m(-100, 40558)\u001b[0m \u001b[31m increases\u001b[0m\u001b[97m(-100, 12703)\u001b[0m \u001b[31m in\u001b[0m\u001b[97m(-100, 304)\u001b[0m \u001b[31m ect\u001b[0m\u001b[97m(-100, 76494)\u001b[0m \u001b[31mopy\u001b[0m\u001b[97m(-100, 1266)\u001b[0m \u001b[31m after\u001b[0m\u001b[97m(-100, 1283)\u001b[0m \u001b[31m bre\u001b[0m\u001b[97m(-100, 5282)\u001b[0m \u001b[31mty\u001b[0m\u001b[97m(-100, 1881)\u001b[0m \u001b[31mli\u001b[0m\u001b[97m(-100, 742)\u001b[0m \u001b[31mum\u001b[0m\u001b[97m(-100, 372)\u001b[0m \u001b[31m therapy\u001b[0m\u001b[97m(-100, 15069)\u001b[0m \u001b[31m have\u001b[0m\u001b[97m(-100, 614)\u001b[0m \u001b[31m been\u001b[0m\u001b[97m(-100, 1012)\u001b[0m \u001b[31m described\u001b[0m\u001b[97m(-100, 7481)\u001b[0m \u001b[31m,\u001b[0m\u001b[97m(-100, 11)\u001b[0m \u001b[31m presumably\u001b[0m\u001b[97m(-100, 35448)\u001b[0m \u001b[31m due\u001b[0m\u001b[97m(-100, 4152)\u001b[0m \u001b[31m to\u001b[0m\u001b[97m(-100, 311)\u001b[0m \u001b[31m cate\u001b[0m\u001b[97m(-100, 58139)\u001b[0m \u001b[31mch\u001b[0m\u001b[97m(-100, 331)\u001b[0m \u001b[31mol\u001b[0m\u001b[97m(-100, 337)\u001b[0m \u001b[31mamine\u001b[0m\u001b[97m(-100, 19991)\u001b[0m \u001b[31m release\u001b[0m\u001b[97m(-100, 4879)\u001b[0m \u001b[31m,\u001b[0m\u001b[97m(-100, 11)\u001b[0m \u001b[31m the\u001b[0m\u001b[97m(-100, 279)\u001b[0m \u001b[31m occurrence\u001b[0m\u001b[97m(-100, 31559)\u001b[0m \u001b[31m of\u001b[0m\u001b[97m(-100, 315)\u001b[0m \u001b[31m life\u001b[0m\u001b[97m(-100, 2272)\u001b[0m \u001b[31m-threatening\u001b[0m\u001b[97m(-100, 61899)\u001b[0m \u001b[31m vent\u001b[0m\u001b[97m(-100, 10378)\u001b[0m \u001b[31mricular\u001b[0m\u001b[97m(-100, 56233)\u001b[0m \u001b[31m arr\u001b[0m\u001b[97m(-100, 2890)\u001b[0m \u001b[31mhythm\u001b[0m\u001b[97m(-100, 60154)\u001b[0m \u001b[31mia\u001b[0m\u001b[97m(-100, 685)\u001b[0m \u001b[31m leading\u001b[0m\u001b[97m(-100, 6388)\u001b[0m \u001b[31m to\u001b[0m\u001b[97m(-100, 311)\u001b[0m \u001b[31m cardiac\u001b[0m\u001b[97m(-100, 46245)\u001b[0m \u001b[31m arrest\u001b[0m\u001b[97m(-100, 8004)\u001b[0m \u001b[31m has\u001b[0m\u001b[97m(-100, 702)\u001b[0m \u001b[31m not\u001b[0m\u001b[97m(-100, 537)\u001b[0m \u001b[31m previously\u001b[0m\u001b[97m(-100, 8597)\u001b[0m \u001b[31m been\u001b[0m\u001b[97m(-100, 1012)\u001b[0m \u001b[31m emphasized\u001b[0m\u001b[97m(-100, 45628)\u001b[0m \u001b[31m.\u001b[0m\u001b[97m(-100, 13)\u001b[0m \u001b[31m<|im_end|>\u001b[0m\u001b[97m(-100, 151645)\u001b[0m \u001b[31m\n",
      "\u001b[0m\u001b[97m(-100, 198)\u001b[0m \u001b[31m<|im_start|>\u001b[0m\u001b[97m(-100, 151644)\u001b[0m \u001b[31massistant\u001b[0m\u001b[97m(-100, 77091)\u001b[0m \u001b[31m\n",
      "\u001b[0m\u001b[97m(-100, 198)\u001b[0m \u001b[31m<think>\u001b[0m\u001b[97m(-100, 151667)\u001b[0m \u001b[31m\n",
      "\n",
      "\u001b[0m\u001b[97m(-100, 271)\u001b[0m \u001b[31m</think>\u001b[0m\u001b[97m(-100, 151668)\u001b[0m \u001b[31m\n",
      "\n",
      "\u001b[0m\u001b[97m(-100, 271)\u001b[0m \u001b[32m[\u001b[0m\u001b[97m(58, 58)\u001b[0m \u001b[32m{\"\u001b[0m\u001b[97m(4913, 4913)\u001b[0m \u001b[32made\u001b[0m\u001b[97m(1021, 1021)\u001b[0m \u001b[32m\":\u001b[0m\u001b[97m(788, 788)\u001b[0m \u001b[32m \"\u001b[0m\u001b[97m(330, 330)\u001b[0m \u001b[32mvent\u001b[0m\u001b[97m(684, 684)\u001b[0m \u001b[32mricular\u001b[0m\u001b[97m(56233, 56233)\u001b[0m \u001b[32m arr\u001b[0m\u001b[97m(2890, 2890)\u001b[0m \u001b[32mhythm\u001b[0m\u001b[97m(60154, 60154)\u001b[0m \u001b[32mia\u001b[0m\u001b[97m(685, 685)\u001b[0m \u001b[32m\",\u001b[0m\u001b[97m(497, 497)\u001b[0m \u001b[32m \"\u001b[0m\u001b[97m(330, 330)\u001b[0m \u001b[32mdrug\u001b[0m\u001b[97m(72721, 72721)\u001b[0m \u001b[32m\":\u001b[0m\u001b[97m(788, 788)\u001b[0m \u001b[32m \"\u001b[0m\u001b[97m(330, 330)\u001b[0m \u001b[32mbre\u001b[0m\u001b[97m(20512, 20512)\u001b[0m \u001b[32mty\u001b[0m\u001b[97m(1881, 1881)\u001b[0m \u001b[32mli\u001b[0m\u001b[97m(742, 742)\u001b[0m \u001b[32mum\u001b[0m\u001b[97m(372, 372)\u001b[0m \u001b[32m\"},\u001b[0m\u001b[97m(14345, 14345)\u001b[0m \u001b[32m {\"\u001b[0m\u001b[97m(5212, 5212)\u001b[0m \u001b[32made\u001b[0m\u001b[97m(1021, 1021)\u001b[0m \u001b[32m\":\u001b[0m\u001b[97m(788, 788)\u001b[0m \u001b[32m \"\u001b[0m\u001b[97m(330, 330)\u001b[0m \u001b[32mcard\u001b[0m\u001b[97m(4951, 4951)\u001b[0m \u001b[32miac\u001b[0m\u001b[97m(17569, 17569)\u001b[0m \u001b[32m arrest\u001b[0m\u001b[97m(8004, 8004)\u001b[0m \u001b[32m\",\u001b[0m\u001b[97m(497, 497)\u001b[0m \u001b[32m \"\u001b[0m\u001b[97m(330, 330)\u001b[0m \u001b[32mdrug\u001b[0m\u001b[97m(72721, 72721)\u001b[0m \u001b[32m\":\u001b[0m\u001b[97m(788, 788)\u001b[0m \u001b[32m \"\u001b[0m\u001b[97m(330, 330)\u001b[0m \u001b[32mbre\u001b[0m\u001b[97m(20512, 20512)\u001b[0m \u001b[32mty\u001b[0m\u001b[97m(1881, 1881)\u001b[0m \u001b[32mli\u001b[0m\u001b[97m(742, 742)\u001b[0m \u001b[32mum\u001b[0m\u001b[97m(372, 372)\u001b[0m \u001b[32m\"}\u001b[0m\u001b[97m(9207, 9207)\u001b[0m \u001b[32m]\u001b[0m\u001b[97m(60, 60)\u001b[0m \u001b[32m<|im_end|>\u001b[0m\u001b[97m(151645, 151645)\u001b[0m \u001b[31m\n",
      "\u001b[0m\u001b[97m(-100, 198)\u001b[0m\u001b[39m\n",
      "[2025-05-10 16:30:52,605] [INFO] [axolotl.check_example_labels:45] [PID:35343] [RANK:0] \n",
      "\n",
      "\n",
      "\u001b[39m\n",
      "[2025-05-10 16:30:52,605] [INFO] [axolotl.check_example_labels:48] [PID:35343] [RANK:0] Total input len: 113\u001b[39m\n",
      "[2025-05-10 16:30:52,605] [INFO] [axolotl.check_example_labels:49] [PID:35343] [RANK:0] Count of labels: 39\u001b[39m\n",
      "[2025-05-10 16:30:52,605] [INFO] [axolotl.common.datasets.load_datasets:103] [PID:35343] [RANK:0] printing prompters...\u001b[39m\n",
      "[2025-05-10 16:30:52,605] [INFO] [axolotl.common.datasets.load_datasets:105] [PID:35343] [RANK:0] Pre-tokenized or custom dataset types are unsupported for logging\u001b[39m\n",
      "Loading checkpoint shards:   0% 0/2 [00:00<?, ?it/s]\n",
      "[2025-05-10 16:30:53,024] [INFO] [axolotl.cli.preprocess.do_preprocess:75] [PID:35343] [RANK:0] \u001b[32mSuccess! Preprocessed data path: `dataset_prepared_path: ./prepared_data/`\u001b[39m\u001b[39m\n",
      "\u001b[0m"
     ]
    }
   ],
   "source": [
    "!axolotl preprocess training.yaml --debug"
   ]
  },
  {
   "cell_type": "code",
   "execution_count": 14,
   "metadata": {
    "colab": {
     "base_uri": "https://localhost:8080/"
    },
    "executionInfo": {
     "elapsed": 751,
     "status": "ok",
     "timestamp": 1746894656483,
     "user": {
      "displayName": "Ayman Gomaa",
      "userId": "08700742472508547470"
     },
     "user_tz": 300
    },
    "id": "hsIMnnUSRfYk",
    "outputId": "f74cb38e-d04d-476b-effb-b6d275d5f579"
   },
   "outputs": [
    {
     "name": "stdout",
     "output_type": "stream",
     "text": [
      "Found prepared directories: ['./prepared_data/ebb6b7f596a6187b95cefc7ced0f70fb/', './prepared_data/fad58ed398639171a2949561287be4d0/']\n"
     ]
    }
   ],
   "source": [
    "from transformers import AutoTokenizer\n",
    "from datasets import load_from_disk\n",
    "import pandas as pd\n",
    "import glob\n",
    "from pprint import pprint\n",
    "\n",
    "# Load your tokenizer\n",
    "model_id = base_model\n",
    "tokenizer = AutoTokenizer.from_pretrained(model_id)\n",
    "\n",
    "# Find the prepared dataset directories\n",
    "prepared_dirs = glob.glob(f'{dataset_prepared_path}/*/')\n",
    "print(f\"Found prepared directories: {prepared_dirs}\")"
   ]
  },
  {
   "cell_type": "code",
   "execution_count": 15,
   "metadata": {
    "executionInfo": {
     "elapsed": 3,
     "status": "ok",
     "timestamp": 1746894656490,
     "user": {
      "displayName": "Ayman Gomaa",
      "userId": "08700742472508547470"
     },
     "user_tz": 300
    },
    "id": "pN4Op6aDRkVn"
   },
   "outputs": [],
   "source": [
    "def display_token_stream(dataset_path, example_idx=0):\n",
    "    \"\"\"\n",
    "    Displays token information for a specific example as a continuous string.\n",
    "\n",
    "    Args:\n",
    "        example_idx: Index of the example to display (default: 0)\n",
    "    \"\"\"\n",
    "    try:\n",
    "        ds = load_from_disk(dataset_path)\n",
    "\n",
    "        if example_idx >= len(ds):\n",
    "            print(f\"Error: Example index {example_idx} out of range. Dataset has {len(ds)} examples.\")\n",
    "            return\n",
    "\n",
    "        # Get the example\n",
    "        row = ds[example_idx]\n",
    "\n",
    "        # Print dataset and example info\n",
    "        print(f\"\\nDataset: {dataset_path}\")\n",
    "        print(f\"Example {example_idx} of {len(ds)}\")\n",
    "        print(\"-\" * 80)\n",
    "\n",
    "        # Build the continuous token stream\n",
    "        result = \"\"\n",
    "        for token_id, label in zip(row['input_ids'], row['labels']):\n",
    "            # Decode the token\n",
    "            token_text = tokenizer.decode([token_id])\n",
    "            # Add token info to the stream\n",
    "            token_info = f\"<{token_text},{token_id},{label}> \"\n",
    "            result += token_info\n",
    "\n",
    "        # Print the continuous stream\n",
    "        print(\"Token Stream (<token_id,label,masked>):\")\n",
    "        pprint(result)\n",
    "\n",
    "        # Print the full text separately for easy reading\n",
    "        pprint(\"\\nFull decoded text:\")\n",
    "        pprint(tokenizer.decode(row['input_ids']))\n",
    "\n",
    "    except Exception as e:\n",
    "        print(f\"Error processing dataset: {e}\")"
   ]
  },
  {
   "cell_type": "code",
   "execution_count": 16,
   "metadata": {
    "colab": {
     "base_uri": "https://localhost:8080/"
    },
    "executionInfo": {
     "elapsed": 23,
     "status": "ok",
     "timestamp": 1746894656514,
     "user": {
      "displayName": "Ayman Gomaa",
      "userId": "08700742472508547470"
     },
     "user_tz": 300
    },
    "id": "cWQVEMuHRnIy",
    "outputId": "16fb0673-bf55-4285-b967-872bf4ae2abc"
   },
   "outputs": [
    {
     "name": "stdout",
     "output_type": "stream",
     "text": [
      "\n",
      "Dataset: ./prepared_data/ebb6b7f596a6187b95cefc7ced0f70fb/\n",
      "Example 4 of 385\n",
      "--------------------------------------------------------------------------------\n",
      "Token Stream (<token_id,label,masked>):\n",
      "('<<|im_start|>,151644,-100> <user,872,-100> <\\n'\n",
      " ',198,-100> <Extract,28959,-100> < all,678,-100> < adverse,30859,-100> < '\n",
      " 'drug,5506,-100> < effect,2456,-100> < (,320,-100> <ADE,32841,-100> '\n",
      " '<),8,-100> < relationships,11871,-100> < from,504,-100> < the,279,-100> < '\n",
      " 'sentence,11652,-100> <.,13,-100> < ###,16600,-100> < TEXT,15762,-100> '\n",
      " '<:,25,-100> < We,1205,-100> < report,1895,-100> < a,264,-100> < '\n",
      " 'case,1142,-100> < of,315,-100> < vit,13157,-100> <il,321,-100> '\n",
      " '<igo,7836,-100> < that,429,-100> < occurred,10017,-100> < during,2337,-100> '\n",
      " '< the,279,-100> < second,2086,-100> < month,2254,-100> < of,315,-100> < '\n",
      " 'interfer,40205,-100> <on,263,-100> < alpha,8287,-100> < ,220,-100> '\n",
      " '<2,17,-100> <a,64,-100> < therapy,15069,-100> < for,369,-100> < '\n",
      " 'chronic,20601,-100> < active,4541,-100> < hepatitis,72875,-100> < '\n",
      " 'C,356,-100> <.,13,-100> <<|im_end|>,151645,-100> <\\n'\n",
      " ',198,-100> <<|im_start|>,151644,-100> <assistant,77091,-100> <\\n'\n",
      " ',198,-100> <<think>,151667,-100> <\\n'\n",
      " '\\n'\n",
      " ',271,-100> <</think>,151668,-100> <\\n'\n",
      " '\\n'\n",
      " ',271,-100> <[,58,58> <{\",4913,4913> <ade,1021,1021> <\":,788,788> < '\n",
      " '\",330,330> <vit,54811,54811> <il,321,321> <igo,7836,7836> <\",,497,497> < '\n",
      " '\",330,330> <drug,72721,72721> <\":,788,788> < \",330,330> <inter,2245,2245> '\n",
      " '<fer,802,802> <on,263,263> < alpha,8287,8287> < ,220,220> <2,17,17> '\n",
      " '<a,64,64> <\"},9207,9207> <],60,60> <<|im_end|>,151645,151645> <\\n'\n",
      " ',198,-100> ')\n",
      "'\\nFull decoded text:'\n",
      "('<|im_start|>user\\n'\n",
      " 'Extract all adverse drug effect (ADE) relationships from the sentence. ### '\n",
      " 'TEXT: We report a case of vitiligo that occurred during the second month of '\n",
      " 'interferon alpha 2a therapy for chronic active hepatitis C.<|im_end|>\\n'\n",
      " '<|im_start|>assistant\\n'\n",
      " '<think>\\n'\n",
      " '\\n'\n",
      " '</think>\\n'\n",
      " '\\n'\n",
      " '[{\"ade\": \"vitiligo\", \"drug\": \"interferon alpha 2a\"}]<|im_end|>\\n')\n"
     ]
    }
   ],
   "source": [
    "display_token_stream(prepared_dirs[0], 4)"
   ]
  },
  {
   "cell_type": "code",
   "execution_count": 17,
   "metadata": {
    "colab": {
     "base_uri": "https://localhost:8080/"
    },
    "executionInfo": {
     "elapsed": 7,
     "status": "ok",
     "timestamp": 1746894656522,
     "user": {
      "displayName": "Ayman Gomaa",
      "userId": "08700742472508547470"
     },
     "user_tz": 300
    },
    "id": "kHDyrBzrUTB1",
    "outputId": "5f1171ed-68e3-46c3-db76-e2ee4e4c7da8"
   },
   "outputs": [
    {
     "name": "stdout",
     "output_type": "stream",
     "text": [
      "\n",
      "Dataset: ./prepared_data/ebb6b7f596a6187b95cefc7ced0f70fb/\n",
      "Example 18 of 385\n",
      "--------------------------------------------------------------------------------\n",
      "Token Stream (<token_id,label,masked>):\n",
      "('<<|im_start|>,151644,-100> <user,872,-100> <\\n'\n",
      " ',198,-100> <Extract,28959,-100> < all,678,-100> < adverse,30859,-100> < '\n",
      " 'drug,5506,-100> < effect,2456,-100> < (,320,-100> <ADE,32841,-100> '\n",
      " '<),8,-100> < relationships,11871,-100> < from,504,-100> < the,279,-100> < '\n",
      " 'sentence,11652,-100> <.,13,-100> < ###,16600,-100> < TEXT,15762,-100> '\n",
      " '<:,25,-100> < S,328,-100> <ux,2200,-100> <am,309,-100> <eth,769,-100> '\n",
      " '<onium,89244,-100> < ap,1443,-100> <no,2152,-100> <ea,12508,-100> < '\n",
      " 'terminated,31272,-100> < with,448,-100> < commercial,8353,-100> < '\n",
      " 'serum,40429,-100> <ch,331,-100> <olin,36637,-100> <ester,5191,-100> '\n",
      " '<ase,519,-100> <.,13,-100> <<|im_end|>,151645,-100> <\\n'\n",
      " ',198,-100> <<|im_start|>,151644,-100> <assistant,77091,-100> <\\n'\n",
      " ',198,-100> <<think>,151667,-100> <\\n'\n",
      " '\\n'\n",
      " ',271,-100> <</think>,151668,-100> <\\n'\n",
      " '\\n'\n",
      " ',271,-100> <[,58,58> <{\",4913,4913> <ade,1021,1021> <\":,788,788> < '\n",
      " '\",330,330> <ap,391,391> <no,2152,2152> <ea,12508,12508> <\",,497,497> < '\n",
      " '\",330,330> <drug,72721,72721> <\":,788,788> < \",330,330> <S,50,50> '\n",
      " '<ux,2200,2200> <am,309,309> <eth,769,769> <onium,89244,89244> <\"},9207,9207> '\n",
      " '<],60,60> <<|im_end|>,151645,151645> <\\n'\n",
      " ',198,-100> ')\n",
      "'\\nFull decoded text:'\n",
      "('<|im_start|>user\\n'\n",
      " 'Extract all adverse drug effect (ADE) relationships from the sentence. ### '\n",
      " 'TEXT: Suxamethonium apnoea terminated with commercial '\n",
      " 'serumcholinesterase.<|im_end|>\\n'\n",
      " '<|im_start|>assistant\\n'\n",
      " '<think>\\n'\n",
      " '\\n'\n",
      " '</think>\\n'\n",
      " '\\n'\n",
      " '[{\"ade\": \"apnoea\", \"drug\": \"Suxamethonium\"}]<|im_end|>\\n')\n"
     ]
    }
   ],
   "source": [
    "display_token_stream(prepared_dirs[0], 18)"
   ]
  },
  {
   "cell_type": "markdown",
   "metadata": {
    "id": "J_JcFYxEUgD7"
   },
   "source": [
    "## Model Training"
   ]
  },
  {
   "cell_type": "code",
   "execution_count": 18,
   "metadata": {
    "executionInfo": {
     "elapsed": 293,
     "status": "ok",
     "timestamp": 1746894656816,
     "user": {
      "displayName": "Ayman Gomaa",
      "userId": "08700742472508547470"
     },
     "user_tz": 300
    },
    "id": "PWfalQlyUkcq"
   },
   "outputs": [],
   "source": [
    "!rm -rf {output_dir}"
   ]
  },
  {
   "cell_type": "code",
   "execution_count": 19,
   "metadata": {
    "executionInfo": {
     "elapsed": 5814311,
     "status": "ok",
     "timestamp": 1746900471130,
     "user": {
      "displayName": "Ayman Gomaa",
      "userId": "08700742472508547470"
     },
     "user_tz": 300
    },
    "id": "DyPaFBxDUnjn"
   },
   "outputs": [],
   "source": [
    "%%capture output\n",
    "!accelerate launch -m axolotl.cli.train training.yaml\n",
    "\n",
    "\n"
   ]
  },
  {
   "cell_type": "code",
   "execution_count": 20,
   "metadata": {
    "colab": {
     "base_uri": "https://localhost:8080/"
    },
    "executionInfo": {
     "elapsed": 7,
     "status": "ok",
     "timestamp": 1746900471142,
     "user": {
      "displayName": "Ayman Gomaa",
      "userId": "08700742472508547470"
     },
     "user_tz": 300
    },
    "id": "5_I8ZP9B_bwt",
    "outputId": "7c129e07-d6ab-4c4a-d45b-86be8f7f1e12"
   },
   "outputs": [
    {
     "name": "stdout",
     "output_type": "stream",
     "text": [
      "\r                                   \r\u001b[A{'eval_loss': 0.08576303720474243, 'eval_runtime': 333.4512, 'eval_samples_per_second': 1.155, 'eval_steps_per_second': 0.291, 'epoch': 0.23}\n",
      "\r100% 50/50 [1:36:07<00:00, 70.63s/it]\n",
      "\r100% 97/97 [05:31<00:00,  2.99s/it]\u001b[A\n",
      "\r                                   \u001b[A\r                                     \r{'train_runtime': 5772.5565, 'train_samples_per_second': 0.139, 'train_steps_per_second': 0.009, 'train_loss': 0.3898436599969864, 'epoch': 0.23}\n",
      "\r100% 50/50 [1:36:10<00:00, 70.63s/it]\r100% 50/50 [1:36:10<00:00, 115.41s/it]\n",
      "[2025-05-10 18:07:39,187] [INFO] [axolotl.train.save_trained_model:231] [PID:35843] [RANK:0] Training completed! Saving pre-trained model to ./outputs/.\u001b[39m\n",
      "\u001b[1;34mwandb\u001b[0m: \n",
      "\u001b[1;34mwandb\u001b[0m: 🚀 View run \u001b[33mdrug-ade-extraction-finetuned-instruct-2\u001b[0m at: \u001b[34mhttps://wandb.ai/aymangomaa2005-utd/hw3_instruct/runs/fy52tlc8\u001b[0m\n",
      "\u001b[1;34mwandb\u001b[0m: Find logs at: \u001b[1;35mwandb/run-20250510_163127-fy52tlc8/logs\u001b[0m\n",
      "\u001b[0m\n"
     ]
    }
   ],
   "source": [
    "# output.show()\n",
    "print('\\n'.join(output.stdout.split('\\n')[-10:]))\n",
    "\n",
    "\n"
   ]
  },
  {
   "cell_type": "code",
   "execution_count": 21,
   "metadata": {
    "colab": {
     "base_uri": "https://localhost:8080/",
     "height": 252,
     "referenced_widgets": [
      "bb590f0663a344b19ec80ef1547aa967",
      "320ae1408d044d629de8c500fa43628a",
      "c22e570ef4b84177a5c2dfbd1773c13a",
      "93af597352744cba989652ae182feaf6",
      "c1975412056f4d82a09929c78dd86952",
      "7a69737dd8604ec69e87f0ec558426d0",
      "09a045ea242b4b8bb594ed7a6388805a",
      "330e71b59d07460aa1411a1e506bf83a",
      "9549233577cf4bf287b3ddc32b7a4906",
      "83f3fcfc48424b1a97c8eb23a6033f88",
      "33974e32d9424636beafc414275106ec",
      "5f495d7b04ff4ae4b3f003bd0c7b86e0",
      "4f58a7ea9ee9428b9dd6ed666454fdc9",
      "3d264dbd66654c90a447c5e008ce20e8",
      "79ce97f185b5428abcca8dedeb8119df",
      "91f2bae34e0a40bd8bfa4b0ed63356c3",
      "6520dbc149784286908027e565644888",
      "b9354a70924f44f785454f095fa6bfc3",
      "1758905ba214451a92867d6e7e862d18",
      "975d6ce931f841e58d2e5da838144982",
      "e1c02e6dcd8f49b6bf4de4ae367c3a75",
      "850ab56aaf01482289f8e820ed734772",
      "aa9e71e4a60140198f7004cbda8338af",
      "a84fb5aa57424198a9e85ca63467fdd0",
      "b09cde23a8524ce2840284c2e5d81e4f",
      "f2e8070969044a4dbaead33245341e7f",
      "38d69222a5504525ae7a362bc585673e",
      "e2341420b8854859b14a8a580d202d0e",
      "88da2538b6a84321a51b7e44aa5072f4",
      "324f654f19f84313b14fb885a7495e39",
      "5bc2a6afd8ef4029a58f8a460e6ac8ef",
      "ae119bf7fb4547b994a1b1576dd00c6d",
      "8d6c5ac06cc14694aa8db1824cc26c69",
      "a36bab6b2fce4fd7bc6b866819e66f8d",
      "114ae958086545b09eef37983fcebb5a",
      "c1fb8297d78d4750a9d26894150464f2",
      "5e0c6452af784ad2936d92fa2948be57",
      "c774786ef380471380f5664cd66d7a28",
      "f3efecf67e374e1c959fe13b4c75446f",
      "5df1fb2b74d14ead86d89475b856528a",
      "ccc6d21ae39440f99a4f5130eba562e5",
      "4b68a6a8fb504347aba6dd1c7d9e0c2b",
      "cf16ebf8efd04c458d31398ef87dc3bc",
      "3a2a7c0c7d5a4eb4b23b25a4f3c60edf"
     ]
    },
    "executionInfo": {
     "elapsed": 48350,
     "status": "ok",
     "timestamp": 1746900519493,
     "user": {
      "displayName": "Ayman Gomaa",
      "userId": "08700742472508547470"
     },
     "user_tz": 300
    },
    "id": "mtaoQ1cD_dqs",
    "outputId": "58c0d18a-cf00-474f-f21c-dab9d59edf50"
   },
   "outputs": [
    {
     "data": {
      "application/vnd.jupyter.widget-view+json": {
       "model_id": "bb590f0663a344b19ec80ef1547aa967",
       "version_major": 2,
       "version_minor": 0
      },
      "text/plain": [
       "Loading checkpoint shards:   0%|          | 0/2 [00:00<?, ?it/s]"
      ]
     },
     "metadata": {},
     "output_type": "display_data"
    },
    {
     "data": {
      "application/vnd.jupyter.widget-view+json": {
       "model_id": "5f495d7b04ff4ae4b3f003bd0c7b86e0",
       "version_major": 2,
       "version_minor": 0
      },
      "text/plain": [
       "adapter_model.safetensors:   0%|          | 0.00/558M [00:00<?, ?B/s]"
      ]
     },
     "metadata": {},
     "output_type": "display_data"
    },
    {
     "data": {
      "application/vnd.jupyter.widget-view+json": {
       "model_id": "aa9e71e4a60140198f7004cbda8338af",
       "version_major": 2,
       "version_minor": 0
      },
      "text/plain": [
       "README.md:   0%|          | 0.00/5.17k [00:00<?, ?B/s]"
      ]
     },
     "metadata": {},
     "output_type": "display_data"
    },
    {
     "data": {
      "application/vnd.jupyter.widget-view+json": {
       "model_id": "a36bab6b2fce4fd7bc6b866819e66f8d",
       "version_major": 2,
       "version_minor": 0
      },
      "text/plain": [
       "tokenizer.json:   0%|          | 0.00/11.4M [00:00<?, ?B/s]"
      ]
     },
     "metadata": {},
     "output_type": "display_data"
    },
    {
     "data": {
      "application/vnd.google.colaboratory.intrinsic+json": {
       "type": "string"
      },
      "text/plain": [
       "CommitInfo(commit_url='https://huggingface.co/aymangomaa/drug-ade-extraction-finetuned-instruct-2/commit/6bb6bc0a7966b36ce1d96773d0abaa8e6ace5686', commit_message='Upload tokenizer', commit_description='', oid='6bb6bc0a7966b36ce1d96773d0abaa8e6ace5686', pr_url=None, repo_url=RepoUrl('https://huggingface.co/aymangomaa/drug-ade-extraction-finetuned-instruct-2', endpoint='https://huggingface.co', repo_type='model', repo_id='aymangomaa/drug-ade-extraction-finetuned-instruct-2'), pr_revision=None, pr_num=None)"
      ]
     },
     "execution_count": 21,
     "metadata": {},
     "output_type": "execute_result"
    }
   ],
   "source": [
    "# push model to hub\n",
    "from peft import AutoPeftModelForCausalLM\n",
    "from transformers import AutoTokenizer\n",
    "repo_name = f\"{hf_profile}/drug-ade-extraction-finetuned-instruct-2\"\n",
    "# Load model with adapter\n",
    "model = AutoPeftModelForCausalLM.from_pretrained(output_dir)\n",
    "tokenizer = AutoTokenizer.from_pretrained(output_dir)\n",
    "\n",
    "# Push model to hub\n",
    "model.push_to_hub(repo_name)\n",
    "tokenizer.push_to_hub(repo_name)"
   ]
  }
 ],
 "metadata": {
  "accelerator": "GPU",
  "colab": {
   "authorship_tag": "ABX9TyO3NQHGzfDkxy4gueNJU9eg",
   "gpuType": "T4",
   "machine_shape": "hm",
   "provenance": []
  },
  "kernelspec": {
   "display_name": "Python 3",
   "name": "python3"
  },
  "language_info": {
   "name": "python"
  },
  "widgets": {
   "application/vnd.jupyter.widget-state+json": {
    "09a045ea242b4b8bb594ed7a6388805a": {
     "model_module": "@jupyter-widgets/controls",
     "model_module_version": "1.5.0",
     "model_name": "DescriptionStyleModel",
     "state": {
      "_model_module": "@jupyter-widgets/controls",
      "_model_module_version": "1.5.0",
      "_model_name": "DescriptionStyleModel",
      "_view_count": null,
      "_view_module": "@jupyter-widgets/base",
      "_view_module_version": "1.2.0",
      "_view_name": "StyleView",
      "description_width": ""
     }
    },
    "114ae958086545b09eef37983fcebb5a": {
     "model_module": "@jupyter-widgets/controls",
     "model_module_version": "1.5.0",
     "model_name": "HTMLModel",
     "state": {
      "_dom_classes": [],
      "_model_module": "@jupyter-widgets/controls",
      "_model_module_version": "1.5.0",
      "_model_name": "HTMLModel",
      "_view_count": null,
      "_view_module": "@jupyter-widgets/controls",
      "_view_module_version": "1.5.0",
      "_view_name": "HTMLView",
      "description": "",
      "description_tooltip": null,
      "layout": "IPY_MODEL_f3efecf67e374e1c959fe13b4c75446f",
      "placeholder": "​",
      "style": "IPY_MODEL_5df1fb2b74d14ead86d89475b856528a",
      "value": "tokenizer.json: 100%"
     }
    },
    "1758905ba214451a92867d6e7e862d18": {
     "model_module": "@jupyter-widgets/base",
     "model_module_version": "1.2.0",
     "model_name": "LayoutModel",
     "state": {
      "_model_module": "@jupyter-widgets/base",
      "_model_module_version": "1.2.0",
      "_model_name": "LayoutModel",
      "_view_count": null,
      "_view_module": "@jupyter-widgets/base",
      "_view_module_version": "1.2.0",
      "_view_name": "LayoutView",
      "align_content": null,
      "align_items": null,
      "align_self": null,
      "border": null,
      "bottom": null,
      "display": null,
      "flex": null,
      "flex_flow": null,
      "grid_area": null,
      "grid_auto_columns": null,
      "grid_auto_flow": null,
      "grid_auto_rows": null,
      "grid_column": null,
      "grid_gap": null,
      "grid_row": null,
      "grid_template_areas": null,
      "grid_template_columns": null,
      "grid_template_rows": null,
      "height": null,
      "justify_content": null,
      "justify_items": null,
      "left": null,
      "margin": null,
      "max_height": null,
      "max_width": null,
      "min_height": null,
      "min_width": null,
      "object_fit": null,
      "object_position": null,
      "order": null,
      "overflow": null,
      "overflow_x": null,
      "overflow_y": null,
      "padding": null,
      "right": null,
      "top": null,
      "visibility": null,
      "width": null
     }
    },
    "320ae1408d044d629de8c500fa43628a": {
     "model_module": "@jupyter-widgets/controls",
     "model_module_version": "1.5.0",
     "model_name": "HTMLModel",
     "state": {
      "_dom_classes": [],
      "_model_module": "@jupyter-widgets/controls",
      "_model_module_version": "1.5.0",
      "_model_name": "HTMLModel",
      "_view_count": null,
      "_view_module": "@jupyter-widgets/controls",
      "_view_module_version": "1.5.0",
      "_view_name": "HTMLView",
      "description": "",
      "description_tooltip": null,
      "layout": "IPY_MODEL_7a69737dd8604ec69e87f0ec558426d0",
      "placeholder": "​",
      "style": "IPY_MODEL_09a045ea242b4b8bb594ed7a6388805a",
      "value": "Loading checkpoint shards: 100%"
     }
    },
    "324f654f19f84313b14fb885a7495e39": {
     "model_module": "@jupyter-widgets/base",
     "model_module_version": "1.2.0",
     "model_name": "LayoutModel",
     "state": {
      "_model_module": "@jupyter-widgets/base",
      "_model_module_version": "1.2.0",
      "_model_name": "LayoutModel",
      "_view_count": null,
      "_view_module": "@jupyter-widgets/base",
      "_view_module_version": "1.2.0",
      "_view_name": "LayoutView",
      "align_content": null,
      "align_items": null,
      "align_self": null,
      "border": null,
      "bottom": null,
      "display": null,
      "flex": null,
      "flex_flow": null,
      "grid_area": null,
      "grid_auto_columns": null,
      "grid_auto_flow": null,
      "grid_auto_rows": null,
      "grid_column": null,
      "grid_gap": null,
      "grid_row": null,
      "grid_template_areas": null,
      "grid_template_columns": null,
      "grid_template_rows": null,
      "height": null,
      "justify_content": null,
      "justify_items": null,
      "left": null,
      "margin": null,
      "max_height": null,
      "max_width": null,
      "min_height": null,
      "min_width": null,
      "object_fit": null,
      "object_position": null,
      "order": null,
      "overflow": null,
      "overflow_x": null,
      "overflow_y": null,
      "padding": null,
      "right": null,
      "top": null,
      "visibility": null,
      "width": null
     }
    },
    "330e71b59d07460aa1411a1e506bf83a": {
     "model_module": "@jupyter-widgets/base",
     "model_module_version": "1.2.0",
     "model_name": "LayoutModel",
     "state": {
      "_model_module": "@jupyter-widgets/base",
      "_model_module_version": "1.2.0",
      "_model_name": "LayoutModel",
      "_view_count": null,
      "_view_module": "@jupyter-widgets/base",
      "_view_module_version": "1.2.0",
      "_view_name": "LayoutView",
      "align_content": null,
      "align_items": null,
      "align_self": null,
      "border": null,
      "bottom": null,
      "display": null,
      "flex": null,
      "flex_flow": null,
      "grid_area": null,
      "grid_auto_columns": null,
      "grid_auto_flow": null,
      "grid_auto_rows": null,
      "grid_column": null,
      "grid_gap": null,
      "grid_row": null,
      "grid_template_areas": null,
      "grid_template_columns": null,
      "grid_template_rows": null,
      "height": null,
      "justify_content": null,
      "justify_items": null,
      "left": null,
      "margin": null,
      "max_height": null,
      "max_width": null,
      "min_height": null,
      "min_width": null,
      "object_fit": null,
      "object_position": null,
      "order": null,
      "overflow": null,
      "overflow_x": null,
      "overflow_y": null,
      "padding": null,
      "right": null,
      "top": null,
      "visibility": null,
      "width": null
     }
    },
    "33974e32d9424636beafc414275106ec": {
     "model_module": "@jupyter-widgets/controls",
     "model_module_version": "1.5.0",
     "model_name": "DescriptionStyleModel",
     "state": {
      "_model_module": "@jupyter-widgets/controls",
      "_model_module_version": "1.5.0",
      "_model_name": "DescriptionStyleModel",
      "_view_count": null,
      "_view_module": "@jupyter-widgets/base",
      "_view_module_version": "1.2.0",
      "_view_name": "StyleView",
      "description_width": ""
     }
    },
    "38d69222a5504525ae7a362bc585673e": {
     "model_module": "@jupyter-widgets/base",
     "model_module_version": "1.2.0",
     "model_name": "LayoutModel",
     "state": {
      "_model_module": "@jupyter-widgets/base",
      "_model_module_version": "1.2.0",
      "_model_name": "LayoutModel",
      "_view_count": null,
      "_view_module": "@jupyter-widgets/base",
      "_view_module_version": "1.2.0",
      "_view_name": "LayoutView",
      "align_content": null,
      "align_items": null,
      "align_self": null,
      "border": null,
      "bottom": null,
      "display": null,
      "flex": null,
      "flex_flow": null,
      "grid_area": null,
      "grid_auto_columns": null,
      "grid_auto_flow": null,
      "grid_auto_rows": null,
      "grid_column": null,
      "grid_gap": null,
      "grid_row": null,
      "grid_template_areas": null,
      "grid_template_columns": null,
      "grid_template_rows": null,
      "height": null,
      "justify_content": null,
      "justify_items": null,
      "left": null,
      "margin": null,
      "max_height": null,
      "max_width": null,
      "min_height": null,
      "min_width": null,
      "object_fit": null,
      "object_position": null,
      "order": null,
      "overflow": null,
      "overflow_x": null,
      "overflow_y": null,
      "padding": null,
      "right": null,
      "top": null,
      "visibility": null,
      "width": null
     }
    },
    "3a2a7c0c7d5a4eb4b23b25a4f3c60edf": {
     "model_module": "@jupyter-widgets/controls",
     "model_module_version": "1.5.0",
     "model_name": "DescriptionStyleModel",
     "state": {
      "_model_module": "@jupyter-widgets/controls",
      "_model_module_version": "1.5.0",
      "_model_name": "DescriptionStyleModel",
      "_view_count": null,
      "_view_module": "@jupyter-widgets/base",
      "_view_module_version": "1.2.0",
      "_view_name": "StyleView",
      "description_width": ""
     }
    },
    "3d264dbd66654c90a447c5e008ce20e8": {
     "model_module": "@jupyter-widgets/controls",
     "model_module_version": "1.5.0",
     "model_name": "FloatProgressModel",
     "state": {
      "_dom_classes": [],
      "_model_module": "@jupyter-widgets/controls",
      "_model_module_version": "1.5.0",
      "_model_name": "FloatProgressModel",
      "_view_count": null,
      "_view_module": "@jupyter-widgets/controls",
      "_view_module_version": "1.5.0",
      "_view_name": "ProgressView",
      "bar_style": "success",
      "description": "",
      "description_tooltip": null,
      "layout": "IPY_MODEL_1758905ba214451a92867d6e7e862d18",
      "max": 557895656,
      "min": 0,
      "orientation": "horizontal",
      "style": "IPY_MODEL_975d6ce931f841e58d2e5da838144982",
      "value": 557895656
     }
    },
    "4b68a6a8fb504347aba6dd1c7d9e0c2b": {
     "model_module": "@jupyter-widgets/controls",
     "model_module_version": "1.5.0",
     "model_name": "ProgressStyleModel",
     "state": {
      "_model_module": "@jupyter-widgets/controls",
      "_model_module_version": "1.5.0",
      "_model_name": "ProgressStyleModel",
      "_view_count": null,
      "_view_module": "@jupyter-widgets/base",
      "_view_module_version": "1.2.0",
      "_view_name": "StyleView",
      "bar_color": null,
      "description_width": ""
     }
    },
    "4f58a7ea9ee9428b9dd6ed666454fdc9": {
     "model_module": "@jupyter-widgets/controls",
     "model_module_version": "1.5.0",
     "model_name": "HTMLModel",
     "state": {
      "_dom_classes": [],
      "_model_module": "@jupyter-widgets/controls",
      "_model_module_version": "1.5.0",
      "_model_name": "HTMLModel",
      "_view_count": null,
      "_view_module": "@jupyter-widgets/controls",
      "_view_module_version": "1.5.0",
      "_view_name": "HTMLView",
      "description": "",
      "description_tooltip": null,
      "layout": "IPY_MODEL_6520dbc149784286908027e565644888",
      "placeholder": "​",
      "style": "IPY_MODEL_b9354a70924f44f785454f095fa6bfc3",
      "value": "adapter_model.safetensors: 100%"
     }
    },
    "5bc2a6afd8ef4029a58f8a460e6ac8ef": {
     "model_module": "@jupyter-widgets/controls",
     "model_module_version": "1.5.0",
     "model_name": "ProgressStyleModel",
     "state": {
      "_model_module": "@jupyter-widgets/controls",
      "_model_module_version": "1.5.0",
      "_model_name": "ProgressStyleModel",
      "_view_count": null,
      "_view_module": "@jupyter-widgets/base",
      "_view_module_version": "1.2.0",
      "_view_name": "StyleView",
      "bar_color": null,
      "description_width": ""
     }
    },
    "5df1fb2b74d14ead86d89475b856528a": {
     "model_module": "@jupyter-widgets/controls",
     "model_module_version": "1.5.0",
     "model_name": "DescriptionStyleModel",
     "state": {
      "_model_module": "@jupyter-widgets/controls",
      "_model_module_version": "1.5.0",
      "_model_name": "DescriptionStyleModel",
      "_view_count": null,
      "_view_module": "@jupyter-widgets/base",
      "_view_module_version": "1.2.0",
      "_view_name": "StyleView",
      "description_width": ""
     }
    },
    "5e0c6452af784ad2936d92fa2948be57": {
     "model_module": "@jupyter-widgets/controls",
     "model_module_version": "1.5.0",
     "model_name": "HTMLModel",
     "state": {
      "_dom_classes": [],
      "_model_module": "@jupyter-widgets/controls",
      "_model_module_version": "1.5.0",
      "_model_name": "HTMLModel",
      "_view_count": null,
      "_view_module": "@jupyter-widgets/controls",
      "_view_module_version": "1.5.0",
      "_view_name": "HTMLView",
      "description": "",
      "description_tooltip": null,
      "layout": "IPY_MODEL_cf16ebf8efd04c458d31398ef87dc3bc",
      "placeholder": "​",
      "style": "IPY_MODEL_3a2a7c0c7d5a4eb4b23b25a4f3c60edf",
      "value": " 11.4M/11.4M [00:00&lt;00:00, 24.9MB/s]"
     }
    },
    "5f495d7b04ff4ae4b3f003bd0c7b86e0": {
     "model_module": "@jupyter-widgets/controls",
     "model_module_version": "1.5.0",
     "model_name": "HBoxModel",
     "state": {
      "_dom_classes": [],
      "_model_module": "@jupyter-widgets/controls",
      "_model_module_version": "1.5.0",
      "_model_name": "HBoxModel",
      "_view_count": null,
      "_view_module": "@jupyter-widgets/controls",
      "_view_module_version": "1.5.0",
      "_view_name": "HBoxView",
      "box_style": "",
      "children": [
       "IPY_MODEL_4f58a7ea9ee9428b9dd6ed666454fdc9",
       "IPY_MODEL_3d264dbd66654c90a447c5e008ce20e8",
       "IPY_MODEL_79ce97f185b5428abcca8dedeb8119df"
      ],
      "layout": "IPY_MODEL_91f2bae34e0a40bd8bfa4b0ed63356c3"
     }
    },
    "6520dbc149784286908027e565644888": {
     "model_module": "@jupyter-widgets/base",
     "model_module_version": "1.2.0",
     "model_name": "LayoutModel",
     "state": {
      "_model_module": "@jupyter-widgets/base",
      "_model_module_version": "1.2.0",
      "_model_name": "LayoutModel",
      "_view_count": null,
      "_view_module": "@jupyter-widgets/base",
      "_view_module_version": "1.2.0",
      "_view_name": "LayoutView",
      "align_content": null,
      "align_items": null,
      "align_self": null,
      "border": null,
      "bottom": null,
      "display": null,
      "flex": null,
      "flex_flow": null,
      "grid_area": null,
      "grid_auto_columns": null,
      "grid_auto_flow": null,
      "grid_auto_rows": null,
      "grid_column": null,
      "grid_gap": null,
      "grid_row": null,
      "grid_template_areas": null,
      "grid_template_columns": null,
      "grid_template_rows": null,
      "height": null,
      "justify_content": null,
      "justify_items": null,
      "left": null,
      "margin": null,
      "max_height": null,
      "max_width": null,
      "min_height": null,
      "min_width": null,
      "object_fit": null,
      "object_position": null,
      "order": null,
      "overflow": null,
      "overflow_x": null,
      "overflow_y": null,
      "padding": null,
      "right": null,
      "top": null,
      "visibility": null,
      "width": null
     }
    },
    "79ce97f185b5428abcca8dedeb8119df": {
     "model_module": "@jupyter-widgets/controls",
     "model_module_version": "1.5.0",
     "model_name": "HTMLModel",
     "state": {
      "_dom_classes": [],
      "_model_module": "@jupyter-widgets/controls",
      "_model_module_version": "1.5.0",
      "_model_name": "HTMLModel",
      "_view_count": null,
      "_view_module": "@jupyter-widgets/controls",
      "_view_module_version": "1.5.0",
      "_view_name": "HTMLView",
      "description": "",
      "description_tooltip": null,
      "layout": "IPY_MODEL_e1c02e6dcd8f49b6bf4de4ae367c3a75",
      "placeholder": "​",
      "style": "IPY_MODEL_850ab56aaf01482289f8e820ed734772",
      "value": " 558M/558M [00:29&lt;00:00, 30.2MB/s]"
     }
    },
    "7a69737dd8604ec69e87f0ec558426d0": {
     "model_module": "@jupyter-widgets/base",
     "model_module_version": "1.2.0",
     "model_name": "LayoutModel",
     "state": {
      "_model_module": "@jupyter-widgets/base",
      "_model_module_version": "1.2.0",
      "_model_name": "LayoutModel",
      "_view_count": null,
      "_view_module": "@jupyter-widgets/base",
      "_view_module_version": "1.2.0",
      "_view_name": "LayoutView",
      "align_content": null,
      "align_items": null,
      "align_self": null,
      "border": null,
      "bottom": null,
      "display": null,
      "flex": null,
      "flex_flow": null,
      "grid_area": null,
      "grid_auto_columns": null,
      "grid_auto_flow": null,
      "grid_auto_rows": null,
      "grid_column": null,
      "grid_gap": null,
      "grid_row": null,
      "grid_template_areas": null,
      "grid_template_columns": null,
      "grid_template_rows": null,
      "height": null,
      "justify_content": null,
      "justify_items": null,
      "left": null,
      "margin": null,
      "max_height": null,
      "max_width": null,
      "min_height": null,
      "min_width": null,
      "object_fit": null,
      "object_position": null,
      "order": null,
      "overflow": null,
      "overflow_x": null,
      "overflow_y": null,
      "padding": null,
      "right": null,
      "top": null,
      "visibility": null,
      "width": null
     }
    },
    "83f3fcfc48424b1a97c8eb23a6033f88": {
     "model_module": "@jupyter-widgets/base",
     "model_module_version": "1.2.0",
     "model_name": "LayoutModel",
     "state": {
      "_model_module": "@jupyter-widgets/base",
      "_model_module_version": "1.2.0",
      "_model_name": "LayoutModel",
      "_view_count": null,
      "_view_module": "@jupyter-widgets/base",
      "_view_module_version": "1.2.0",
      "_view_name": "LayoutView",
      "align_content": null,
      "align_items": null,
      "align_self": null,
      "border": null,
      "bottom": null,
      "display": null,
      "flex": null,
      "flex_flow": null,
      "grid_area": null,
      "grid_auto_columns": null,
      "grid_auto_flow": null,
      "grid_auto_rows": null,
      "grid_column": null,
      "grid_gap": null,
      "grid_row": null,
      "grid_template_areas": null,
      "grid_template_columns": null,
      "grid_template_rows": null,
      "height": null,
      "justify_content": null,
      "justify_items": null,
      "left": null,
      "margin": null,
      "max_height": null,
      "max_width": null,
      "min_height": null,
      "min_width": null,
      "object_fit": null,
      "object_position": null,
      "order": null,
      "overflow": null,
      "overflow_x": null,
      "overflow_y": null,
      "padding": null,
      "right": null,
      "top": null,
      "visibility": null,
      "width": null
     }
    },
    "850ab56aaf01482289f8e820ed734772": {
     "model_module": "@jupyter-widgets/controls",
     "model_module_version": "1.5.0",
     "model_name": "DescriptionStyleModel",
     "state": {
      "_model_module": "@jupyter-widgets/controls",
      "_model_module_version": "1.5.0",
      "_model_name": "DescriptionStyleModel",
      "_view_count": null,
      "_view_module": "@jupyter-widgets/base",
      "_view_module_version": "1.2.0",
      "_view_name": "StyleView",
      "description_width": ""
     }
    },
    "88da2538b6a84321a51b7e44aa5072f4": {
     "model_module": "@jupyter-widgets/controls",
     "model_module_version": "1.5.0",
     "model_name": "DescriptionStyleModel",
     "state": {
      "_model_module": "@jupyter-widgets/controls",
      "_model_module_version": "1.5.0",
      "_model_name": "DescriptionStyleModel",
      "_view_count": null,
      "_view_module": "@jupyter-widgets/base",
      "_view_module_version": "1.2.0",
      "_view_name": "StyleView",
      "description_width": ""
     }
    },
    "8d6c5ac06cc14694aa8db1824cc26c69": {
     "model_module": "@jupyter-widgets/controls",
     "model_module_version": "1.5.0",
     "model_name": "DescriptionStyleModel",
     "state": {
      "_model_module": "@jupyter-widgets/controls",
      "_model_module_version": "1.5.0",
      "_model_name": "DescriptionStyleModel",
      "_view_count": null,
      "_view_module": "@jupyter-widgets/base",
      "_view_module_version": "1.2.0",
      "_view_name": "StyleView",
      "description_width": ""
     }
    },
    "91f2bae34e0a40bd8bfa4b0ed63356c3": {
     "model_module": "@jupyter-widgets/base",
     "model_module_version": "1.2.0",
     "model_name": "LayoutModel",
     "state": {
      "_model_module": "@jupyter-widgets/base",
      "_model_module_version": "1.2.0",
      "_model_name": "LayoutModel",
      "_view_count": null,
      "_view_module": "@jupyter-widgets/base",
      "_view_module_version": "1.2.0",
      "_view_name": "LayoutView",
      "align_content": null,
      "align_items": null,
      "align_self": null,
      "border": null,
      "bottom": null,
      "display": null,
      "flex": null,
      "flex_flow": null,
      "grid_area": null,
      "grid_auto_columns": null,
      "grid_auto_flow": null,
      "grid_auto_rows": null,
      "grid_column": null,
      "grid_gap": null,
      "grid_row": null,
      "grid_template_areas": null,
      "grid_template_columns": null,
      "grid_template_rows": null,
      "height": null,
      "justify_content": null,
      "justify_items": null,
      "left": null,
      "margin": null,
      "max_height": null,
      "max_width": null,
      "min_height": null,
      "min_width": null,
      "object_fit": null,
      "object_position": null,
      "order": null,
      "overflow": null,
      "overflow_x": null,
      "overflow_y": null,
      "padding": null,
      "right": null,
      "top": null,
      "visibility": null,
      "width": null
     }
    },
    "93af597352744cba989652ae182feaf6": {
     "model_module": "@jupyter-widgets/controls",
     "model_module_version": "1.5.0",
     "model_name": "HTMLModel",
     "state": {
      "_dom_classes": [],
      "_model_module": "@jupyter-widgets/controls",
      "_model_module_version": "1.5.0",
      "_model_name": "HTMLModel",
      "_view_count": null,
      "_view_module": "@jupyter-widgets/controls",
      "_view_module_version": "1.5.0",
      "_view_name": "HTMLView",
      "description": "",
      "description_tooltip": null,
      "layout": "IPY_MODEL_83f3fcfc48424b1a97c8eb23a6033f88",
      "placeholder": "​",
      "style": "IPY_MODEL_33974e32d9424636beafc414275106ec",
      "value": " 2/2 [00:01&lt;00:00,  1.51it/s]"
     }
    },
    "9549233577cf4bf287b3ddc32b7a4906": {
     "model_module": "@jupyter-widgets/controls",
     "model_module_version": "1.5.0",
     "model_name": "ProgressStyleModel",
     "state": {
      "_model_module": "@jupyter-widgets/controls",
      "_model_module_version": "1.5.0",
      "_model_name": "ProgressStyleModel",
      "_view_count": null,
      "_view_module": "@jupyter-widgets/base",
      "_view_module_version": "1.2.0",
      "_view_name": "StyleView",
      "bar_color": null,
      "description_width": ""
     }
    },
    "975d6ce931f841e58d2e5da838144982": {
     "model_module": "@jupyter-widgets/controls",
     "model_module_version": "1.5.0",
     "model_name": "ProgressStyleModel",
     "state": {
      "_model_module": "@jupyter-widgets/controls",
      "_model_module_version": "1.5.0",
      "_model_name": "ProgressStyleModel",
      "_view_count": null,
      "_view_module": "@jupyter-widgets/base",
      "_view_module_version": "1.2.0",
      "_view_name": "StyleView",
      "bar_color": null,
      "description_width": ""
     }
    },
    "a36bab6b2fce4fd7bc6b866819e66f8d": {
     "model_module": "@jupyter-widgets/controls",
     "model_module_version": "1.5.0",
     "model_name": "HBoxModel",
     "state": {
      "_dom_classes": [],
      "_model_module": "@jupyter-widgets/controls",
      "_model_module_version": "1.5.0",
      "_model_name": "HBoxModel",
      "_view_count": null,
      "_view_module": "@jupyter-widgets/controls",
      "_view_module_version": "1.5.0",
      "_view_name": "HBoxView",
      "box_style": "",
      "children": [
       "IPY_MODEL_114ae958086545b09eef37983fcebb5a",
       "IPY_MODEL_c1fb8297d78d4750a9d26894150464f2",
       "IPY_MODEL_5e0c6452af784ad2936d92fa2948be57"
      ],
      "layout": "IPY_MODEL_c774786ef380471380f5664cd66d7a28"
     }
    },
    "a84fb5aa57424198a9e85ca63467fdd0": {
     "model_module": "@jupyter-widgets/controls",
     "model_module_version": "1.5.0",
     "model_name": "HTMLModel",
     "state": {
      "_dom_classes": [],
      "_model_module": "@jupyter-widgets/controls",
      "_model_module_version": "1.5.0",
      "_model_name": "HTMLModel",
      "_view_count": null,
      "_view_module": "@jupyter-widgets/controls",
      "_view_module_version": "1.5.0",
      "_view_name": "HTMLView",
      "description": "",
      "description_tooltip": null,
      "layout": "IPY_MODEL_e2341420b8854859b14a8a580d202d0e",
      "placeholder": "​",
      "style": "IPY_MODEL_88da2538b6a84321a51b7e44aa5072f4",
      "value": "README.md: 100%"
     }
    },
    "aa9e71e4a60140198f7004cbda8338af": {
     "model_module": "@jupyter-widgets/controls",
     "model_module_version": "1.5.0",
     "model_name": "HBoxModel",
     "state": {
      "_dom_classes": [],
      "_model_module": "@jupyter-widgets/controls",
      "_model_module_version": "1.5.0",
      "_model_name": "HBoxModel",
      "_view_count": null,
      "_view_module": "@jupyter-widgets/controls",
      "_view_module_version": "1.5.0",
      "_view_name": "HBoxView",
      "box_style": "",
      "children": [
       "IPY_MODEL_a84fb5aa57424198a9e85ca63467fdd0",
       "IPY_MODEL_b09cde23a8524ce2840284c2e5d81e4f",
       "IPY_MODEL_f2e8070969044a4dbaead33245341e7f"
      ],
      "layout": "IPY_MODEL_38d69222a5504525ae7a362bc585673e"
     }
    },
    "ae119bf7fb4547b994a1b1576dd00c6d": {
     "model_module": "@jupyter-widgets/base",
     "model_module_version": "1.2.0",
     "model_name": "LayoutModel",
     "state": {
      "_model_module": "@jupyter-widgets/base",
      "_model_module_version": "1.2.0",
      "_model_name": "LayoutModel",
      "_view_count": null,
      "_view_module": "@jupyter-widgets/base",
      "_view_module_version": "1.2.0",
      "_view_name": "LayoutView",
      "align_content": null,
      "align_items": null,
      "align_self": null,
      "border": null,
      "bottom": null,
      "display": null,
      "flex": null,
      "flex_flow": null,
      "grid_area": null,
      "grid_auto_columns": null,
      "grid_auto_flow": null,
      "grid_auto_rows": null,
      "grid_column": null,
      "grid_gap": null,
      "grid_row": null,
      "grid_template_areas": null,
      "grid_template_columns": null,
      "grid_template_rows": null,
      "height": null,
      "justify_content": null,
      "justify_items": null,
      "left": null,
      "margin": null,
      "max_height": null,
      "max_width": null,
      "min_height": null,
      "min_width": null,
      "object_fit": null,
      "object_position": null,
      "order": null,
      "overflow": null,
      "overflow_x": null,
      "overflow_y": null,
      "padding": null,
      "right": null,
      "top": null,
      "visibility": null,
      "width": null
     }
    },
    "b09cde23a8524ce2840284c2e5d81e4f": {
     "model_module": "@jupyter-widgets/controls",
     "model_module_version": "1.5.0",
     "model_name": "FloatProgressModel",
     "state": {
      "_dom_classes": [],
      "_model_module": "@jupyter-widgets/controls",
      "_model_module_version": "1.5.0",
      "_model_name": "FloatProgressModel",
      "_view_count": null,
      "_view_module": "@jupyter-widgets/controls",
      "_view_module_version": "1.5.0",
      "_view_name": "ProgressView",
      "bar_style": "success",
      "description": "",
      "description_tooltip": null,
      "layout": "IPY_MODEL_324f654f19f84313b14fb885a7495e39",
      "max": 5174,
      "min": 0,
      "orientation": "horizontal",
      "style": "IPY_MODEL_5bc2a6afd8ef4029a58f8a460e6ac8ef",
      "value": 5174
     }
    },
    "b9354a70924f44f785454f095fa6bfc3": {
     "model_module": "@jupyter-widgets/controls",
     "model_module_version": "1.5.0",
     "model_name": "DescriptionStyleModel",
     "state": {
      "_model_module": "@jupyter-widgets/controls",
      "_model_module_version": "1.5.0",
      "_model_name": "DescriptionStyleModel",
      "_view_count": null,
      "_view_module": "@jupyter-widgets/base",
      "_view_module_version": "1.2.0",
      "_view_name": "StyleView",
      "description_width": ""
     }
    },
    "bb590f0663a344b19ec80ef1547aa967": {
     "model_module": "@jupyter-widgets/controls",
     "model_module_version": "1.5.0",
     "model_name": "HBoxModel",
     "state": {
      "_dom_classes": [],
      "_model_module": "@jupyter-widgets/controls",
      "_model_module_version": "1.5.0",
      "_model_name": "HBoxModel",
      "_view_count": null,
      "_view_module": "@jupyter-widgets/controls",
      "_view_module_version": "1.5.0",
      "_view_name": "HBoxView",
      "box_style": "",
      "children": [
       "IPY_MODEL_320ae1408d044d629de8c500fa43628a",
       "IPY_MODEL_c22e570ef4b84177a5c2dfbd1773c13a",
       "IPY_MODEL_93af597352744cba989652ae182feaf6"
      ],
      "layout": "IPY_MODEL_c1975412056f4d82a09929c78dd86952"
     }
    },
    "c1975412056f4d82a09929c78dd86952": {
     "model_module": "@jupyter-widgets/base",
     "model_module_version": "1.2.0",
     "model_name": "LayoutModel",
     "state": {
      "_model_module": "@jupyter-widgets/base",
      "_model_module_version": "1.2.0",
      "_model_name": "LayoutModel",
      "_view_count": null,
      "_view_module": "@jupyter-widgets/base",
      "_view_module_version": "1.2.0",
      "_view_name": "LayoutView",
      "align_content": null,
      "align_items": null,
      "align_self": null,
      "border": null,
      "bottom": null,
      "display": null,
      "flex": null,
      "flex_flow": null,
      "grid_area": null,
      "grid_auto_columns": null,
      "grid_auto_flow": null,
      "grid_auto_rows": null,
      "grid_column": null,
      "grid_gap": null,
      "grid_row": null,
      "grid_template_areas": null,
      "grid_template_columns": null,
      "grid_template_rows": null,
      "height": null,
      "justify_content": null,
      "justify_items": null,
      "left": null,
      "margin": null,
      "max_height": null,
      "max_width": null,
      "min_height": null,
      "min_width": null,
      "object_fit": null,
      "object_position": null,
      "order": null,
      "overflow": null,
      "overflow_x": null,
      "overflow_y": null,
      "padding": null,
      "right": null,
      "top": null,
      "visibility": null,
      "width": null
     }
    },
    "c1fb8297d78d4750a9d26894150464f2": {
     "model_module": "@jupyter-widgets/controls",
     "model_module_version": "1.5.0",
     "model_name": "FloatProgressModel",
     "state": {
      "_dom_classes": [],
      "_model_module": "@jupyter-widgets/controls",
      "_model_module_version": "1.5.0",
      "_model_name": "FloatProgressModel",
      "_view_count": null,
      "_view_module": "@jupyter-widgets/controls",
      "_view_module_version": "1.5.0",
      "_view_name": "ProgressView",
      "bar_style": "success",
      "description": "",
      "description_tooltip": null,
      "layout": "IPY_MODEL_ccc6d21ae39440f99a4f5130eba562e5",
      "max": 11422654,
      "min": 0,
      "orientation": "horizontal",
      "style": "IPY_MODEL_4b68a6a8fb504347aba6dd1c7d9e0c2b",
      "value": 11422654
     }
    },
    "c22e570ef4b84177a5c2dfbd1773c13a": {
     "model_module": "@jupyter-widgets/controls",
     "model_module_version": "1.5.0",
     "model_name": "FloatProgressModel",
     "state": {
      "_dom_classes": [],
      "_model_module": "@jupyter-widgets/controls",
      "_model_module_version": "1.5.0",
      "_model_name": "FloatProgressModel",
      "_view_count": null,
      "_view_module": "@jupyter-widgets/controls",
      "_view_module_version": "1.5.0",
      "_view_name": "ProgressView",
      "bar_style": "success",
      "description": "",
      "description_tooltip": null,
      "layout": "IPY_MODEL_330e71b59d07460aa1411a1e506bf83a",
      "max": 2,
      "min": 0,
      "orientation": "horizontal",
      "style": "IPY_MODEL_9549233577cf4bf287b3ddc32b7a4906",
      "value": 2
     }
    },
    "c774786ef380471380f5664cd66d7a28": {
     "model_module": "@jupyter-widgets/base",
     "model_module_version": "1.2.0",
     "model_name": "LayoutModel",
     "state": {
      "_model_module": "@jupyter-widgets/base",
      "_model_module_version": "1.2.0",
      "_model_name": "LayoutModel",
      "_view_count": null,
      "_view_module": "@jupyter-widgets/base",
      "_view_module_version": "1.2.0",
      "_view_name": "LayoutView",
      "align_content": null,
      "align_items": null,
      "align_self": null,
      "border": null,
      "bottom": null,
      "display": null,
      "flex": null,
      "flex_flow": null,
      "grid_area": null,
      "grid_auto_columns": null,
      "grid_auto_flow": null,
      "grid_auto_rows": null,
      "grid_column": null,
      "grid_gap": null,
      "grid_row": null,
      "grid_template_areas": null,
      "grid_template_columns": null,
      "grid_template_rows": null,
      "height": null,
      "justify_content": null,
      "justify_items": null,
      "left": null,
      "margin": null,
      "max_height": null,
      "max_width": null,
      "min_height": null,
      "min_width": null,
      "object_fit": null,
      "object_position": null,
      "order": null,
      "overflow": null,
      "overflow_x": null,
      "overflow_y": null,
      "padding": null,
      "right": null,
      "top": null,
      "visibility": null,
      "width": null
     }
    },
    "ccc6d21ae39440f99a4f5130eba562e5": {
     "model_module": "@jupyter-widgets/base",
     "model_module_version": "1.2.0",
     "model_name": "LayoutModel",
     "state": {
      "_model_module": "@jupyter-widgets/base",
      "_model_module_version": "1.2.0",
      "_model_name": "LayoutModel",
      "_view_count": null,
      "_view_module": "@jupyter-widgets/base",
      "_view_module_version": "1.2.0",
      "_view_name": "LayoutView",
      "align_content": null,
      "align_items": null,
      "align_self": null,
      "border": null,
      "bottom": null,
      "display": null,
      "flex": null,
      "flex_flow": null,
      "grid_area": null,
      "grid_auto_columns": null,
      "grid_auto_flow": null,
      "grid_auto_rows": null,
      "grid_column": null,
      "grid_gap": null,
      "grid_row": null,
      "grid_template_areas": null,
      "grid_template_columns": null,
      "grid_template_rows": null,
      "height": null,
      "justify_content": null,
      "justify_items": null,
      "left": null,
      "margin": null,
      "max_height": null,
      "max_width": null,
      "min_height": null,
      "min_width": null,
      "object_fit": null,
      "object_position": null,
      "order": null,
      "overflow": null,
      "overflow_x": null,
      "overflow_y": null,
      "padding": null,
      "right": null,
      "top": null,
      "visibility": null,
      "width": null
     }
    },
    "cf16ebf8efd04c458d31398ef87dc3bc": {
     "model_module": "@jupyter-widgets/base",
     "model_module_version": "1.2.0",
     "model_name": "LayoutModel",
     "state": {
      "_model_module": "@jupyter-widgets/base",
      "_model_module_version": "1.2.0",
      "_model_name": "LayoutModel",
      "_view_count": null,
      "_view_module": "@jupyter-widgets/base",
      "_view_module_version": "1.2.0",
      "_view_name": "LayoutView",
      "align_content": null,
      "align_items": null,
      "align_self": null,
      "border": null,
      "bottom": null,
      "display": null,
      "flex": null,
      "flex_flow": null,
      "grid_area": null,
      "grid_auto_columns": null,
      "grid_auto_flow": null,
      "grid_auto_rows": null,
      "grid_column": null,
      "grid_gap": null,
      "grid_row": null,
      "grid_template_areas": null,
      "grid_template_columns": null,
      "grid_template_rows": null,
      "height": null,
      "justify_content": null,
      "justify_items": null,
      "left": null,
      "margin": null,
      "max_height": null,
      "max_width": null,
      "min_height": null,
      "min_width": null,
      "object_fit": null,
      "object_position": null,
      "order": null,
      "overflow": null,
      "overflow_x": null,
      "overflow_y": null,
      "padding": null,
      "right": null,
      "top": null,
      "visibility": null,
      "width": null
     }
    },
    "e1c02e6dcd8f49b6bf4de4ae367c3a75": {
     "model_module": "@jupyter-widgets/base",
     "model_module_version": "1.2.0",
     "model_name": "LayoutModel",
     "state": {
      "_model_module": "@jupyter-widgets/base",
      "_model_module_version": "1.2.0",
      "_model_name": "LayoutModel",
      "_view_count": null,
      "_view_module": "@jupyter-widgets/base",
      "_view_module_version": "1.2.0",
      "_view_name": "LayoutView",
      "align_content": null,
      "align_items": null,
      "align_self": null,
      "border": null,
      "bottom": null,
      "display": null,
      "flex": null,
      "flex_flow": null,
      "grid_area": null,
      "grid_auto_columns": null,
      "grid_auto_flow": null,
      "grid_auto_rows": null,
      "grid_column": null,
      "grid_gap": null,
      "grid_row": null,
      "grid_template_areas": null,
      "grid_template_columns": null,
      "grid_template_rows": null,
      "height": null,
      "justify_content": null,
      "justify_items": null,
      "left": null,
      "margin": null,
      "max_height": null,
      "max_width": null,
      "min_height": null,
      "min_width": null,
      "object_fit": null,
      "object_position": null,
      "order": null,
      "overflow": null,
      "overflow_x": null,
      "overflow_y": null,
      "padding": null,
      "right": null,
      "top": null,
      "visibility": null,
      "width": null
     }
    },
    "e2341420b8854859b14a8a580d202d0e": {
     "model_module": "@jupyter-widgets/base",
     "model_module_version": "1.2.0",
     "model_name": "LayoutModel",
     "state": {
      "_model_module": "@jupyter-widgets/base",
      "_model_module_version": "1.2.0",
      "_model_name": "LayoutModel",
      "_view_count": null,
      "_view_module": "@jupyter-widgets/base",
      "_view_module_version": "1.2.0",
      "_view_name": "LayoutView",
      "align_content": null,
      "align_items": null,
      "align_self": null,
      "border": null,
      "bottom": null,
      "display": null,
      "flex": null,
      "flex_flow": null,
      "grid_area": null,
      "grid_auto_columns": null,
      "grid_auto_flow": null,
      "grid_auto_rows": null,
      "grid_column": null,
      "grid_gap": null,
      "grid_row": null,
      "grid_template_areas": null,
      "grid_template_columns": null,
      "grid_template_rows": null,
      "height": null,
      "justify_content": null,
      "justify_items": null,
      "left": null,
      "margin": null,
      "max_height": null,
      "max_width": null,
      "min_height": null,
      "min_width": null,
      "object_fit": null,
      "object_position": null,
      "order": null,
      "overflow": null,
      "overflow_x": null,
      "overflow_y": null,
      "padding": null,
      "right": null,
      "top": null,
      "visibility": null,
      "width": null
     }
    },
    "f2e8070969044a4dbaead33245341e7f": {
     "model_module": "@jupyter-widgets/controls",
     "model_module_version": "1.5.0",
     "model_name": "HTMLModel",
     "state": {
      "_dom_classes": [],
      "_model_module": "@jupyter-widgets/controls",
      "_model_module_version": "1.5.0",
      "_model_name": "HTMLModel",
      "_view_count": null,
      "_view_module": "@jupyter-widgets/controls",
      "_view_module_version": "1.5.0",
      "_view_name": "HTMLView",
      "description": "",
      "description_tooltip": null,
      "layout": "IPY_MODEL_ae119bf7fb4547b994a1b1576dd00c6d",
      "placeholder": "​",
      "style": "IPY_MODEL_8d6c5ac06cc14694aa8db1824cc26c69",
      "value": " 5.17k/5.17k [00:00&lt;00:00, 687kB/s]"
     }
    },
    "f3efecf67e374e1c959fe13b4c75446f": {
     "model_module": "@jupyter-widgets/base",
     "model_module_version": "1.2.0",
     "model_name": "LayoutModel",
     "state": {
      "_model_module": "@jupyter-widgets/base",
      "_model_module_version": "1.2.0",
      "_model_name": "LayoutModel",
      "_view_count": null,
      "_view_module": "@jupyter-widgets/base",
      "_view_module_version": "1.2.0",
      "_view_name": "LayoutView",
      "align_content": null,
      "align_items": null,
      "align_self": null,
      "border": null,
      "bottom": null,
      "display": null,
      "flex": null,
      "flex_flow": null,
      "grid_area": null,
      "grid_auto_columns": null,
      "grid_auto_flow": null,
      "grid_auto_rows": null,
      "grid_column": null,
      "grid_gap": null,
      "grid_row": null,
      "grid_template_areas": null,
      "grid_template_columns": null,
      "grid_template_rows": null,
      "height": null,
      "justify_content": null,
      "justify_items": null,
      "left": null,
      "margin": null,
      "max_height": null,
      "max_width": null,
      "min_height": null,
      "min_width": null,
      "object_fit": null,
      "object_position": null,
      "order": null,
      "overflow": null,
      "overflow_x": null,
      "overflow_y": null,
      "padding": null,
      "right": null,
      "top": null,
      "visibility": null,
      "width": null
     }
    }
   }
  }
 },
 "nbformat": 4,
 "nbformat_minor": 0
}
