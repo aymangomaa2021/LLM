{
 "cells": [
  {
   "cell_type": "markdown",
   "metadata": {
    "id": "27GmewgZ7hRi"
   },
   "source": [
    "Fine tune Base Model**"
   ]
  },
  {
   "cell_type": "markdown",
   "metadata": {
    "id": "NO1yjdut7Zea"
   },
   "source": [
    "##Installing Dependencies"
   ]
  },
  {
   "cell_type": "code",
   "execution_count": 29,
   "metadata": {
    "executionInfo": {
     "elapsed": 9441,
     "status": "ok",
     "timestamp": 1746810609797,
     "user": {
      "displayName": "Ayman Gomaa",
      "userId": "08700742472508547470"
     },
     "user_tz": 300
    },
    "id": "uM-ZLuzh7Cdm"
   },
   "outputs": [],
   "source": [
    "%%capture installation_log\n",
    "!pip install --no-build-isolation axolotl[deepspeed]\n",
    "!pip install wandb\n",
    "!pip install -q datasets"
   ]
  },
  {
   "cell_type": "code",
   "execution_count": 30,
   "metadata": {
    "executionInfo": {
     "elapsed": 2,
     "status": "ok",
     "timestamp": 1746810609801,
     "user": {
      "displayName": "Ayman Gomaa",
      "userId": "08700742472508547470"
     },
     "user_tz": 300
    },
    "id": "f4ol4BL68CpG"
   },
   "outputs": [],
   "source": [
    "from datasets import load_dataset ,DatasetDict\n",
    "import json\n",
    "import pandas as pd\n",
    "from pprint import pprint\n",
    "import torch\n",
    "assert (torch.cuda.is_available()==True)\n",
    "from peft import AutoPeftModelForCausalLM\n",
    "from transformers import AutoTokenizer, AutoConfig\n",
    "from huggingface_hub import HfApi, ModelCard, ModelCardData"
   ]
  },
  {
   "cell_type": "code",
   "execution_count": 31,
   "metadata": {
    "executionInfo": {
     "elapsed": 772,
     "status": "ok",
     "timestamp": 1746810610588,
     "user": {
      "displayName": "Ayman Gomaa",
      "userId": "08700742472508547470"
     },
     "user_tz": 300
    },
    "id": "-08rZxbU8EEJ"
   },
   "outputs": [],
   "source": [
    "from google.colab import userdata\n",
    "import os\n",
    "os.environ[\"HF_TOKEN\"] = userdata.get('HF_TOKEN') # make sure to use the name you used for your secret\n",
    "os.environ[\"WANDB_API_KEY\"] = userdata.get('WANDB_API_KEY') # make sure to use the name you used for your secret\n",
    "hf_profile = 'aymangomaa'"
   ]
  },
  {
   "cell_type": "markdown",
   "metadata": {
    "id": "KOLeUIE3_geL"
   },
   "source": [
    "## Load Dataset"
   ]
  },
  {
   "cell_type": "code",
   "execution_count": null,
   "metadata": {
    "colab": {
     "base_uri": "https://localhost:8080/"
    },
    "executionInfo": {
     "elapsed": 3315,
     "status": "ok",
     "timestamp": 1746810613905,
     "user": {
      "displayName": "Ayman Gomaa",
      "userId": "08700742472508547470"
     },
     "user_tz": 300
    },
    "id": "91T_g4Gv_nEi",
    "outputId": "9f2ec0d7-c02f-440d-f613-32418344074a"
   },
   "outputs": [
    {
     "data": {
      "text/plain": [
       "DatasetDict({\n",
       "    train: Dataset({\n",
       "        features: ['text', 'relations'],\n",
       "        num_rows: 3843\n",
       "    })\n",
       "    test: Dataset({\n",
       "        features: ['text', 'relations'],\n",
       "        num_rows: 428\n",
       "    })\n",
       "})"
      ]
     },
     "execution_count": 32,
     "metadata": {},
     "output_type": "execute_result"
    }
   ],
   "source": [
    "from datasets import load_dataset\n",
    "\n",
    "summarization_dataset = load_dataset(\"entity_extraction\")\n",
    "summarization_dataset\n"
   ]
  },
  {
   "cell_type": "code",
   "execution_count": 33,
   "metadata": {
    "colab": {
     "base_uri": "https://localhost:8080/"
    },
    "executionInfo": {
     "elapsed": 7,
     "status": "ok",
     "timestamp": 1746810613915,
     "user": {
      "displayName": "Ayman Gomaa",
      "userId": "08700742472508547470"
     },
     "user_tz": 300
    },
    "id": "4iDRuacB_vVs",
    "outputId": "23a84b0d-2653-463e-e515-545c00062d06"
   },
   "outputs": [
    {
     "name": "stdout",
     "output_type": "stream",
     "text": [
      "{'relations': [{'ade': 'bilateral pulmonary infiltrates',\n",
      "                'drug': 'methotrexate'}],\n",
      " 'text': 'Three patients received respectively 190 mg, 175 mg, and 196 mg of '\n",
      "         'methotrexate and developed bilateral pulmonary infiltrates without '\n",
      "         'evidence of peripheral blood eosinophilia.'}\n"
     ]
    }
   ],
   "source": [
    "pprint(summarization_dataset['train'][4])"
   ]
  },
  {
   "cell_type": "markdown",
   "metadata": {
    "id": "ZzHkyKvFAiN3"
   },
   "source": [
    "# Transform and save Dataset"
   ]
  },
  {
   "cell_type": "code",
   "execution_count": 34,
   "metadata": {
    "executionInfo": {
     "elapsed": 3,
     "status": "ok",
     "timestamp": 1746810613919,
     "user": {
      "displayName": "Ayman Gomaa",
      "userId": "08700742472508547470"
     },
     "user_tz": 300
    },
    "id": "gaUQ6xNWAiyx"
   },
   "outputs": [],
   "source": [
    "def transform_example(example):\n",
    "    \"\"\"\n",
    "    Transform each ADE example into a chat-style prompt with multiple ADE-drug pairs in text.\n",
    "    Ensures the assistant's response is valid JSON.\n",
    "    \"\"\"\n",
    "    instruction = f\"Extract all adverse drug effect (ADE) relationships from the sentence. ### TEXT: {example['text']}\"\n",
    "    answer = json.dumps(example[\"relations\"], ensure_ascii=False)\n",
    "    return {\n",
    "        \"messages\": [\n",
    "            {\"role\": \"user\", \"content\": instruction},\n",
    "            {\"role\": \"assistant\", \"content\": answer}\n",
    "        ]\n",
    "    }\n"
   ]
  },
  {
   "cell_type": "code",
   "execution_count": 35,
   "metadata": {
    "executionInfo": {
     "elapsed": 5,
     "status": "ok",
     "timestamp": 1746810613925,
     "user": {
      "displayName": "Ayman Gomaa",
      "userId": "08700742472508547470"
     },
     "user_tz": 300
    },
    "id": "-ORD3GmsBuyn"
   },
   "outputs": [],
   "source": [
    "summarization_dataset_chat = summarization_dataset.map(transform_example)"
   ]
  },
  {
   "cell_type": "code",
   "execution_count": 36,
   "metadata": {
    "colab": {
     "base_uri": "https://localhost:8080/"
    },
    "executionInfo": {
     "elapsed": 36,
     "status": "ok",
     "timestamp": 1746810613975,
     "user": {
      "displayName": "Ayman Gomaa",
      "userId": "08700742472508547470"
     },
     "user_tz": 300
    },
    "id": "rixrElIFB4fZ",
    "outputId": "efc38fa6-bc08-4f1a-d389-8b30d6ebccec"
   },
   "outputs": [
    {
     "data": {
      "text/plain": [
       "DatasetDict({\n",
       "    train: Dataset({\n",
       "        features: ['text', 'relations', 'messages'],\n",
       "        num_rows: 3843\n",
       "    })\n",
       "    test: Dataset({\n",
       "        features: ['text', 'relations', 'messages'],\n",
       "        num_rows: 428\n",
       "    })\n",
       "})"
      ]
     },
     "execution_count": 36,
     "metadata": {},
     "output_type": "execute_result"
    }
   ],
   "source": [
    "summarization_dataset_chat"
   ]
  },
  {
   "cell_type": "code",
   "execution_count": 37,
   "metadata": {
    "colab": {
     "base_uri": "https://localhost:8080/"
    },
    "executionInfo": {
     "elapsed": 7,
     "status": "ok",
     "timestamp": 1746810613983,
     "user": {
      "displayName": "Ayman Gomaa",
      "userId": "08700742472508547470"
     },
     "user_tz": 300
    },
    "id": "IOODY2IeCSp8",
    "outputId": "b4ba20cd-bde6-4d70-e695-955c8b58f0dc"
   },
   "outputs": [
    {
     "name": "stdout",
     "output_type": "stream",
     "text": [
      "[{'content': 'Extract all adverse drug effect (ADE) relationships from the '\n",
      "             'sentence. ### TEXT: Three patients received respectively 190 mg, '\n",
      "             '175 mg, and 196 mg of methotrexate and developed bilateral '\n",
      "             'pulmonary infiltrates without evidence of peripheral blood '\n",
      "             'eosinophilia.',\n",
      "  'role': 'user'},\n",
      " {'content': '[{\"ade\": \"bilateral pulmonary infiltrates\", \"drug\": '\n",
      "             '\"methotrexate\"}]',\n",
      "  'role': 'assistant'}]\n"
     ]
    }
   ],
   "source": [
    "pprint(summarization_dataset_chat['train'][4]['messages'])"
   ]
  },
  {
   "cell_type": "code",
   "execution_count": 38,
   "metadata": {
    "executionInfo": {
     "elapsed": 2,
     "status": "ok",
     "timestamp": 1746810613986,
     "user": {
      "displayName": "Ayman Gomaa",
      "userId": "08700742472508547470"
     },
     "user_tz": 300
    },
    "id": "ajHrLbcVKvyt"
   },
   "outputs": [],
   "source": [
    "#  Split the train split into train + validation (e.g. 90/10)\n",
    "split_train = summarization_dataset_chat[\"train\"].train_test_split(test_size=0.1, seed=42)\n",
    "train_data = split_train[\"train\"]\n",
    "val_data = split_train[\"test\"]\n",
    "test_data = summarization_dataset_chat[\"test\"]"
   ]
  },
  {
   "cell_type": "code",
   "execution_count": 39,
   "metadata": {
    "executionInfo": {
     "elapsed": 2,
     "status": "ok",
     "timestamp": 1746810613990,
     "user": {
      "displayName": "Ayman Gomaa",
      "userId": "08700742472508547470"
     },
     "user_tz": 300
    },
    "id": "4kv6O-arK7vK"
   },
   "outputs": [],
   "source": [
    "# Step 3: Create final dataset with proper splits\n",
    "final_dataset = DatasetDict({\n",
    "    \"train\": train_data,\n",
    "    \"validation\": val_data,\n",
    "    \"test\": test_data\n",
    "})"
   ]
  },
  {
   "cell_type": "code",
   "execution_count": 40,
   "metadata": {
    "colab": {
     "base_uri": "https://localhost:8080/",
     "height": 336,
     "referenced_widgets": [
      "88b345a1a7184de5b757e0432a8b2e35",
      "347770e554b2448d87cb0b2c44b45d11",
      "2234407ac576427bb7ec962cc7033a5c",
      "2a8bd21860d44a20b0ee487e12600bcd",
      "791f2f7b9b904e208e3800900aee4d60",
      "b2d40a2cf1f8427f9542dd706a26cde8",
      "e22b2ee01dc343d98d5bea10deb6382d",
      "112843b237364fd5b2f17bb2cc25f628",
      "635ca788a64646fe8b122c46a9874b2f",
      "e3e73d6180e24258b48627ecdfe3e38a",
      "821b243eeade48d5ab67bd86a107c07b",
      "ff18794791b94bd5954ecfde3d6b838d",
      "14ff18c371c24afca9d815c296eef3c1",
      "8c03b68662a94ce9addc781f46d84cad",
      "aec67d7d177b469d8b448408b5178751",
      "010c78b6c3c74d22bf6f5643aaa50b32",
      "37760d3304c342a3a6f1d34589e77688",
      "0f0aaba2c8b14066866d4ce0dabba977",
      "46ba4dfae6a24acca95c3f160a28b388",
      "481e48c1a6d74db9bc96813341f81a99",
      "a9eb9a182b6742eaa53df532c9f6601f",
      "d044a6747f514baf8934343471373a93",
      "55e4661f4436418895eae9209f33e2cf",
      "dec368eb0a564d60b79795a566288f12",
      "403e0c16ed2a4ebf8df7d799a0002a2a",
      "becb184ecab2408aa5ed469db5c8546d",
      "1729a85f2c3b47d7bb822e54cb5eb448",
      "3771674812fd4bf495ad5f8a258363f9",
      "be17504522f646639acb10c125b00d29",
      "e8130129fa724aa2bceaa0025991ff74",
      "e5c7f9d75da04ab594c3345049d200a0",
      "f0c45eccf88c4bb8a2182643ec05a495",
      "c52f78d0abf64fe4975c24bf0d9b4cd2",
      "ba88109311734915908e01e16d14e7bd",
      "066d9dc8a30e43a38367c02fa2db5148",
      "e09f4237871f47b18118bd6aebcbe870",
      "af406947c5164f6896067e4d8211325c",
      "660559bede7444608bab683aaeb117f5",
      "f0ad6ac7059748179c207024cf12f09e",
      "a6c4edb976184d2e95b53f4a2db3d98f",
      "f2b0030da82141d1a6af64d55b9ceaa5",
      "bcd0aa7fa667481496e2cc9847d8ae45",
      "6ebb708d3752496dacb6dae6eaeda8ed",
      "576bedf2c7a947528e13634dd28ccde3",
      "89b4fd1d42cb4d808d1b8f0e1c37509e",
      "a9c04daf3f1e4fd2b79a6c2b2b4d5c3e",
      "533246d4b2e8408ca0f76857137f2448",
      "0ae97832ecc5492e96ad0971db38b5ef",
      "f5494db9c0874ab689811da1a83744b8",
      "e7593326bee7427ead82d78e14c1216b",
      "5740efbf38ee4afeb10cfce541f5d003",
      "ae8f9796be2a47428bf37482da8852ca",
      "196be705e2124636b312c7138c953759",
      "8aa492bc71d64ca6bd8e97f31f5eeae3",
      "87e9e5e91cc94896b21d7f095623709e",
      "99286241764f47f69e0f1cf15d30cb02",
      "dbb572a3e59a43b78dbff544e32f01c9",
      "d1ea5c792c2b41ae98177d959bafbe2c",
      "70e81014befa4db3a4928387f793b168",
      "7b2a066f1cb54348866e6e1a8739f422",
      "ac5c9914f7d645ebb7a26645ff2d6152",
      "f933a871da364ba082d5752dd5a4289d",
      "4f4cf1b9f42546529df3874ae53885e2",
      "aa469b8a98e344f98e0482f3479f483d",
      "43b5eb86911e4b509f365ec6ffb8f917",
      "1208c4039af1480ea145db5ab7af187f"
     ]
    },
    "executionInfo": {
     "elapsed": 4608,
     "status": "ok",
     "timestamp": 1746810618599,
     "user": {
      "displayName": "Ayman Gomaa",
      "userId": "08700742472508547470"
     },
     "user_tz": 300
    },
    "id": "eRe3IdRRE8my",
    "outputId": "1238c9ef-e51a-4d3c-b55d-f7efe82acaaf"
   },
   "outputs": [
    {
     "data": {
      "application/vnd.jupyter.widget-view+json": {
       "model_id": "88b345a1a7184de5b757e0432a8b2e35",
       "version_major": 2,
       "version_minor": 0
      },
      "text/plain": [
       "Uploading the dataset shards:   0%|          | 0/1 [00:00<?, ?it/s]"
      ]
     },
     "metadata": {},
     "output_type": "display_data"
    },
    {
     "data": {
      "application/vnd.jupyter.widget-view+json": {
       "model_id": "ff18794791b94bd5954ecfde3d6b838d",
       "version_major": 2,
       "version_minor": 0
      },
      "text/plain": [
       "Creating parquet from Arrow format:   0%|          | 0/4 [00:00<?, ?ba/s]"
      ]
     },
     "metadata": {},
     "output_type": "display_data"
    },
    {
     "data": {
      "application/vnd.jupyter.widget-view+json": {
       "model_id": "55e4661f4436418895eae9209f33e2cf",
       "version_major": 2,
       "version_minor": 0
      },
      "text/plain": [
       "Uploading the dataset shards:   0%|          | 0/1 [00:00<?, ?it/s]"
      ]
     },
     "metadata": {},
     "output_type": "display_data"
    },
    {
     "data": {
      "application/vnd.jupyter.widget-view+json": {
       "model_id": "ba88109311734915908e01e16d14e7bd",
       "version_major": 2,
       "version_minor": 0
      },
      "text/plain": [
       "Creating parquet from Arrow format:   0%|          | 0/1 [00:00<?, ?ba/s]"
      ]
     },
     "metadata": {},
     "output_type": "display_data"
    },
    {
     "data": {
      "application/vnd.jupyter.widget-view+json": {
       "model_id": "89b4fd1d42cb4d808d1b8f0e1c37509e",
       "version_major": 2,
       "version_minor": 0
      },
      "text/plain": [
       "Uploading the dataset shards:   0%|          | 0/1 [00:00<?, ?it/s]"
      ]
     },
     "metadata": {},
     "output_type": "display_data"
    },
    {
     "data": {
      "application/vnd.jupyter.widget-view+json": {
       "model_id": "99286241764f47f69e0f1cf15d30cb02",
       "version_major": 2,
       "version_minor": 0
      },
      "text/plain": [
       "Creating parquet from Arrow format:   0%|          | 0/1 [00:00<?, ?ba/s]"
      ]
     },
     "metadata": {},
     "output_type": "display_data"
    },
    {
     "name": "stderr",
     "output_type": "stream",
     "text": [
      "No files have been modified since last commit. Skipping to prevent empty commit.\n",
      "WARNING:huggingface_hub.hf_api:No files have been modified since last commit. Skipping to prevent empty commit.\n"
     ]
    },
    {
     "data": {
      "application/vnd.google.colaboratory.intrinsic+json": {
       "type": "string"
      },
      "text/plain": [
       "CommitInfo(commit_url='https://huggingface.co/datasets/aymangomaa/entity_extraction_ade_v2_chat_base/commit/b5f236901f0a64267e271f5dfe47ebf6b209469b', commit_message='Upload dataset', commit_description='', oid='b5f236901f0a64267e271f5dfe47ebf6b209469b', pr_url=None, repo_url=RepoUrl('https://huggingface.co/datasets/aymangomaa/entity_extraction_ade_v2_chat_base', endpoint='https://huggingface.co', repo_type='dataset', repo_id='aymangomaa/entity_extraction_ade_v2_chat_base'), pr_revision=None, pr_num=None)"
      ]
     },
     "execution_count": 40,
     "metadata": {},
     "output_type": "execute_result"
    }
   ],
   "source": [
    "# push to hub\n",
    "final_dataset.push_to_hub(f\"{hf_profile}/entity_extraction_ade_v2_chat_base\")\n"
   ]
  },
  {
   "cell_type": "markdown",
   "metadata": {
    "id": "jCVCPDIeFVCP"
   },
   "source": [
    "## Training Parameters"
   ]
  },
  {
   "cell_type": "code",
   "execution_count": 41,
   "metadata": {
    "executionInfo": {
     "elapsed": 6,
     "status": "ok",
     "timestamp": 1746810618606,
     "user": {
      "displayName": "Ayman Gomaa",
      "userId": "08700742472508547470"
     },
     "user_tz": 300
    },
    "id": "Ek4ijI5qF08H"
   },
   "outputs": [],
   "source": [
    "import yaml"
   ]
  },
  {
   "cell_type": "code",
   "execution_count": 42,
   "metadata": {
    "executionInfo": {
     "elapsed": 3,
     "status": "ok",
     "timestamp": 1746810618611,
     "user": {
      "displayName": "Ayman Gomaa",
      "userId": "08700742472508547470"
     },
     "user_tz": 300
    },
    "id": "o7E0m9ZdFPup"
   },
   "outputs": [],
   "source": [
    "# Define variables\n",
    "dataset_prepared_path = './prepared_data/'\n",
    "output_dir = './outputs/'\n",
    "data_download_path = f\"{hf_profile}/entity_extraction_ade_v2_chat_base\"\n",
    "wandb_project = 'hw3_base'\n",
    "base_model = 'Qwen/Qwen3-1.7B-Base'"
   ]
  },
  {
   "cell_type": "code",
   "execution_count": 43,
   "metadata": {
    "executionInfo": {
     "elapsed": 15,
     "status": "ok",
     "timestamp": 1746810618628,
     "user": {
      "displayName": "Ayman Gomaa",
      "userId": "08700742472508547470"
     },
     "user_tz": 300
    },
    "id": "kEBgHfP4F7Q4"
   },
   "outputs": [],
   "source": [
    "# Use template with placeholders\n",
    "yaml_template = \"\"\"\n",
    "seed: 42\n",
    "torch_seed: 42\n",
    "\n",
    "datasets:\n",
    "  - path: ${DATASET_PATH}\n",
    "    field_messages: messages\n",
    "    type: chat_template\n",
    "    chat_template: jinja\n",
    "    chat_template_jinja: |\n",
    "      {%- for message in messages -%}\n",
    "        {%- if message['role'] == 'user' -%}\n",
    "          {{ message['content'] }}\n",
    "        {%- elif message['role'] == 'assistant' -%}\n",
    "          ### LABEL: {{ message['content'] }}{{eos_token}}\n",
    "        {%- endif -%}\n",
    "      {%- endfor -%}\n",
    "    train_on_split: train\n",
    "\n",
    "test_datasets:\n",
    "  - path: ${DATASET_PATH}\n",
    "    type: chat_template\n",
    "    chat_template: jinja\n",
    "    field_messages: messages\n",
    "    chat_template_jinja: |\n",
    "      {%- for message in messages -%}\n",
    "        {%- if message['role'] == 'user' -%}\n",
    "          {{ message['content'] }}\n",
    "        {%- elif message['role'] == 'assistant' -%}\n",
    "          ### LABEL: {{ message['content'] }}{{eos_token}}\n",
    "        {%- endif -%}\n",
    "      {%- endfor -%}\n",
    "    split: validation\n",
    "\n",
    "train_on_inputs : false\n",
    "\n",
    "base_model: ${BASE_MODEL}\n",
    "load_in_4bit: true\n",
    "adapter: qlora\n",
    "lora_r: 128\n",
    "lora_alpha: 256\n",
    "lora_dropout: 0.01\n",
    "lora_target_linear: true\n",
    "\n",
    "learning_rate: 2e-5\n",
    "lr_scheduler: cosine\n",
    "num_epochs: 1\n",
    "optimizer: paged_adamw_8bit\n",
    "warmup_ratio: 0.2\n",
    "\n",
    "eval_strategy: steps\n",
    "eval_steps: 0.1\n",
    "max_steps: 50\n",
    "save_strategy: \"steps\"\n",
    "save_steps: 0.1\n",
    "save_total_limit: 2\n",
    "load_best_model_at_end: true\n",
    "metric_for_best_model: eval_loss\n",
    "greater_is_better: false\n",
    "\n",
    "sequence_len: 512\n",
    "pad_to_sequence_len: true\n",
    "\n",
    "micro_batch_size: 4\n",
    "gradient_accumulation_steps: 4\n",
    "gradient_checkpointing: true\n",
    "\n",
    "sample_packing: false\n",
    "group_by_length: false\n",
    "dataset_prepared_path: ${PREPARED_PATH}\n",
    "output_dir: ${OUTPUT_DIR}\n",
    "\n",
    "bf16: true\n",
    "fp16: false\n",
    "tf32: false\n",
    "flash_attention: false\n",
    "sdp_attention: true\n",
    "\n",
    "wandb_project: ${WANDB_PROJECT}\n",
    "wandb_name: drug-ade-extraction-finetuned-base-4\n",
    "\"\"\""
   ]
  },
  {
   "cell_type": "code",
   "execution_count": 44,
   "metadata": {
    "executionInfo": {
     "elapsed": 1,
     "status": "ok",
     "timestamp": 1746810618632,
     "user": {
      "displayName": "Ayman Gomaa",
      "userId": "08700742472508547470"
     },
     "user_tz": 300
    },
    "id": "fLSCZhkvNnGF"
   },
   "outputs": [],
   "source": [
    "# Define variables\n",
    "variables = {\n",
    "    \"${DATASET_PATH}\": data_download_path,\n",
    "    \"${PREPARED_PATH}\": dataset_prepared_path,\n",
    "    \"${OUTPUT_DIR}\": output_dir,\n",
    "    \"${WANDB_PROJECT}\": wandb_project,\n",
    "    \"${BASE_MODEL}\": base_model\n",
    "}\n",
    "\n",
    "# Replace all placeholders at once\n",
    "yaml_content = yaml_template\n",
    "for placeholder, value in variables.items():\n",
    "    yaml_content = yaml_content.replace(placeholder, value)"
   ]
  },
  {
   "cell_type": "code",
   "execution_count": 45,
   "metadata": {
    "colab": {
     "base_uri": "https://localhost:8080/"
    },
    "executionInfo": {
     "elapsed": 7,
     "status": "ok",
     "timestamp": 1746810618640,
     "user": {
      "displayName": "Ayman Gomaa",
      "userId": "08700742472508547470"
     },
     "user_tz": 300
    },
    "id": "iVuuujK-Npgz",
    "outputId": "4ca1c1bb-b83f-46a8-f95c-f80965f1a228"
   },
   "outputs": [
    {
     "name": "stdout",
     "output_type": "stream",
     "text": [
      "training.yaml has been created successfully!\n"
     ]
    }
   ],
   "source": [
    "# Write to training.yaml file\n",
    "with open('training.yaml', 'w') as file:\n",
    "    file.write(yaml_content)\n",
    "\n",
    "print(\"training.yaml has been created successfully!\")"
   ]
  },
  {
   "cell_type": "code",
   "execution_count": 46,
   "metadata": {
    "colab": {
     "base_uri": "https://localhost:8080/"
    },
    "executionInfo": {
     "elapsed": 644,
     "status": "ok",
     "timestamp": 1746810619285,
     "user": {
      "displayName": "Ayman Gomaa",
      "userId": "08700742472508547470"
     },
     "user_tz": 300
    },
    "id": "e4BtBrUWoxQQ",
    "outputId": "1857e6e5-d274-479f-f8ab-889ef7d88cb9"
   },
   "outputs": [
    {
     "name": "stdout",
     "output_type": "stream",
     "text": [
      "Drive already mounted at /content/drive; to attempt to forcibly remount, call drive.mount(\"/content/drive\", force_remount=True).\n"
     ]
    }
   ],
   "source": [
    "from google.colab import drive\n",
    "drive.mount('/content/drive')"
   ]
  },
  {
   "cell_type": "markdown",
   "metadata": {
    "id": "HRSp61ZmOjGv"
   },
   "source": [
    "## Dataset Preprocessing"
   ]
  },
  {
   "cell_type": "code",
   "execution_count": 47,
   "metadata": {
    "executionInfo": {
     "elapsed": 104,
     "status": "ok",
     "timestamp": 1746810619391,
     "user": {
      "displayName": "Ayman Gomaa",
      "userId": "08700742472508547470"
     },
     "user_tz": 300
    },
    "id": "99IGnE9iOl08"
   },
   "outputs": [],
   "source": [
    "!rm -rf {dataset_prepared_path}"
   ]
  },
  {
   "cell_type": "code",
   "execution_count": 48,
   "metadata": {
    "colab": {
     "base_uri": "https://localhost:8080/"
    },
    "executionInfo": {
     "elapsed": 38393,
     "status": "ok",
     "timestamp": 1746810657786,
     "user": {
      "displayName": "Ayman Gomaa",
      "userId": "08700742472508547470"
     },
     "user_tz": 300
    },
    "id": "_YTRRLfFOqt1",
    "outputId": "8ce21927-5391-426c-e32f-27c34c66232e"
   },
   "outputs": [
    {
     "name": "stdout",
     "output_type": "stream",
     "text": [
      "2025-05-09 17:10:26.508826: E external/local_xla/xla/stream_executor/cuda/cuda_fft.cc:477] Unable to register cuFFT factory: Attempting to register factory for plugin cuFFT when one has already been registered\n",
      "WARNING: All log messages before absl::InitializeLog() is called are written to STDERR\n",
      "E0000 00:00:1746810626.531189   81306 cuda_dnn.cc:8310] Unable to register cuDNN factory: Attempting to register factory for plugin cuDNN when one has already been registered\n",
      "E0000 00:00:1746810626.537934   81306 cuda_blas.cc:1418] Unable to register cuBLAS factory: Attempting to register factory for plugin cuBLAS when one has already been registered\n",
      "[2025-05-09 17:10:29,002] [INFO] [numexpr.utils._init_num_threads:162] [PID:81306] NumExpr defaulting to 8 threads.\n",
      "[2025-05-09 17:10:30,108] [INFO] [real_accelerator.py:219:get_accelerator] Setting ds_accelerator to cuda (auto detect)\n",
      "[2025-05-09 17:10:30,198] [INFO] [root.spawn:60] [PID:81306] x86_64-linux-gnu-gcc -Wsign-compare -DNDEBUG -g -fwrapv -O2 -Wall -g -fstack-protector-strong -Wformat -Werror=format-security -g -fwrapv -O2 -fPIC -c /tmp/tmpbsi1pxcw/test.c -o /tmp/tmpbsi1pxcw/test.o\n",
      "[2025-05-09 17:10:30,263] [INFO] [root.spawn:60] [PID:81306] x86_64-linux-gnu-gcc /tmp/tmpbsi1pxcw/test.o -laio -o /tmp/tmpbsi1pxcw/a.out\n",
      "[2025-05-09 17:10:30,356] [INFO] [root.spawn:60] [PID:81306] x86_64-linux-gnu-gcc -Wsign-compare -DNDEBUG -g -fwrapv -O2 -Wall -g -fstack-protector-strong -Wformat -Werror=format-security -g -fwrapv -O2 -fPIC -c /tmp/tmpegqjsv67/test.c -o /tmp/tmpegqjsv67/test.o\n",
      "[2025-05-09 17:10:30,374] [INFO] [root.spawn:60] [PID:81306] x86_64-linux-gnu-gcc /tmp/tmpegqjsv67/test.o -L/usr/local/cuda -L/usr/local/cuda/lib64 -lcufile -o /tmp/tmpegqjsv67/a.out\n",
      "[2025-05-09 17:10:30,421] [INFO] [root.spawn:60] [PID:81306] x86_64-linux-gnu-gcc -Wsign-compare -DNDEBUG -g -fwrapv -O2 -Wall -g -fstack-protector-strong -Wformat -Werror=format-security -g -fwrapv -O2 -fPIC -c /tmp/tmp4o7hv2d0/test.c -o /tmp/tmp4o7hv2d0/test.o\n",
      "[2025-05-09 17:10:30,438] [INFO] [root.spawn:60] [PID:81306] x86_64-linux-gnu-gcc /tmp/tmp4o7hv2d0/test.o -laio -o /tmp/tmp4o7hv2d0/a.out\n",
      "[2025-05-09 17:10:31,611] [INFO] [datasets.<module>:54] [PID:81306] PyTorch version 2.6.0+cu124 available.\n",
      "[2025-05-09 17:10:31,612] [INFO] [datasets.<module>:66] [PID:81306] Polars version 1.21.0 available.\n",
      "[2025-05-09 17:10:31,612] [INFO] [datasets.<module>:77] [PID:81306] Duckdb version 1.2.2 available.\n",
      "[2025-05-09 17:10:31,613] [INFO] [datasets.<module>:112] [PID:81306] TensorFlow version 2.18.0 available.\n",
      "[2025-05-09 17:10:31,613] [INFO] [datasets.<module>:125] [PID:81306] JAX version 0.5.2 available.\n",
      "\u001b[33m[2025-05-09 17:10:34,712] [WARNING] [axolotl.utils.schemas.config.check_auto_enable_lora_kernels:1372] [PID:81306] [RANK:0] Auto-enabling LoRA kernel optimizations for faster training. Please explicitly set `lora_*_kernel` config values to `false` to disable. See https://docs.axolotl.ai/docs/lora_optims.html for more info.\u001b[39m\n",
      "[2025-05-09 17:10:35,012] [INFO] [axolotl.normalize_config:237] [PID:81306] [RANK:0] cuda memory usage baseline: 0.000GB (+0.002GB cache, +1.119GB misc)\u001b[39m\n",
      "\n",
      "     #@@ #@@      @@# @@#\n",
      "    @@  @@          @@  @@           =@@#                               @@                 #@    =@@#.\n",
      "    @@    #@@@@@@@@@    @@           #@#@=                              @@                 #@     .=@@\n",
      "      #@@@@@@@@@@@@@@@@@            =@# @#     ##=     ##    =####=+    @@      =#####+  =#@@###.   @@\n",
      "    @@@@@@@@@@/  +@@/  +@@          #@  =@=     #@=   @@   =@#+  +#@#   @@    =@#+  +#@#   #@.      @@\n",
      "    @@@@@@@@@@  ##@@  ##@@         =@#   @#      =@# @#    @@      @@   @@    @@      #@   #@       @@\n",
      "     @@@@@@@@@@@@@@@@@@@@          #@=+++#@=      =@@#     @@      @@   @@    @@      #@   #@       @@\n",
      "                                  =@#=====@@     =@# @#    @@      @@   @@    @@      #@   #@       @@\n",
      "    @@@@@@@@@@@@@@@@  @@@@        #@      #@=   #@=  +@@   #@#    =@#   @@.   =@#    =@#   #@.      @@\n",
      "                                 =@#       @#  #@=     #@   =#@@@@#=    +#@@=  +#@@@@#=    .##@@+   @@\n",
      "    @@@@  @@@@@@@@@@@@@@@@\n",
      "\n",
      "[2025-05-09 17:10:36,147] [DEBUG] [axolotl.utils.models.load_tokenizer:441] [PID:81306] [RANK:0] EOS: 151645 / <|im_end|>\u001b[39m\n",
      "[2025-05-09 17:10:36,147] [DEBUG] [axolotl.utils.models.load_tokenizer:442] [PID:81306] [RANK:0] BOS: None / None\u001b[39m\n",
      "[2025-05-09 17:10:36,147] [DEBUG] [axolotl.utils.models.load_tokenizer:443] [PID:81306] [RANK:0] PAD: 151643 / <|endoftext|>\u001b[39m\n",
      "[2025-05-09 17:10:36,147] [DEBUG] [axolotl.utils.models.load_tokenizer:444] [PID:81306] [RANK:0] UNK: None / None\u001b[39m\n",
      "[2025-05-09 17:10:36,147] [INFO] [axolotl.utils.models.load_tokenizer:458] [PID:81306] [RANK:0] No Chat template selected. Consider adding a chat template for easier inference.\u001b[39m\n",
      "[2025-05-09 17:10:36,147] [INFO] [axolotl.utils.data.sft.load_tokenized_prepared_datasets:267] [PID:81306] [RANK:0] Skipping prepared dataset in prepared_data/49d1cf0b50a474a7a46ef8cb7d93c67d for pre-processing...\u001b[39m\n",
      "[2025-05-09 17:10:36,147] [INFO] [axolotl.utils.data.sft.load_tokenized_prepared_datasets:272] [PID:81306] [RANK:0] Loading raw datasets...\u001b[39m\n",
      "[2025-05-09 17:10:41,384] [INFO] [axolotl.utils.data.sft.get_dataset_wrapper:484] [PID:81306] [RANK:0] Loading dataset with base_type: chat_template and prompt_style: None\u001b[39m\n",
      "[2025-05-09 17:10:41,388] [INFO] [axolotl.__call__:761] [PID:81306] [RANK:0] Using chat template:\n",
      "---\n",
      "{%- for message in messages -%}\n",
      "  {%- if message['role'] == 'user' -%}\n",
      "    {{ message['content'] }}\n",
      "  {%- elif message['role'] == 'assistant' -%}\n",
      "    ### LABEL: {{ message['content'] }}{{eos_token}}\n",
      "  {%- endif -%}\n",
      "{%- endfor -%}\n",
      "\n",
      "---\u001b[39m\n",
      "Tokenizing Prompts (num_proc=8): 100% 3458/3458 [00:03<00:00, 1144.19 examples/s]\n",
      "[2025-05-09 17:10:44,734] [INFO] [axolotl.utils.data.utils.drop_long_seq_in_dataset:177] [PID:81306] [RANK:0] min_input_len: 42\u001b[39m\n",
      "[2025-05-09 17:10:44,734] [INFO] [axolotl.utils.data.utils.drop_long_seq_in_dataset:179] [PID:81306] [RANK:0] max_input_len: 531\u001b[39m\n",
      "Dropping Long Sequences (num_proc=8): 100% 3458/3458 [00:00<00:00, 17687.62 examples/s]\n",
      "\u001b[33m[2025-05-09 17:10:45,762] [WARNING] [axolotl.utils.data.utils.drop_long_seq_in_dataset:207] [PID:81306] [RANK:0] Dropped 1 long samples from dataset\u001b[39m\n",
      "[2025-05-09 17:10:45,762] [INFO] [axolotl.utils.data.sft.load_tokenized_prepared_datasets:351] [PID:81306] [RANK:0] Saving merged prepared dataset to disk... prepared_data/49d1cf0b50a474a7a46ef8cb7d93c67d\u001b[39m\n",
      "Saving the dataset (1/1 shards): 100% 3457/3457 [00:00<00:00, 91064.85 examples/s]\n",
      "[2025-05-09 17:10:45,803] [INFO] [axolotl.utils.data.sft.load_tokenized_prepared_datasets:267] [PID:81306] [RANK:0] Skipping prepared dataset in prepared_data/2e730dc49b6ccb76382fb4d0b288736b for pre-processing...\u001b[39m\n",
      "[2025-05-09 17:10:45,803] [INFO] [axolotl.utils.data.sft.load_tokenized_prepared_datasets:272] [PID:81306] [RANK:0] Loading raw datasets...\u001b[39m\n",
      "[2025-05-09 17:10:50,845] [INFO] [axolotl.utils.data.sft.get_dataset_wrapper:484] [PID:81306] [RANK:0] Loading dataset with base_type: chat_template and prompt_style: None\u001b[39m\n",
      "[2025-05-09 17:10:50,845] [INFO] [axolotl.__call__:761] [PID:81306] [RANK:0] Using chat template:\n",
      "---\n",
      "{%- for message in messages -%}\n",
      "  {%- if message['role'] == 'user' -%}\n",
      "    {{ message['content'] }}\n",
      "  {%- elif message['role'] == 'assistant' -%}\n",
      "    ### LABEL: {{ message['content'] }}{{eos_token}}\n",
      "  {%- endif -%}\n",
      "{%- endfor -%}\n",
      "\n",
      "---\u001b[39m\n",
      "Tokenizing Prompts (num_proc=8): 100% 385/385 [00:02<00:00, 160.84 examples/s]\n",
      "[2025-05-09 17:10:53,605] [INFO] [axolotl.utils.data.utils.drop_long_seq_in_dataset:177] [PID:81306] [RANK:0] min_input_len: 44\u001b[39m\n",
      "[2025-05-09 17:10:53,605] [INFO] [axolotl.utils.data.utils.drop_long_seq_in_dataset:179] [PID:81306] [RANK:0] max_input_len: 385\u001b[39m\n",
      "Dropping Long Sequences (num_proc=8): 100% 385/385 [00:00<00:00, 2112.52 examples/s]\n",
      "[2025-05-09 17:10:54,679] [INFO] [axolotl.utils.data.sft.load_tokenized_prepared_datasets:351] [PID:81306] [RANK:0] Saving merged prepared dataset to disk... prepared_data/2e730dc49b6ccb76382fb4d0b288736b\u001b[39m\n",
      "Saving the dataset (1/1 shards): 100% 385/385 [00:00<00:00, 42141.16 examples/s]\n",
      "[2025-05-09 17:10:55,400] [INFO] [axolotl.utils.data.sft.prepare_dataset:185] [PID:81306] [RANK:0] Maximum number of steps set at 50\u001b[39m\n",
      "[2025-05-09 17:10:55,400] [INFO] [axolotl.common.datasets.load_datasets:91] [PID:81306] [RANK:0] check_dataset_labels...\u001b[39m\n",
      "[2025-05-09 17:10:55,403] [INFO] [axolotl.check_example_labels:44] [PID:81306] [RANK:0] \u001b[31mExtract\u001b[0m\u001b[97m(-100, 28959)\u001b[0m \u001b[31m all\u001b[0m\u001b[97m(-100, 678)\u001b[0m \u001b[31m adverse\u001b[0m\u001b[97m(-100, 30859)\u001b[0m \u001b[31m drug\u001b[0m\u001b[97m(-100, 5506)\u001b[0m \u001b[31m effect\u001b[0m\u001b[97m(-100, 2456)\u001b[0m \u001b[31m (\u001b[0m\u001b[97m(-100, 320)\u001b[0m \u001b[31mADE\u001b[0m\u001b[97m(-100, 32841)\u001b[0m \u001b[31m)\u001b[0m\u001b[97m(-100, 8)\u001b[0m \u001b[31m relationships\u001b[0m\u001b[97m(-100, 11871)\u001b[0m \u001b[31m from\u001b[0m\u001b[97m(-100, 504)\u001b[0m \u001b[31m the\u001b[0m\u001b[97m(-100, 279)\u001b[0m \u001b[31m sentence\u001b[0m\u001b[97m(-100, 11652)\u001b[0m \u001b[31m.\u001b[0m\u001b[97m(-100, 13)\u001b[0m \u001b[31m ###\u001b[0m\u001b[97m(-100, 16600)\u001b[0m \u001b[31m TEXT\u001b[0m\u001b[97m(-100, 15762)\u001b[0m \u001b[31m:\u001b[0m\u001b[97m(-100, 25)\u001b[0m \u001b[31m An\u001b[0m\u001b[97m(-100, 1527)\u001b[0m \u001b[31mis\u001b[0m\u001b[97m(-100, 285)\u001b[0m \u001b[31moc\u001b[0m\u001b[97m(-100, 509)\u001b[0m \u001b[31moria\u001b[0m\u001b[97m(-100, 10782)\u001b[0m \u001b[31m from\u001b[0m\u001b[97m(-100, 504)\u001b[0m \u001b[31m trans\u001b[0m\u001b[97m(-100, 1356)\u001b[0m \u001b[31mder\u001b[0m\u001b[97m(-100, 1107)\u001b[0m \u001b[31mmal\u001b[0m\u001b[97m(-100, 14649)\u001b[0m \u001b[31m sc\u001b[0m\u001b[97m(-100, 1136)\u001b[0m \u001b[31mopol\u001b[0m\u001b[97m(-100, 27665)\u001b[0m \u001b[31mamine\u001b[0m\u001b[97m(-100, 19991)\u001b[0m \u001b[31m.\u001b[0m\u001b[97m(-100, 13)\u001b[0m \u001b[31m###\u001b[0m\u001b[97m(-100, 14374)\u001b[0m \u001b[31m LABEL\u001b[0m\u001b[97m(-100, 56874)\u001b[0m \u001b[31m:\u001b[0m\u001b[97m(-100, 25)\u001b[0m \u001b[32m [{\"\u001b[0m\u001b[97m(61753, 61753)\u001b[0m \u001b[32made\u001b[0m\u001b[97m(1021, 1021)\u001b[0m \u001b[32m\":\u001b[0m\u001b[97m(788, 788)\u001b[0m \u001b[32m \"\u001b[0m\u001b[97m(330, 330)\u001b[0m \u001b[32mAn\u001b[0m\u001b[97m(2082, 2082)\u001b[0m \u001b[32mis\u001b[0m\u001b[97m(285, 285)\u001b[0m \u001b[32moc\u001b[0m\u001b[97m(509, 509)\u001b[0m \u001b[32moria\u001b[0m\u001b[97m(10782, 10782)\u001b[0m \u001b[32m\",\u001b[0m\u001b[97m(497, 497)\u001b[0m \u001b[32m \"\u001b[0m\u001b[97m(330, 330)\u001b[0m \u001b[32mdrug\u001b[0m\u001b[97m(72721, 72721)\u001b[0m \u001b[32m\":\u001b[0m\u001b[97m(788, 788)\u001b[0m \u001b[32m \"\u001b[0m\u001b[97m(330, 330)\u001b[0m \u001b[32msc\u001b[0m\u001b[97m(2388, 2388)\u001b[0m \u001b[32mopol\u001b[0m\u001b[97m(27665, 27665)\u001b[0m \u001b[32mamine\u001b[0m\u001b[97m(19991, 19991)\u001b[0m \u001b[32m\"}\u001b[0m\u001b[97m(9207, 9207)\u001b[0m \u001b[32m]\u001b[0m\u001b[97m(60, 60)\u001b[0m \u001b[32m<|im_end|>\u001b[0m\u001b[97m(151645, 151645)\u001b[0m\u001b[39m\n",
      "[2025-05-09 17:10:55,403] [INFO] [axolotl.check_example_labels:45] [PID:81306] [RANK:0] \n",
      "\n",
      "\n",
      "\u001b[39m\n",
      "[2025-05-09 17:10:55,403] [INFO] [axolotl.check_example_labels:48] [PID:81306] [RANK:0] Total input len: 50\u001b[39m\n",
      "[2025-05-09 17:10:55,403] [INFO] [axolotl.check_example_labels:49] [PID:81306] [RANK:0] Count of labels: 19\u001b[39m\n",
      "[2025-05-09 17:10:55,403] [INFO] [axolotl.common.datasets.load_datasets:103] [PID:81306] [RANK:0] printing prompters...\u001b[39m\n",
      "[2025-05-09 17:10:55,403] [INFO] [axolotl.common.datasets.load_datasets:105] [PID:81306] [RANK:0] Pre-tokenized or custom dataset types are unsupported for logging\u001b[39m\n",
      "[2025-05-09 17:10:55,887] [INFO] [axolotl.cli.preprocess.do_preprocess:75] [PID:81306] [RANK:0] \u001b[32mSuccess! Preprocessed data path: `dataset_prepared_path: ./prepared_data/`\u001b[39m\u001b[39m\n",
      "\u001b[0m"
     ]
    }
   ],
   "source": [
    "!axolotl preprocess training.yaml --debug"
   ]
  },
  {
   "cell_type": "code",
   "execution_count": 49,
   "metadata": {
    "colab": {
     "base_uri": "https://localhost:8080/"
    },
    "executionInfo": {
     "elapsed": 631,
     "status": "ok",
     "timestamp": 1746810658420,
     "user": {
      "displayName": "Ayman Gomaa",
      "userId": "08700742472508547470"
     },
     "user_tz": 300
    },
    "id": "hsIMnnUSRfYk",
    "outputId": "06e32b45-cc84-4825-d27b-16f9c0c25d18"
   },
   "outputs": [
    {
     "name": "stdout",
     "output_type": "stream",
     "text": [
      "Found prepared directories: ['./prepared_data/49d1cf0b50a474a7a46ef8cb7d93c67d/', './prepared_data/2e730dc49b6ccb76382fb4d0b288736b/']\n"
     ]
    }
   ],
   "source": [
    "from transformers import AutoTokenizer\n",
    "from datasets import load_from_disk\n",
    "import pandas as pd\n",
    "import glob\n",
    "from pprint import pprint\n",
    "\n",
    "# Load your tokenizer\n",
    "model_id = base_model\n",
    "tokenizer = AutoTokenizer.from_pretrained(model_id)\n",
    "\n",
    "# Find the prepared dataset directories\n",
    "prepared_dirs = glob.glob(f'{dataset_prepared_path}/*/')\n",
    "print(f\"Found prepared directories: {prepared_dirs}\")"
   ]
  },
  {
   "cell_type": "code",
   "execution_count": 50,
   "metadata": {
    "executionInfo": {
     "elapsed": 14,
     "status": "ok",
     "timestamp": 1746810658438,
     "user": {
      "displayName": "Ayman Gomaa",
      "userId": "08700742472508547470"
     },
     "user_tz": 300
    },
    "id": "pN4Op6aDRkVn"
   },
   "outputs": [],
   "source": [
    "def display_token_stream(dataset_path, example_idx=0):\n",
    "    \"\"\"\n",
    "    Displays token information for a specific example as a continuous string.\n",
    "\n",
    "    Args:\n",
    "        example_idx: Index of the example to display (default: 0)\n",
    "    \"\"\"\n",
    "    try:\n",
    "        ds = load_from_disk(dataset_path)\n",
    "\n",
    "        if example_idx >= len(ds):\n",
    "            print(f\"Error: Example index {example_idx} out of range. Dataset has {len(ds)} examples.\")\n",
    "            return\n",
    "\n",
    "        # Get the example\n",
    "        row = ds[example_idx]\n",
    "\n",
    "        # Print dataset and example info\n",
    "        print(f\"\\nDataset: {dataset_path}\")\n",
    "        print(f\"Example {example_idx} of {len(ds)}\")\n",
    "        print(\"-\" * 80)\n",
    "\n",
    "        # Build the continuous token stream\n",
    "        result = \"\"\n",
    "        for token_id, label in zip(row['input_ids'], row['labels']):\n",
    "            # Decode the token\n",
    "            token_text = tokenizer.decode([token_id])\n",
    "            # Add token info to the stream\n",
    "            token_info = f\"<{token_text},{token_id},{label}> \"\n",
    "            result += token_info\n",
    "\n",
    "        # Print the continuous stream\n",
    "        print(\"Token Stream (<token_id,label,masked>):\")\n",
    "        pprint(result)\n",
    "\n",
    "        # Print the full text separately for easy reading\n",
    "        pprint(\"\\nFull decoded text:\")\n",
    "        pprint(tokenizer.decode(row['input_ids']))\n",
    "\n",
    "    except Exception as e:\n",
    "        print(f\"Error processing dataset: {e}\")"
   ]
  },
  {
   "cell_type": "code",
   "execution_count": 51,
   "metadata": {
    "colab": {
     "base_uri": "https://localhost:8080/"
    },
    "executionInfo": {
     "elapsed": 5,
     "status": "ok",
     "timestamp": 1746810658445,
     "user": {
      "displayName": "Ayman Gomaa",
      "userId": "08700742472508547470"
     },
     "user_tz": 300
    },
    "id": "cWQVEMuHRnIy",
    "outputId": "9da3dc98-a93f-49d9-ef66-523965a11675"
   },
   "outputs": [
    {
     "name": "stdout",
     "output_type": "stream",
     "text": [
      "\n",
      "Dataset: ./prepared_data/49d1cf0b50a474a7a46ef8cb7d93c67d/\n",
      "Example 4 of 3457\n",
      "--------------------------------------------------------------------------------\n",
      "Token Stream (<token_id,label,masked>):\n",
      "('<Extract,28959,-100> < all,678,-100> < adverse,30859,-100> < drug,5506,-100> '\n",
      " '< effect,2456,-100> < (,320,-100> <ADE,32841,-100> <),8,-100> < '\n",
      " 'relationships,11871,-100> < from,504,-100> < the,279,-100> < '\n",
      " 'sentence,11652,-100> <.,13,-100> < ###,16600,-100> < TEXT,15762,-100> '\n",
      " '<:,25,-100> < PURPOSE,7515,-100> <:,25,-100> < The,576,-100> < '\n",
      " 'occurrence,31559,-100> < of,315,-100> < my,847,-100> <oc,509,-100> '\n",
      " '<lon,12212,-100> <us,355,-100> < associated,5815,-100> < with,448,-100> < '\n",
      " 'continuous,19259,-100> < i,600,-100> <.v,3133,-100> <.,13,-100> < '\n",
      " 'infusion,70208,-100> < of,315,-100> < do,653,-100> <but,8088,-100> '\n",
      " '<amine,19991,-100> < in,304,-100> < a,264,-100> < patient,8720,-100> < '\n",
      " 'with,448,-100> < end,835,-100> <-stage,50156,-100> < renal,62815,-100> < '\n",
      " 'disease,8457,-100> < (,320,-100> <ES,1570,-100> <RD,36690,-100> <),8,-100> < '\n",
      " 'is,374,-100> < described,7481,-100> <.,13,-100> <###,14374,-100> < '\n",
      " 'LABEL,56874,-100> <:,25,-100> < [{\",61753,61753> <ade,1021,1021> '\n",
      " '<\":,788,788> < \",330,330> <my,2408,2408> <oc,509,509> <lon,12212,12212> '\n",
      " '<us,355,355> <\",,497,497> < \",330,330> <drug,72721,72721> <\":,788,788> < '\n",
      " '\",330,330> <dob,51016,51016> <ut,332,332> <amine,19991,19991> <\"},9207,9207> '\n",
      " '<],60,60> <<|im_end|>,151645,151645> ')\n",
      "'\\nFull decoded text:'\n",
      "('Extract all adverse drug effect (ADE) relationships from the sentence. ### '\n",
      " 'TEXT: PURPOSE: The occurrence of myoclonus associated with continuous i.v. '\n",
      " 'infusion of dobutamine in a patient with end-stage renal disease (ESRD) is '\n",
      " 'described.### LABEL: [{\"ade\": \"myoclonus\", \"drug\": \"dobutamine\"}]<|im_end|>')\n"
     ]
    }
   ],
   "source": [
    "display_token_stream(prepared_dirs[0], 4)"
   ]
  },
  {
   "cell_type": "code",
   "execution_count": 52,
   "metadata": {
    "colab": {
     "base_uri": "https://localhost:8080/"
    },
    "executionInfo": {
     "elapsed": 5,
     "status": "ok",
     "timestamp": 1746810658451,
     "user": {
      "displayName": "Ayman Gomaa",
      "userId": "08700742472508547470"
     },
     "user_tz": 300
    },
    "id": "kHDyrBzrUTB1",
    "outputId": "dacc1c8c-61dc-4047-8119-f4777e3b92cf"
   },
   "outputs": [
    {
     "name": "stdout",
     "output_type": "stream",
     "text": [
      "\n",
      "Dataset: ./prepared_data/49d1cf0b50a474a7a46ef8cb7d93c67d/\n",
      "Example 18 of 3457\n",
      "--------------------------------------------------------------------------------\n",
      "Token Stream (<token_id,label,masked>):\n",
      "('<Extract,28959,-100> < all,678,-100> < adverse,30859,-100> < drug,5506,-100> '\n",
      " '< effect,2456,-100> < (,320,-100> <ADE,32841,-100> <),8,-100> < '\n",
      " 'relationships,11871,-100> < from,504,-100> < the,279,-100> < '\n",
      " 'sentence,11652,-100> <.,13,-100> < ###,16600,-100> < TEXT,15762,-100> '\n",
      " '<:,25,-100> < These,4220,-100> < findings,14613,-100> < are,525,-100> < '\n",
      " 'consistent,12966,-100> < with,448,-100> < an,458,-100> < immune,22077,-100> '\n",
      " '<-com,11476,-100> <plex,9111,-100> < form,1352,-100> < of,315,-100> < '\n",
      " 'gl,2770,-100> <omer,25359,-100> <ul,360,-100> <opathy,52942,-100> < '\n",
      " 'in,304,-100> < which,892,-100> < gold,6623,-100> < is,374,-100> < '\n",
      " 'neither,13866,-100> < the,279,-100> < antigen,81989,-100> < nor,6329,-100> < '\n",
      " 'a,264,-100> < hap,45800,-100> <ten,1960,-100> < in,304,-100> < the,279,-100> '\n",
      " '< gl,2770,-100> <omer,25359,-100> <ular,1276,-100> < deposits,33651,-100> '\n",
      " '<,,11,-100> < and,323,-100> < they,807,-100> < suggest,4190,-100> < '\n",
      " 'the,279,-100> < hypothesis,30078,-100> < that,429,-100> < '\n",
      " 'antibodies,58754,-100> < to,311,-100> < tub,14938,-100> <ular,1276,-100> < '\n",
      " 'epith,63679,-100> <elial,58444,-100> < antig,67837,-100> <ens,724,-100> < '\n",
      " 'induced,35472,-100> < by,553,-100> < gold,6623,-100> < therapy,15069,-100> < '\n",
      " 'may,1231,-100> < be,387,-100> < a,264,-100> < caus,24524,-100> '\n",
      " '<ative,1388,-100> < factor,8168,-100> < in,304,-100> < the,279,-100> < '\n",
      " 'renal,62815,-100> < disease,8457,-100> < associated,5815,-100> < '\n",
      " 'with,448,-100> < gold,6623,-100> < therapy,15069,-100> < in,304,-100> < '\n",
      " 'rhe,67032,-100> <umat,45213,-100> <oid,588,-100> < arthritis,54552,-100> '\n",
      " '<.,13,-100> <###,14374,-100> < LABEL,56874,-100> <:,25,-100> < '\n",
      " '[{\",61753,61753> <ade,1021,1021> <\":,788,788> < \",330,330> '\n",
      " '<renal,46638,46638> < disease,8457,8457> <\",,497,497> < \",330,330> '\n",
      " '<drug,72721,72721> <\":,788,788> < \",330,330> <gold,34537,34537> '\n",
      " '<\"},9207,9207> <],60,60> <<|im_end|>,151645,151645> ')\n",
      "'\\nFull decoded text:'\n",
      "('Extract all adverse drug effect (ADE) relationships from the sentence. ### '\n",
      " 'TEXT: These findings are consistent with an immune-complex form of '\n",
      " 'glomerulopathy in which gold is neither the antigen nor a hapten in the '\n",
      " 'glomerular deposits, and they suggest the hypothesis that antibodies to '\n",
      " 'tubular epithelial antigens induced by gold therapy may be a causative '\n",
      " 'factor in the renal disease associated with gold therapy in rheumatoid '\n",
      " 'arthritis.### LABEL: [{\"ade\": \"renal disease\", \"drug\": \"gold\"}]<|im_end|>')\n"
     ]
    }
   ],
   "source": [
    "display_token_stream(prepared_dirs[0], 18)"
   ]
  },
  {
   "cell_type": "markdown",
   "metadata": {
    "id": "J_JcFYxEUgD7"
   },
   "source": [
    "## Model Training"
   ]
  },
  {
   "cell_type": "code",
   "execution_count": 53,
   "metadata": {
    "executionInfo": {
     "elapsed": 361,
     "status": "ok",
     "timestamp": 1746810658814,
     "user": {
      "displayName": "Ayman Gomaa",
      "userId": "08700742472508547470"
     },
     "user_tz": 300
    },
    "id": "PWfalQlyUkcq"
   },
   "outputs": [],
   "source": [
    "!rm -rf {output_dir}"
   ]
  },
  {
   "cell_type": "code",
   "execution_count": 54,
   "metadata": {
    "executionInfo": {
     "elapsed": 5700319,
     "status": "ok",
     "timestamp": 1746816359133,
     "user": {
      "displayName": "Ayman Gomaa",
      "userId": "08700742472508547470"
     },
     "user_tz": 300
    },
    "id": "DyPaFBxDUnjn"
   },
   "outputs": [],
   "source": [
    "%%capture output\n",
    "!accelerate launch -m axolotl.cli.train training.yaml\n",
    "\n",
    "\n"
   ]
  },
  {
   "cell_type": "code",
   "execution_count": 55,
   "metadata": {
    "colab": {
     "base_uri": "https://localhost:8080/"
    },
    "executionInfo": {
     "elapsed": 7,
     "status": "ok",
     "timestamp": 1746816359143,
     "user": {
      "displayName": "Ayman Gomaa",
      "userId": "08700742472508547470"
     },
     "user_tz": 300
    },
    "id": "5_I8ZP9B_bwt",
    "outputId": "08fe83e5-be4d-42b3-a197-a499dc622b54"
   },
   "outputs": [
    {
     "name": "stdout",
     "output_type": "stream",
     "text": [
      "\r                                   \r\u001b[A{'eval_loss': 0.38690173625946045, 'eval_runtime': 326.9748, 'eval_samples_per_second': 1.177, 'eval_steps_per_second': 0.297, 'epoch': 0.23}\n",
      "\r100% 50/50 [1:34:10<00:00, 69.10s/it]\n",
      "\r100% 97/97 [05:24<00:00,  2.94s/it]\u001b[A\n",
      "\r                                   \u001b[A\r                                     \r{'train_runtime': 5655.5607, 'train_samples_per_second': 0.141, 'train_steps_per_second': 0.009, 'train_loss': 0.6511673140525818, 'epoch': 0.23}\n",
      "\r100% 50/50 [1:34:13<00:00, 69.10s/it]\r100% 50/50 [1:34:13<00:00, 113.07s/it]\n",
      "[2025-05-09 18:45:46,784] [INFO] [axolotl.train.save_trained_model:231] [PID:81815] [RANK:0] Training completed! Saving pre-trained model to ./outputs/.\u001b[39m\n",
      "\u001b[1;34mwandb\u001b[0m: \n",
      "\u001b[1;34mwandb\u001b[0m: 🚀 View run \u001b[33mdrug-ade-extraction-finetuned-base-4\u001b[0m at: \u001b[34mhttps://wandb.ai/aymangomaa2005-utd/hw3_base/runs/hqy9d817\u001b[0m\n",
      "\u001b[1;34mwandb\u001b[0m: Find logs at: \u001b[1;35mwandb/run-20250509_171131-hqy9d817/logs\u001b[0m\n",
      "\u001b[0m\n"
     ]
    }
   ],
   "source": [
    "# output.show()\n",
    "print('\\n'.join(output.stdout.split('\\n')[-10:]))\n",
    "\n",
    "\n"
   ]
  },
  {
   "cell_type": "code",
   "execution_count": 56,
   "metadata": {
    "colab": {
     "base_uri": "https://localhost:8080/",
     "height": 202,
     "referenced_widgets": [
      "98b269ac653143da9a54b43d0ef04513",
      "43bad87b13374156b5f88dfef732a9e0",
      "ebb6e96bd2314a1f8ce0835929c4693a",
      "013c28724f524a608fa4817a97cc3396",
      "656c0a82f01c4911a594c67f551ceec1",
      "e9db4b8d678b4362bdcaa432fe37602b",
      "834eedfbd799477ba67a53736750f726",
      "a8ef03496e04422481c49544bfdc0958",
      "101f3b4f21f14136a271f519c248ddd8",
      "0ed4db34076a45a39673030d93b9d00c",
      "0ebf625c69dc49f2a2a754027245ec97",
      "74cb782f00ba41369da089aa37e939b7",
      "9756d904cfa84e89b47398ea35b1b5f9",
      "4bc16b99de48439fb1e8e49f0047c055",
      "e52823ea3a3445ae93f189eddf0a8e9e",
      "10b0b60bb2944041bfd56cde50deead7",
      "04b831bb22e9483db184383faf77e5f1",
      "addbaa841ff44841b8bd7b8831617f0a",
      "936bc86bb14f408cb1bc3ee2a7fa02a5",
      "5aafc74d602a4e79a9da3467f7095619",
      "d71fcd65e943451aac0292fb3e4fbdab",
      "de4eb3fe457042f7a6978b109d66e355",
      "9347180275344a0081399c6c18c26b10",
      "157f3910e5ed4d1483a9a932ad4a00a5",
      "92c9de612b4a4bf89eff0099a84dd5b2",
      "446ef97487d747449ad73598ccde0df9",
      "4dd74da609f44a498308703cb6e8c5c6",
      "d45de45d02374c92a228a7c0b95f4379",
      "0426e6bccfad4e98a95dd997f6b66a4c",
      "169e32ac3e7148c5a0deda9e5357e0ec",
      "582f24cb0dad4554afdf39745df809fb",
      "6c2b3061c0ed4df3966eb4bb4470e16f",
      "a1771debaa464f8a9c97312bc8e31cfd"
     ]
    },
    "executionInfo": {
     "elapsed": 46871,
     "status": "ok",
     "timestamp": 1746816406015,
     "user": {
      "displayName": "Ayman Gomaa",
      "userId": "08700742472508547470"
     },
     "user_tz": 300
    },
    "id": "mtaoQ1cD_dqs",
    "outputId": "a1665c93-be72-4135-94dd-a4e732d524b7"
   },
   "outputs": [
    {
     "data": {
      "application/vnd.jupyter.widget-view+json": {
       "model_id": "98b269ac653143da9a54b43d0ef04513",
       "version_major": 2,
       "version_minor": 0
      },
      "text/plain": [
       "adapter_model.safetensors:   0%|          | 0.00/558M [00:00<?, ?B/s]"
      ]
     },
     "metadata": {},
     "output_type": "display_data"
    },
    {
     "data": {
      "application/vnd.jupyter.widget-view+json": {
       "model_id": "74cb782f00ba41369da089aa37e939b7",
       "version_major": 2,
       "version_minor": 0
      },
      "text/plain": [
       "README.md:   0%|          | 0.00/5.17k [00:00<?, ?B/s]"
      ]
     },
     "metadata": {},
     "output_type": "display_data"
    },
    {
     "data": {
      "application/vnd.jupyter.widget-view+json": {
       "model_id": "9347180275344a0081399c6c18c26b10",
       "version_major": 2,
       "version_minor": 0
      },
      "text/plain": [
       "tokenizer.json:   0%|          | 0.00/11.4M [00:00<?, ?B/s]"
      ]
     },
     "metadata": {},
     "output_type": "display_data"
    },
    {
     "data": {
      "application/vnd.google.colaboratory.intrinsic+json": {
       "type": "string"
      },
      "text/plain": [
       "CommitInfo(commit_url='https://huggingface.co/aymangomaa/drug-ade-extraction-finetuned-base-4/commit/d2e979fbcb3002b9048a310229b5b6cd55bc0110', commit_message='Upload tokenizer', commit_description='', oid='d2e979fbcb3002b9048a310229b5b6cd55bc0110', pr_url=None, repo_url=RepoUrl('https://huggingface.co/aymangomaa/drug-ade-extraction-finetuned-base-4', endpoint='https://huggingface.co', repo_type='model', repo_id='aymangomaa/drug-ade-extraction-finetuned-base-4'), pr_revision=None, pr_num=None)"
      ]
     },
     "execution_count": 56,
     "metadata": {},
     "output_type": "execute_result"
    }
   ],
   "source": [
    "# push model to hub\n",
    "from peft import AutoPeftModelForCausalLM\n",
    "from transformers import AutoTokenizer\n",
    "repo_name = f\"{hf_profile}/drug-ade-extraction-finetuned-base-4\"\n",
    "# Load model with adapter\n",
    "model = AutoPeftModelForCausalLM.from_pretrained(output_dir)\n",
    "tokenizer = AutoTokenizer.from_pretrained(output_dir)\n",
    "\n",
    "# Push model to hub\n",
    "model.push_to_hub(repo_name)\n",
    "tokenizer.push_to_hub(repo_name)"
   ]
  }
 ],
 "metadata": {
  "accelerator": "GPU",
  "colab": {
   "authorship_tag": "ABX9TyPJRqhJtKpWQjUOfVZYLI5x",
   "gpuType": "T4",
   "machine_shape": "hm",
   "provenance": []
  },
  "kernelspec": {
   "display_name": "Python 3",
   "name": "python3"
  },
  "language_info": {
   "name": "python"
  },
  "widgets": {
   "application/vnd.jupyter.widget-state+json": {
    "010c78b6c3c74d22bf6f5643aaa50b32": {
     "model_module": "@jupyter-widgets/base",
     "model_module_version": "1.2.0",
     "model_name": "LayoutModel",
     "state": {
      "_model_module": "@jupyter-widgets/base",
      "_model_module_version": "1.2.0",
      "_model_name": "LayoutModel",
      "_view_count": null,
      "_view_module": "@jupyter-widgets/base",
      "_view_module_version": "1.2.0",
      "_view_name": "LayoutView",
      "align_content": null,
      "align_items": null,
      "align_self": null,
      "border": null,
      "bottom": null,
      "display": null,
      "flex": null,
      "flex_flow": null,
      "grid_area": null,
      "grid_auto_columns": null,
      "grid_auto_flow": null,
      "grid_auto_rows": null,
      "grid_column": null,
      "grid_gap": null,
      "grid_row": null,
      "grid_template_areas": null,
      "grid_template_columns": null,
      "grid_template_rows": null,
      "height": null,
      "justify_content": null,
      "justify_items": null,
      "left": null,
      "margin": null,
      "max_height": null,
      "max_width": null,
      "min_height": null,
      "min_width": null,
      "object_fit": null,
      "object_position": null,
      "order": null,
      "overflow": null,
      "overflow_x": null,
      "overflow_y": null,
      "padding": null,
      "right": null,
      "top": null,
      "visibility": null,
      "width": null
     }
    },
    "013c28724f524a608fa4817a97cc3396": {
     "model_module": "@jupyter-widgets/controls",
     "model_module_version": "1.5.0",
     "model_name": "HTMLModel",
     "state": {
      "_dom_classes": [],
      "_model_module": "@jupyter-widgets/controls",
      "_model_module_version": "1.5.0",
      "_model_name": "HTMLModel",
      "_view_count": null,
      "_view_module": "@jupyter-widgets/controls",
      "_view_module_version": "1.5.0",
      "_view_name": "HTMLView",
      "description": "",
      "description_tooltip": null,
      "layout": "IPY_MODEL_0ed4db34076a45a39673030d93b9d00c",
      "placeholder": "​",
      "style": "IPY_MODEL_0ebf625c69dc49f2a2a754027245ec97",
      "value": " 558M/558M [00:29&lt;00:00, 26.6MB/s]"
     }
    },
    "0426e6bccfad4e98a95dd997f6b66a4c": {
     "model_module": "@jupyter-widgets/controls",
     "model_module_version": "1.5.0",
     "model_name": "DescriptionStyleModel",
     "state": {
      "_model_module": "@jupyter-widgets/controls",
      "_model_module_version": "1.5.0",
      "_model_name": "DescriptionStyleModel",
      "_view_count": null,
      "_view_module": "@jupyter-widgets/base",
      "_view_module_version": "1.2.0",
      "_view_name": "StyleView",
      "description_width": ""
     }
    },
    "04b831bb22e9483db184383faf77e5f1": {
     "model_module": "@jupyter-widgets/base",
     "model_module_version": "1.2.0",
     "model_name": "LayoutModel",
     "state": {
      "_model_module": "@jupyter-widgets/base",
      "_model_module_version": "1.2.0",
      "_model_name": "LayoutModel",
      "_view_count": null,
      "_view_module": "@jupyter-widgets/base",
      "_view_module_version": "1.2.0",
      "_view_name": "LayoutView",
      "align_content": null,
      "align_items": null,
      "align_self": null,
      "border": null,
      "bottom": null,
      "display": null,
      "flex": null,
      "flex_flow": null,
      "grid_area": null,
      "grid_auto_columns": null,
      "grid_auto_flow": null,
      "grid_auto_rows": null,
      "grid_column": null,
      "grid_gap": null,
      "grid_row": null,
      "grid_template_areas": null,
      "grid_template_columns": null,
      "grid_template_rows": null,
      "height": null,
      "justify_content": null,
      "justify_items": null,
      "left": null,
      "margin": null,
      "max_height": null,
      "max_width": null,
      "min_height": null,
      "min_width": null,
      "object_fit": null,
      "object_position": null,
      "order": null,
      "overflow": null,
      "overflow_x": null,
      "overflow_y": null,
      "padding": null,
      "right": null,
      "top": null,
      "visibility": null,
      "width": null
     }
    },
    "066d9dc8a30e43a38367c02fa2db5148": {
     "model_module": "@jupyter-widgets/controls",
     "model_module_version": "1.5.0",
     "model_name": "HTMLModel",
     "state": {
      "_dom_classes": [],
      "_model_module": "@jupyter-widgets/controls",
      "_model_module_version": "1.5.0",
      "_model_name": "HTMLModel",
      "_view_count": null,
      "_view_module": "@jupyter-widgets/controls",
      "_view_module_version": "1.5.0",
      "_view_name": "HTMLView",
      "description": "",
      "description_tooltip": null,
      "layout": "IPY_MODEL_f0ad6ac7059748179c207024cf12f09e",
      "placeholder": "​",
      "style": "IPY_MODEL_a6c4edb976184d2e95b53f4a2db3d98f",
      "value": "Creating parquet from Arrow format: 100%"
     }
    },
    "0ae97832ecc5492e96ad0971db38b5ef": {
     "model_module": "@jupyter-widgets/controls",
     "model_module_version": "1.5.0",
     "model_name": "HTMLModel",
     "state": {
      "_dom_classes": [],
      "_model_module": "@jupyter-widgets/controls",
      "_model_module_version": "1.5.0",
      "_model_name": "HTMLModel",
      "_view_count": null,
      "_view_module": "@jupyter-widgets/controls",
      "_view_module_version": "1.5.0",
      "_view_name": "HTMLView",
      "description": "",
      "description_tooltip": null,
      "layout": "IPY_MODEL_8aa492bc71d64ca6bd8e97f31f5eeae3",
      "placeholder": "​",
      "style": "IPY_MODEL_87e9e5e91cc94896b21d7f095623709e",
      "value": " 1/1 [00:00&lt;00:00,  1.29it/s]"
     }
    },
    "0ebf625c69dc49f2a2a754027245ec97": {
     "model_module": "@jupyter-widgets/controls",
     "model_module_version": "1.5.0",
     "model_name": "DescriptionStyleModel",
     "state": {
      "_model_module": "@jupyter-widgets/controls",
      "_model_module_version": "1.5.0",
      "_model_name": "DescriptionStyleModel",
      "_view_count": null,
      "_view_module": "@jupyter-widgets/base",
      "_view_module_version": "1.2.0",
      "_view_name": "StyleView",
      "description_width": ""
     }
    },
    "0ed4db34076a45a39673030d93b9d00c": {
     "model_module": "@jupyter-widgets/base",
     "model_module_version": "1.2.0",
     "model_name": "LayoutModel",
     "state": {
      "_model_module": "@jupyter-widgets/base",
      "_model_module_version": "1.2.0",
      "_model_name": "LayoutModel",
      "_view_count": null,
      "_view_module": "@jupyter-widgets/base",
      "_view_module_version": "1.2.0",
      "_view_name": "LayoutView",
      "align_content": null,
      "align_items": null,
      "align_self": null,
      "border": null,
      "bottom": null,
      "display": null,
      "flex": null,
      "flex_flow": null,
      "grid_area": null,
      "grid_auto_columns": null,
      "grid_auto_flow": null,
      "grid_auto_rows": null,
      "grid_column": null,
      "grid_gap": null,
      "grid_row": null,
      "grid_template_areas": null,
      "grid_template_columns": null,
      "grid_template_rows": null,
      "height": null,
      "justify_content": null,
      "justify_items": null,
      "left": null,
      "margin": null,
      "max_height": null,
      "max_width": null,
      "min_height": null,
      "min_width": null,
      "object_fit": null,
      "object_position": null,
      "order": null,
      "overflow": null,
      "overflow_x": null,
      "overflow_y": null,
      "padding": null,
      "right": null,
      "top": null,
      "visibility": null,
      "width": null
     }
    },
    "0f0aaba2c8b14066866d4ce0dabba977": {
     "model_module": "@jupyter-widgets/controls",
     "model_module_version": "1.5.0",
     "model_name": "DescriptionStyleModel",
     "state": {
      "_model_module": "@jupyter-widgets/controls",
      "_model_module_version": "1.5.0",
      "_model_name": "DescriptionStyleModel",
      "_view_count": null,
      "_view_module": "@jupyter-widgets/base",
      "_view_module_version": "1.2.0",
      "_view_name": "StyleView",
      "description_width": ""
     }
    },
    "101f3b4f21f14136a271f519c248ddd8": {
     "model_module": "@jupyter-widgets/controls",
     "model_module_version": "1.5.0",
     "model_name": "ProgressStyleModel",
     "state": {
      "_model_module": "@jupyter-widgets/controls",
      "_model_module_version": "1.5.0",
      "_model_name": "ProgressStyleModel",
      "_view_count": null,
      "_view_module": "@jupyter-widgets/base",
      "_view_module_version": "1.2.0",
      "_view_name": "StyleView",
      "bar_color": null,
      "description_width": ""
     }
    },
    "10b0b60bb2944041bfd56cde50deead7": {
     "model_module": "@jupyter-widgets/base",
     "model_module_version": "1.2.0",
     "model_name": "LayoutModel",
     "state": {
      "_model_module": "@jupyter-widgets/base",
      "_model_module_version": "1.2.0",
      "_model_name": "LayoutModel",
      "_view_count": null,
      "_view_module": "@jupyter-widgets/base",
      "_view_module_version": "1.2.0",
      "_view_name": "LayoutView",
      "align_content": null,
      "align_items": null,
      "align_self": null,
      "border": null,
      "bottom": null,
      "display": null,
      "flex": null,
      "flex_flow": null,
      "grid_area": null,
      "grid_auto_columns": null,
      "grid_auto_flow": null,
      "grid_auto_rows": null,
      "grid_column": null,
      "grid_gap": null,
      "grid_row": null,
      "grid_template_areas": null,
      "grid_template_columns": null,
      "grid_template_rows": null,
      "height": null,
      "justify_content": null,
      "justify_items": null,
      "left": null,
      "margin": null,
      "max_height": null,
      "max_width": null,
      "min_height": null,
      "min_width": null,
      "object_fit": null,
      "object_position": null,
      "order": null,
      "overflow": null,
      "overflow_x": null,
      "overflow_y": null,
      "padding": null,
      "right": null,
      "top": null,
      "visibility": null,
      "width": null
     }
    },
    "112843b237364fd5b2f17bb2cc25f628": {
     "model_module": "@jupyter-widgets/base",
     "model_module_version": "1.2.0",
     "model_name": "LayoutModel",
     "state": {
      "_model_module": "@jupyter-widgets/base",
      "_model_module_version": "1.2.0",
      "_model_name": "LayoutModel",
      "_view_count": null,
      "_view_module": "@jupyter-widgets/base",
      "_view_module_version": "1.2.0",
      "_view_name": "LayoutView",
      "align_content": null,
      "align_items": null,
      "align_self": null,
      "border": null,
      "bottom": null,
      "display": null,
      "flex": null,
      "flex_flow": null,
      "grid_area": null,
      "grid_auto_columns": null,
      "grid_auto_flow": null,
      "grid_auto_rows": null,
      "grid_column": null,
      "grid_gap": null,
      "grid_row": null,
      "grid_template_areas": null,
      "grid_template_columns": null,
      "grid_template_rows": null,
      "height": null,
      "justify_content": null,
      "justify_items": null,
      "left": null,
      "margin": null,
      "max_height": null,
      "max_width": null,
      "min_height": null,
      "min_width": null,
      "object_fit": null,
      "object_position": null,
      "order": null,
      "overflow": null,
      "overflow_x": null,
      "overflow_y": null,
      "padding": null,
      "right": null,
      "top": null,
      "visibility": null,
      "width": null
     }
    },
    "1208c4039af1480ea145db5ab7af187f": {
     "model_module": "@jupyter-widgets/controls",
     "model_module_version": "1.5.0",
     "model_name": "DescriptionStyleModel",
     "state": {
      "_model_module": "@jupyter-widgets/controls",
      "_model_module_version": "1.5.0",
      "_model_name": "DescriptionStyleModel",
      "_view_count": null,
      "_view_module": "@jupyter-widgets/base",
      "_view_module_version": "1.2.0",
      "_view_name": "StyleView",
      "description_width": ""
     }
    },
    "14ff18c371c24afca9d815c296eef3c1": {
     "model_module": "@jupyter-widgets/controls",
     "model_module_version": "1.5.0",
     "model_name": "HTMLModel",
     "state": {
      "_dom_classes": [],
      "_model_module": "@jupyter-widgets/controls",
      "_model_module_version": "1.5.0",
      "_model_name": "HTMLModel",
      "_view_count": null,
      "_view_module": "@jupyter-widgets/controls",
      "_view_module_version": "1.5.0",
      "_view_name": "HTMLView",
      "description": "",
      "description_tooltip": null,
      "layout": "IPY_MODEL_37760d3304c342a3a6f1d34589e77688",
      "placeholder": "​",
      "style": "IPY_MODEL_0f0aaba2c8b14066866d4ce0dabba977",
      "value": "Creating parquet from Arrow format: 100%"
     }
    },
    "157f3910e5ed4d1483a9a932ad4a00a5": {
     "model_module": "@jupyter-widgets/controls",
     "model_module_version": "1.5.0",
     "model_name": "HTMLModel",
     "state": {
      "_dom_classes": [],
      "_model_module": "@jupyter-widgets/controls",
      "_model_module_version": "1.5.0",
      "_model_name": "HTMLModel",
      "_view_count": null,
      "_view_module": "@jupyter-widgets/controls",
      "_view_module_version": "1.5.0",
      "_view_name": "HTMLView",
      "description": "",
      "description_tooltip": null,
      "layout": "IPY_MODEL_d45de45d02374c92a228a7c0b95f4379",
      "placeholder": "​",
      "style": "IPY_MODEL_0426e6bccfad4e98a95dd997f6b66a4c",
      "value": "tokenizer.json: 100%"
     }
    },
    "169e32ac3e7148c5a0deda9e5357e0ec": {
     "model_module": "@jupyter-widgets/base",
     "model_module_version": "1.2.0",
     "model_name": "LayoutModel",
     "state": {
      "_model_module": "@jupyter-widgets/base",
      "_model_module_version": "1.2.0",
      "_model_name": "LayoutModel",
      "_view_count": null,
      "_view_module": "@jupyter-widgets/base",
      "_view_module_version": "1.2.0",
      "_view_name": "LayoutView",
      "align_content": null,
      "align_items": null,
      "align_self": null,
      "border": null,
      "bottom": null,
      "display": null,
      "flex": null,
      "flex_flow": null,
      "grid_area": null,
      "grid_auto_columns": null,
      "grid_auto_flow": null,
      "grid_auto_rows": null,
      "grid_column": null,
      "grid_gap": null,
      "grid_row": null,
      "grid_template_areas": null,
      "grid_template_columns": null,
      "grid_template_rows": null,
      "height": null,
      "justify_content": null,
      "justify_items": null,
      "left": null,
      "margin": null,
      "max_height": null,
      "max_width": null,
      "min_height": null,
      "min_width": null,
      "object_fit": null,
      "object_position": null,
      "order": null,
      "overflow": null,
      "overflow_x": null,
      "overflow_y": null,
      "padding": null,
      "right": null,
      "top": null,
      "visibility": null,
      "width": null
     }
    },
    "1729a85f2c3b47d7bb822e54cb5eb448": {
     "model_module": "@jupyter-widgets/base",
     "model_module_version": "1.2.0",
     "model_name": "LayoutModel",
     "state": {
      "_model_module": "@jupyter-widgets/base",
      "_model_module_version": "1.2.0",
      "_model_name": "LayoutModel",
      "_view_count": null,
      "_view_module": "@jupyter-widgets/base",
      "_view_module_version": "1.2.0",
      "_view_name": "LayoutView",
      "align_content": null,
      "align_items": null,
      "align_self": null,
      "border": null,
      "bottom": null,
      "display": null,
      "flex": null,
      "flex_flow": null,
      "grid_area": null,
      "grid_auto_columns": null,
      "grid_auto_flow": null,
      "grid_auto_rows": null,
      "grid_column": null,
      "grid_gap": null,
      "grid_row": null,
      "grid_template_areas": null,
      "grid_template_columns": null,
      "grid_template_rows": null,
      "height": null,
      "justify_content": null,
      "justify_items": null,
      "left": null,
      "margin": null,
      "max_height": null,
      "max_width": null,
      "min_height": null,
      "min_width": null,
      "object_fit": null,
      "object_position": null,
      "order": null,
      "overflow": null,
      "overflow_x": null,
      "overflow_y": null,
      "padding": null,
      "right": null,
      "top": null,
      "visibility": null,
      "width": null
     }
    },
    "196be705e2124636b312c7138c953759": {
     "model_module": "@jupyter-widgets/controls",
     "model_module_version": "1.5.0",
     "model_name": "ProgressStyleModel",
     "state": {
      "_model_module": "@jupyter-widgets/controls",
      "_model_module_version": "1.5.0",
      "_model_name": "ProgressStyleModel",
      "_view_count": null,
      "_view_module": "@jupyter-widgets/base",
      "_view_module_version": "1.2.0",
      "_view_name": "StyleView",
      "bar_color": null,
      "description_width": ""
     }
    },
    "2234407ac576427bb7ec962cc7033a5c": {
     "model_module": "@jupyter-widgets/controls",
     "model_module_version": "1.5.0",
     "model_name": "FloatProgressModel",
     "state": {
      "_dom_classes": [],
      "_model_module": "@jupyter-widgets/controls",
      "_model_module_version": "1.5.0",
      "_model_name": "FloatProgressModel",
      "_view_count": null,
      "_view_module": "@jupyter-widgets/controls",
      "_view_module_version": "1.5.0",
      "_view_name": "ProgressView",
      "bar_style": "success",
      "description": "",
      "description_tooltip": null,
      "layout": "IPY_MODEL_112843b237364fd5b2f17bb2cc25f628",
      "max": 1,
      "min": 0,
      "orientation": "horizontal",
      "style": "IPY_MODEL_635ca788a64646fe8b122c46a9874b2f",
      "value": 1
     }
    },
    "2a8bd21860d44a20b0ee487e12600bcd": {
     "model_module": "@jupyter-widgets/controls",
     "model_module_version": "1.5.0",
     "model_name": "HTMLModel",
     "state": {
      "_dom_classes": [],
      "_model_module": "@jupyter-widgets/controls",
      "_model_module_version": "1.5.0",
      "_model_name": "HTMLModel",
      "_view_count": null,
      "_view_module": "@jupyter-widgets/controls",
      "_view_module_version": "1.5.0",
      "_view_name": "HTMLView",
      "description": "",
      "description_tooltip": null,
      "layout": "IPY_MODEL_e3e73d6180e24258b48627ecdfe3e38a",
      "placeholder": "​",
      "style": "IPY_MODEL_821b243eeade48d5ab67bd86a107c07b",
      "value": " 1/1 [00:01&lt;00:00,  1.01s/it]"
     }
    },
    "347770e554b2448d87cb0b2c44b45d11": {
     "model_module": "@jupyter-widgets/controls",
     "model_module_version": "1.5.0",
     "model_name": "HTMLModel",
     "state": {
      "_dom_classes": [],
      "_model_module": "@jupyter-widgets/controls",
      "_model_module_version": "1.5.0",
      "_model_name": "HTMLModel",
      "_view_count": null,
      "_view_module": "@jupyter-widgets/controls",
      "_view_module_version": "1.5.0",
      "_view_name": "HTMLView",
      "description": "",
      "description_tooltip": null,
      "layout": "IPY_MODEL_b2d40a2cf1f8427f9542dd706a26cde8",
      "placeholder": "​",
      "style": "IPY_MODEL_e22b2ee01dc343d98d5bea10deb6382d",
      "value": "Uploading the dataset shards: 100%"
     }
    },
    "3771674812fd4bf495ad5f8a258363f9": {
     "model_module": "@jupyter-widgets/base",
     "model_module_version": "1.2.0",
     "model_name": "LayoutModel",
     "state": {
      "_model_module": "@jupyter-widgets/base",
      "_model_module_version": "1.2.0",
      "_model_name": "LayoutModel",
      "_view_count": null,
      "_view_module": "@jupyter-widgets/base",
      "_view_module_version": "1.2.0",
      "_view_name": "LayoutView",
      "align_content": null,
      "align_items": null,
      "align_self": null,
      "border": null,
      "bottom": null,
      "display": null,
      "flex": null,
      "flex_flow": null,
      "grid_area": null,
      "grid_auto_columns": null,
      "grid_auto_flow": null,
      "grid_auto_rows": null,
      "grid_column": null,
      "grid_gap": null,
      "grid_row": null,
      "grid_template_areas": null,
      "grid_template_columns": null,
      "grid_template_rows": null,
      "height": null,
      "justify_content": null,
      "justify_items": null,
      "left": null,
      "margin": null,
      "max_height": null,
      "max_width": null,
      "min_height": null,
      "min_width": null,
      "object_fit": null,
      "object_position": null,
      "order": null,
      "overflow": null,
      "overflow_x": null,
      "overflow_y": null,
      "padding": null,
      "right": null,
      "top": null,
      "visibility": null,
      "width": null
     }
    },
    "37760d3304c342a3a6f1d34589e77688": {
     "model_module": "@jupyter-widgets/base",
     "model_module_version": "1.2.0",
     "model_name": "LayoutModel",
     "state": {
      "_model_module": "@jupyter-widgets/base",
      "_model_module_version": "1.2.0",
      "_model_name": "LayoutModel",
      "_view_count": null,
      "_view_module": "@jupyter-widgets/base",
      "_view_module_version": "1.2.0",
      "_view_name": "LayoutView",
      "align_content": null,
      "align_items": null,
      "align_self": null,
      "border": null,
      "bottom": null,
      "display": null,
      "flex": null,
      "flex_flow": null,
      "grid_area": null,
      "grid_auto_columns": null,
      "grid_auto_flow": null,
      "grid_auto_rows": null,
      "grid_column": null,
      "grid_gap": null,
      "grid_row": null,
      "grid_template_areas": null,
      "grid_template_columns": null,
      "grid_template_rows": null,
      "height": null,
      "justify_content": null,
      "justify_items": null,
      "left": null,
      "margin": null,
      "max_height": null,
      "max_width": null,
      "min_height": null,
      "min_width": null,
      "object_fit": null,
      "object_position": null,
      "order": null,
      "overflow": null,
      "overflow_x": null,
      "overflow_y": null,
      "padding": null,
      "right": null,
      "top": null,
      "visibility": null,
      "width": null
     }
    },
    "403e0c16ed2a4ebf8df7d799a0002a2a": {
     "model_module": "@jupyter-widgets/controls",
     "model_module_version": "1.5.0",
     "model_name": "FloatProgressModel",
     "state": {
      "_dom_classes": [],
      "_model_module": "@jupyter-widgets/controls",
      "_model_module_version": "1.5.0",
      "_model_name": "FloatProgressModel",
      "_view_count": null,
      "_view_module": "@jupyter-widgets/controls",
      "_view_module_version": "1.5.0",
      "_view_name": "ProgressView",
      "bar_style": "success",
      "description": "",
      "description_tooltip": null,
      "layout": "IPY_MODEL_e8130129fa724aa2bceaa0025991ff74",
      "max": 1,
      "min": 0,
      "orientation": "horizontal",
      "style": "IPY_MODEL_e5c7f9d75da04ab594c3345049d200a0",
      "value": 1
     }
    },
    "43b5eb86911e4b509f365ec6ffb8f917": {
     "model_module": "@jupyter-widgets/base",
     "model_module_version": "1.2.0",
     "model_name": "LayoutModel",
     "state": {
      "_model_module": "@jupyter-widgets/base",
      "_model_module_version": "1.2.0",
      "_model_name": "LayoutModel",
      "_view_count": null,
      "_view_module": "@jupyter-widgets/base",
      "_view_module_version": "1.2.0",
      "_view_name": "LayoutView",
      "align_content": null,
      "align_items": null,
      "align_self": null,
      "border": null,
      "bottom": null,
      "display": null,
      "flex": null,
      "flex_flow": null,
      "grid_area": null,
      "grid_auto_columns": null,
      "grid_auto_flow": null,
      "grid_auto_rows": null,
      "grid_column": null,
      "grid_gap": null,
      "grid_row": null,
      "grid_template_areas": null,
      "grid_template_columns": null,
      "grid_template_rows": null,
      "height": null,
      "justify_content": null,
      "justify_items": null,
      "left": null,
      "margin": null,
      "max_height": null,
      "max_width": null,
      "min_height": null,
      "min_width": null,
      "object_fit": null,
      "object_position": null,
      "order": null,
      "overflow": null,
      "overflow_x": null,
      "overflow_y": null,
      "padding": null,
      "right": null,
      "top": null,
      "visibility": null,
      "width": null
     }
    },
    "43bad87b13374156b5f88dfef732a9e0": {
     "model_module": "@jupyter-widgets/controls",
     "model_module_version": "1.5.0",
     "model_name": "HTMLModel",
     "state": {
      "_dom_classes": [],
      "_model_module": "@jupyter-widgets/controls",
      "_model_module_version": "1.5.0",
      "_model_name": "HTMLModel",
      "_view_count": null,
      "_view_module": "@jupyter-widgets/controls",
      "_view_module_version": "1.5.0",
      "_view_name": "HTMLView",
      "description": "",
      "description_tooltip": null,
      "layout": "IPY_MODEL_e9db4b8d678b4362bdcaa432fe37602b",
      "placeholder": "​",
      "style": "IPY_MODEL_834eedfbd799477ba67a53736750f726",
      "value": "adapter_model.safetensors: 100%"
     }
    },
    "446ef97487d747449ad73598ccde0df9": {
     "model_module": "@jupyter-widgets/controls",
     "model_module_version": "1.5.0",
     "model_name": "HTMLModel",
     "state": {
      "_dom_classes": [],
      "_model_module": "@jupyter-widgets/controls",
      "_model_module_version": "1.5.0",
      "_model_name": "HTMLModel",
      "_view_count": null,
      "_view_module": "@jupyter-widgets/controls",
      "_view_module_version": "1.5.0",
      "_view_name": "HTMLView",
      "description": "",
      "description_tooltip": null,
      "layout": "IPY_MODEL_6c2b3061c0ed4df3966eb4bb4470e16f",
      "placeholder": "​",
      "style": "IPY_MODEL_a1771debaa464f8a9c97312bc8e31cfd",
      "value": " 11.4M/11.4M [00:00&lt;00:00, 21.4MB/s]"
     }
    },
    "46ba4dfae6a24acca95c3f160a28b388": {
     "model_module": "@jupyter-widgets/base",
     "model_module_version": "1.2.0",
     "model_name": "LayoutModel",
     "state": {
      "_model_module": "@jupyter-widgets/base",
      "_model_module_version": "1.2.0",
      "_model_name": "LayoutModel",
      "_view_count": null,
      "_view_module": "@jupyter-widgets/base",
      "_view_module_version": "1.2.0",
      "_view_name": "LayoutView",
      "align_content": null,
      "align_items": null,
      "align_self": null,
      "border": null,
      "bottom": null,
      "display": null,
      "flex": null,
      "flex_flow": null,
      "grid_area": null,
      "grid_auto_columns": null,
      "grid_auto_flow": null,
      "grid_auto_rows": null,
      "grid_column": null,
      "grid_gap": null,
      "grid_row": null,
      "grid_template_areas": null,
      "grid_template_columns": null,
      "grid_template_rows": null,
      "height": null,
      "justify_content": null,
      "justify_items": null,
      "left": null,
      "margin": null,
      "max_height": null,
      "max_width": null,
      "min_height": null,
      "min_width": null,
      "object_fit": null,
      "object_position": null,
      "order": null,
      "overflow": null,
      "overflow_x": null,
      "overflow_y": null,
      "padding": null,
      "right": null,
      "top": null,
      "visibility": null,
      "width": null
     }
    },
    "481e48c1a6d74db9bc96813341f81a99": {
     "model_module": "@jupyter-widgets/controls",
     "model_module_version": "1.5.0",
     "model_name": "ProgressStyleModel",
     "state": {
      "_model_module": "@jupyter-widgets/controls",
      "_model_module_version": "1.5.0",
      "_model_name": "ProgressStyleModel",
      "_view_count": null,
      "_view_module": "@jupyter-widgets/base",
      "_view_module_version": "1.2.0",
      "_view_name": "StyleView",
      "bar_color": null,
      "description_width": ""
     }
    },
    "4bc16b99de48439fb1e8e49f0047c055": {
     "model_module": "@jupyter-widgets/controls",
     "model_module_version": "1.5.0",
     "model_name": "FloatProgressModel",
     "state": {
      "_dom_classes": [],
      "_model_module": "@jupyter-widgets/controls",
      "_model_module_version": "1.5.0",
      "_model_name": "FloatProgressModel",
      "_view_count": null,
      "_view_module": "@jupyter-widgets/controls",
      "_view_module_version": "1.5.0",
      "_view_name": "ProgressView",
      "bar_style": "success",
      "description": "",
      "description_tooltip": null,
      "layout": "IPY_MODEL_936bc86bb14f408cb1bc3ee2a7fa02a5",
      "max": 5174,
      "min": 0,
      "orientation": "horizontal",
      "style": "IPY_MODEL_5aafc74d602a4e79a9da3467f7095619",
      "value": 5174
     }
    },
    "4dd74da609f44a498308703cb6e8c5c6": {
     "model_module": "@jupyter-widgets/base",
     "model_module_version": "1.2.0",
     "model_name": "LayoutModel",
     "state": {
      "_model_module": "@jupyter-widgets/base",
      "_model_module_version": "1.2.0",
      "_model_name": "LayoutModel",
      "_view_count": null,
      "_view_module": "@jupyter-widgets/base",
      "_view_module_version": "1.2.0",
      "_view_name": "LayoutView",
      "align_content": null,
      "align_items": null,
      "align_self": null,
      "border": null,
      "bottom": null,
      "display": null,
      "flex": null,
      "flex_flow": null,
      "grid_area": null,
      "grid_auto_columns": null,
      "grid_auto_flow": null,
      "grid_auto_rows": null,
      "grid_column": null,
      "grid_gap": null,
      "grid_row": null,
      "grid_template_areas": null,
      "grid_template_columns": null,
      "grid_template_rows": null,
      "height": null,
      "justify_content": null,
      "justify_items": null,
      "left": null,
      "margin": null,
      "max_height": null,
      "max_width": null,
      "min_height": null,
      "min_width": null,
      "object_fit": null,
      "object_position": null,
      "order": null,
      "overflow": null,
      "overflow_x": null,
      "overflow_y": null,
      "padding": null,
      "right": null,
      "top": null,
      "visibility": null,
      "width": null
     }
    },
    "4f4cf1b9f42546529df3874ae53885e2": {
     "model_module": "@jupyter-widgets/base",
     "model_module_version": "1.2.0",
     "model_name": "LayoutModel",
     "state": {
      "_model_module": "@jupyter-widgets/base",
      "_model_module_version": "1.2.0",
      "_model_name": "LayoutModel",
      "_view_count": null,
      "_view_module": "@jupyter-widgets/base",
      "_view_module_version": "1.2.0",
      "_view_name": "LayoutView",
      "align_content": null,
      "align_items": null,
      "align_self": null,
      "border": null,
      "bottom": null,
      "display": null,
      "flex": null,
      "flex_flow": null,
      "grid_area": null,
      "grid_auto_columns": null,
      "grid_auto_flow": null,
      "grid_auto_rows": null,
      "grid_column": null,
      "grid_gap": null,
      "grid_row": null,
      "grid_template_areas": null,
      "grid_template_columns": null,
      "grid_template_rows": null,
      "height": null,
      "justify_content": null,
      "justify_items": null,
      "left": null,
      "margin": null,
      "max_height": null,
      "max_width": null,
      "min_height": null,
      "min_width": null,
      "object_fit": null,
      "object_position": null,
      "order": null,
      "overflow": null,
      "overflow_x": null,
      "overflow_y": null,
      "padding": null,
      "right": null,
      "top": null,
      "visibility": null,
      "width": null
     }
    },
    "533246d4b2e8408ca0f76857137f2448": {
     "model_module": "@jupyter-widgets/controls",
     "model_module_version": "1.5.0",
     "model_name": "FloatProgressModel",
     "state": {
      "_dom_classes": [],
      "_model_module": "@jupyter-widgets/controls",
      "_model_module_version": "1.5.0",
      "_model_name": "FloatProgressModel",
      "_view_count": null,
      "_view_module": "@jupyter-widgets/controls",
      "_view_module_version": "1.5.0",
      "_view_name": "ProgressView",
      "bar_style": "success",
      "description": "",
      "description_tooltip": null,
      "layout": "IPY_MODEL_ae8f9796be2a47428bf37482da8852ca",
      "max": 1,
      "min": 0,
      "orientation": "horizontal",
      "style": "IPY_MODEL_196be705e2124636b312c7138c953759",
      "value": 1
     }
    },
    "55e4661f4436418895eae9209f33e2cf": {
     "model_module": "@jupyter-widgets/controls",
     "model_module_version": "1.5.0",
     "model_name": "HBoxModel",
     "state": {
      "_dom_classes": [],
      "_model_module": "@jupyter-widgets/controls",
      "_model_module_version": "1.5.0",
      "_model_name": "HBoxModel",
      "_view_count": null,
      "_view_module": "@jupyter-widgets/controls",
      "_view_module_version": "1.5.0",
      "_view_name": "HBoxView",
      "box_style": "",
      "children": [
       "IPY_MODEL_dec368eb0a564d60b79795a566288f12",
       "IPY_MODEL_403e0c16ed2a4ebf8df7d799a0002a2a",
       "IPY_MODEL_becb184ecab2408aa5ed469db5c8546d"
      ],
      "layout": "IPY_MODEL_1729a85f2c3b47d7bb822e54cb5eb448"
     }
    },
    "5740efbf38ee4afeb10cfce541f5d003": {
     "model_module": "@jupyter-widgets/controls",
     "model_module_version": "1.5.0",
     "model_name": "DescriptionStyleModel",
     "state": {
      "_model_module": "@jupyter-widgets/controls",
      "_model_module_version": "1.5.0",
      "_model_name": "DescriptionStyleModel",
      "_view_count": null,
      "_view_module": "@jupyter-widgets/base",
      "_view_module_version": "1.2.0",
      "_view_name": "StyleView",
      "description_width": ""
     }
    },
    "576bedf2c7a947528e13634dd28ccde3": {
     "model_module": "@jupyter-widgets/controls",
     "model_module_version": "1.5.0",
     "model_name": "DescriptionStyleModel",
     "state": {
      "_model_module": "@jupyter-widgets/controls",
      "_model_module_version": "1.5.0",
      "_model_name": "DescriptionStyleModel",
      "_view_count": null,
      "_view_module": "@jupyter-widgets/base",
      "_view_module_version": "1.2.0",
      "_view_name": "StyleView",
      "description_width": ""
     }
    },
    "582f24cb0dad4554afdf39745df809fb": {
     "model_module": "@jupyter-widgets/controls",
     "model_module_version": "1.5.0",
     "model_name": "ProgressStyleModel",
     "state": {
      "_model_module": "@jupyter-widgets/controls",
      "_model_module_version": "1.5.0",
      "_model_name": "ProgressStyleModel",
      "_view_count": null,
      "_view_module": "@jupyter-widgets/base",
      "_view_module_version": "1.2.0",
      "_view_name": "StyleView",
      "bar_color": null,
      "description_width": ""
     }
    },
    "5aafc74d602a4e79a9da3467f7095619": {
     "model_module": "@jupyter-widgets/controls",
     "model_module_version": "1.5.0",
     "model_name": "ProgressStyleModel",
     "state": {
      "_model_module": "@jupyter-widgets/controls",
      "_model_module_version": "1.5.0",
      "_model_name": "ProgressStyleModel",
      "_view_count": null,
      "_view_module": "@jupyter-widgets/base",
      "_view_module_version": "1.2.0",
      "_view_name": "StyleView",
      "bar_color": null,
      "description_width": ""
     }
    },
    "635ca788a64646fe8b122c46a9874b2f": {
     "model_module": "@jupyter-widgets/controls",
     "model_module_version": "1.5.0",
     "model_name": "ProgressStyleModel",
     "state": {
      "_model_module": "@jupyter-widgets/controls",
      "_model_module_version": "1.5.0",
      "_model_name": "ProgressStyleModel",
      "_view_count": null,
      "_view_module": "@jupyter-widgets/base",
      "_view_module_version": "1.2.0",
      "_view_name": "StyleView",
      "bar_color": null,
      "description_width": ""
     }
    },
    "656c0a82f01c4911a594c67f551ceec1": {
     "model_module": "@jupyter-widgets/base",
     "model_module_version": "1.2.0",
     "model_name": "LayoutModel",
     "state": {
      "_model_module": "@jupyter-widgets/base",
      "_model_module_version": "1.2.0",
      "_model_name": "LayoutModel",
      "_view_count": null,
      "_view_module": "@jupyter-widgets/base",
      "_view_module_version": "1.2.0",
      "_view_name": "LayoutView",
      "align_content": null,
      "align_items": null,
      "align_self": null,
      "border": null,
      "bottom": null,
      "display": null,
      "flex": null,
      "flex_flow": null,
      "grid_area": null,
      "grid_auto_columns": null,
      "grid_auto_flow": null,
      "grid_auto_rows": null,
      "grid_column": null,
      "grid_gap": null,
      "grid_row": null,
      "grid_template_areas": null,
      "grid_template_columns": null,
      "grid_template_rows": null,
      "height": null,
      "justify_content": null,
      "justify_items": null,
      "left": null,
      "margin": null,
      "max_height": null,
      "max_width": null,
      "min_height": null,
      "min_width": null,
      "object_fit": null,
      "object_position": null,
      "order": null,
      "overflow": null,
      "overflow_x": null,
      "overflow_y": null,
      "padding": null,
      "right": null,
      "top": null,
      "visibility": null,
      "width": null
     }
    },
    "660559bede7444608bab683aaeb117f5": {
     "model_module": "@jupyter-widgets/base",
     "model_module_version": "1.2.0",
     "model_name": "LayoutModel",
     "state": {
      "_model_module": "@jupyter-widgets/base",
      "_model_module_version": "1.2.0",
      "_model_name": "LayoutModel",
      "_view_count": null,
      "_view_module": "@jupyter-widgets/base",
      "_view_module_version": "1.2.0",
      "_view_name": "LayoutView",
      "align_content": null,
      "align_items": null,
      "align_self": null,
      "border": null,
      "bottom": null,
      "display": null,
      "flex": null,
      "flex_flow": null,
      "grid_area": null,
      "grid_auto_columns": null,
      "grid_auto_flow": null,
      "grid_auto_rows": null,
      "grid_column": null,
      "grid_gap": null,
      "grid_row": null,
      "grid_template_areas": null,
      "grid_template_columns": null,
      "grid_template_rows": null,
      "height": null,
      "justify_content": null,
      "justify_items": null,
      "left": null,
      "margin": null,
      "max_height": null,
      "max_width": null,
      "min_height": null,
      "min_width": null,
      "object_fit": null,
      "object_position": null,
      "order": null,
      "overflow": null,
      "overflow_x": null,
      "overflow_y": null,
      "padding": null,
      "right": null,
      "top": null,
      "visibility": null,
      "width": null
     }
    },
    "6c2b3061c0ed4df3966eb4bb4470e16f": {
     "model_module": "@jupyter-widgets/base",
     "model_module_version": "1.2.0",
     "model_name": "LayoutModel",
     "state": {
      "_model_module": "@jupyter-widgets/base",
      "_model_module_version": "1.2.0",
      "_model_name": "LayoutModel",
      "_view_count": null,
      "_view_module": "@jupyter-widgets/base",
      "_view_module_version": "1.2.0",
      "_view_name": "LayoutView",
      "align_content": null,
      "align_items": null,
      "align_self": null,
      "border": null,
      "bottom": null,
      "display": null,
      "flex": null,
      "flex_flow": null,
      "grid_area": null,
      "grid_auto_columns": null,
      "grid_auto_flow": null,
      "grid_auto_rows": null,
      "grid_column": null,
      "grid_gap": null,
      "grid_row": null,
      "grid_template_areas": null,
      "grid_template_columns": null,
      "grid_template_rows": null,
      "height": null,
      "justify_content": null,
      "justify_items": null,
      "left": null,
      "margin": null,
      "max_height": null,
      "max_width": null,
      "min_height": null,
      "min_width": null,
      "object_fit": null,
      "object_position": null,
      "order": null,
      "overflow": null,
      "overflow_x": null,
      "overflow_y": null,
      "padding": null,
      "right": null,
      "top": null,
      "visibility": null,
      "width": null
     }
    },
    "6ebb708d3752496dacb6dae6eaeda8ed": {
     "model_module": "@jupyter-widgets/base",
     "model_module_version": "1.2.0",
     "model_name": "LayoutModel",
     "state": {
      "_model_module": "@jupyter-widgets/base",
      "_model_module_version": "1.2.0",
      "_model_name": "LayoutModel",
      "_view_count": null,
      "_view_module": "@jupyter-widgets/base",
      "_view_module_version": "1.2.0",
      "_view_name": "LayoutView",
      "align_content": null,
      "align_items": null,
      "align_self": null,
      "border": null,
      "bottom": null,
      "display": null,
      "flex": null,
      "flex_flow": null,
      "grid_area": null,
      "grid_auto_columns": null,
      "grid_auto_flow": null,
      "grid_auto_rows": null,
      "grid_column": null,
      "grid_gap": null,
      "grid_row": null,
      "grid_template_areas": null,
      "grid_template_columns": null,
      "grid_template_rows": null,
      "height": null,
      "justify_content": null,
      "justify_items": null,
      "left": null,
      "margin": null,
      "max_height": null,
      "max_width": null,
      "min_height": null,
      "min_width": null,
      "object_fit": null,
      "object_position": null,
      "order": null,
      "overflow": null,
      "overflow_x": null,
      "overflow_y": null,
      "padding": null,
      "right": null,
      "top": null,
      "visibility": null,
      "width": null
     }
    },
    "70e81014befa4db3a4928387f793b168": {
     "model_module": "@jupyter-widgets/controls",
     "model_module_version": "1.5.0",
     "model_name": "HTMLModel",
     "state": {
      "_dom_classes": [],
      "_model_module": "@jupyter-widgets/controls",
      "_model_module_version": "1.5.0",
      "_model_name": "HTMLModel",
      "_view_count": null,
      "_view_module": "@jupyter-widgets/controls",
      "_view_module_version": "1.5.0",
      "_view_name": "HTMLView",
      "description": "",
      "description_tooltip": null,
      "layout": "IPY_MODEL_43b5eb86911e4b509f365ec6ffb8f917",
      "placeholder": "​",
      "style": "IPY_MODEL_1208c4039af1480ea145db5ab7af187f",
      "value": " 1/1 [00:00&lt;00:00, 72.73ba/s]"
     }
    },
    "74cb782f00ba41369da089aa37e939b7": {
     "model_module": "@jupyter-widgets/controls",
     "model_module_version": "1.5.0",
     "model_name": "HBoxModel",
     "state": {
      "_dom_classes": [],
      "_model_module": "@jupyter-widgets/controls",
      "_model_module_version": "1.5.0",
      "_model_name": "HBoxModel",
      "_view_count": null,
      "_view_module": "@jupyter-widgets/controls",
      "_view_module_version": "1.5.0",
      "_view_name": "HBoxView",
      "box_style": "",
      "children": [
       "IPY_MODEL_9756d904cfa84e89b47398ea35b1b5f9",
       "IPY_MODEL_4bc16b99de48439fb1e8e49f0047c055",
       "IPY_MODEL_e52823ea3a3445ae93f189eddf0a8e9e"
      ],
      "layout": "IPY_MODEL_10b0b60bb2944041bfd56cde50deead7"
     }
    },
    "791f2f7b9b904e208e3800900aee4d60": {
     "model_module": "@jupyter-widgets/base",
     "model_module_version": "1.2.0",
     "model_name": "LayoutModel",
     "state": {
      "_model_module": "@jupyter-widgets/base",
      "_model_module_version": "1.2.0",
      "_model_name": "LayoutModel",
      "_view_count": null,
      "_view_module": "@jupyter-widgets/base",
      "_view_module_version": "1.2.0",
      "_view_name": "LayoutView",
      "align_content": null,
      "align_items": null,
      "align_self": null,
      "border": null,
      "bottom": null,
      "display": null,
      "flex": null,
      "flex_flow": null,
      "grid_area": null,
      "grid_auto_columns": null,
      "grid_auto_flow": null,
      "grid_auto_rows": null,
      "grid_column": null,
      "grid_gap": null,
      "grid_row": null,
      "grid_template_areas": null,
      "grid_template_columns": null,
      "grid_template_rows": null,
      "height": null,
      "justify_content": null,
      "justify_items": null,
      "left": null,
      "margin": null,
      "max_height": null,
      "max_width": null,
      "min_height": null,
      "min_width": null,
      "object_fit": null,
      "object_position": null,
      "order": null,
      "overflow": null,
      "overflow_x": null,
      "overflow_y": null,
      "padding": null,
      "right": null,
      "top": null,
      "visibility": null,
      "width": null
     }
    },
    "7b2a066f1cb54348866e6e1a8739f422": {
     "model_module": "@jupyter-widgets/base",
     "model_module_version": "1.2.0",
     "model_name": "LayoutModel",
     "state": {
      "_model_module": "@jupyter-widgets/base",
      "_model_module_version": "1.2.0",
      "_model_name": "LayoutModel",
      "_view_count": null,
      "_view_module": "@jupyter-widgets/base",
      "_view_module_version": "1.2.0",
      "_view_name": "LayoutView",
      "align_content": null,
      "align_items": null,
      "align_self": null,
      "border": null,
      "bottom": null,
      "display": null,
      "flex": null,
      "flex_flow": null,
      "grid_area": null,
      "grid_auto_columns": null,
      "grid_auto_flow": null,
      "grid_auto_rows": null,
      "grid_column": null,
      "grid_gap": null,
      "grid_row": null,
      "grid_template_areas": null,
      "grid_template_columns": null,
      "grid_template_rows": null,
      "height": null,
      "justify_content": null,
      "justify_items": null,
      "left": null,
      "margin": null,
      "max_height": null,
      "max_width": null,
      "min_height": null,
      "min_width": null,
      "object_fit": null,
      "object_position": null,
      "order": null,
      "overflow": null,
      "overflow_x": null,
      "overflow_y": null,
      "padding": null,
      "right": null,
      "top": null,
      "visibility": null,
      "width": null
     }
    },
    "821b243eeade48d5ab67bd86a107c07b": {
     "model_module": "@jupyter-widgets/controls",
     "model_module_version": "1.5.0",
     "model_name": "DescriptionStyleModel",
     "state": {
      "_model_module": "@jupyter-widgets/controls",
      "_model_module_version": "1.5.0",
      "_model_name": "DescriptionStyleModel",
      "_view_count": null,
      "_view_module": "@jupyter-widgets/base",
      "_view_module_version": "1.2.0",
      "_view_name": "StyleView",
      "description_width": ""
     }
    },
    "834eedfbd799477ba67a53736750f726": {
     "model_module": "@jupyter-widgets/controls",
     "model_module_version": "1.5.0",
     "model_name": "DescriptionStyleModel",
     "state": {
      "_model_module": "@jupyter-widgets/controls",
      "_model_module_version": "1.5.0",
      "_model_name": "DescriptionStyleModel",
      "_view_count": null,
      "_view_module": "@jupyter-widgets/base",
      "_view_module_version": "1.2.0",
      "_view_name": "StyleView",
      "description_width": ""
     }
    },
    "87e9e5e91cc94896b21d7f095623709e": {
     "model_module": "@jupyter-widgets/controls",
     "model_module_version": "1.5.0",
     "model_name": "DescriptionStyleModel",
     "state": {
      "_model_module": "@jupyter-widgets/controls",
      "_model_module_version": "1.5.0",
      "_model_name": "DescriptionStyleModel",
      "_view_count": null,
      "_view_module": "@jupyter-widgets/base",
      "_view_module_version": "1.2.0",
      "_view_name": "StyleView",
      "description_width": ""
     }
    },
    "88b345a1a7184de5b757e0432a8b2e35": {
     "model_module": "@jupyter-widgets/controls",
     "model_module_version": "1.5.0",
     "model_name": "HBoxModel",
     "state": {
      "_dom_classes": [],
      "_model_module": "@jupyter-widgets/controls",
      "_model_module_version": "1.5.0",
      "_model_name": "HBoxModel",
      "_view_count": null,
      "_view_module": "@jupyter-widgets/controls",
      "_view_module_version": "1.5.0",
      "_view_name": "HBoxView",
      "box_style": "",
      "children": [
       "IPY_MODEL_347770e554b2448d87cb0b2c44b45d11",
       "IPY_MODEL_2234407ac576427bb7ec962cc7033a5c",
       "IPY_MODEL_2a8bd21860d44a20b0ee487e12600bcd"
      ],
      "layout": "IPY_MODEL_791f2f7b9b904e208e3800900aee4d60"
     }
    },
    "89b4fd1d42cb4d808d1b8f0e1c37509e": {
     "model_module": "@jupyter-widgets/controls",
     "model_module_version": "1.5.0",
     "model_name": "HBoxModel",
     "state": {
      "_dom_classes": [],
      "_model_module": "@jupyter-widgets/controls",
      "_model_module_version": "1.5.0",
      "_model_name": "HBoxModel",
      "_view_count": null,
      "_view_module": "@jupyter-widgets/controls",
      "_view_module_version": "1.5.0",
      "_view_name": "HBoxView",
      "box_style": "",
      "children": [
       "IPY_MODEL_a9c04daf3f1e4fd2b79a6c2b2b4d5c3e",
       "IPY_MODEL_533246d4b2e8408ca0f76857137f2448",
       "IPY_MODEL_0ae97832ecc5492e96ad0971db38b5ef"
      ],
      "layout": "IPY_MODEL_f5494db9c0874ab689811da1a83744b8"
     }
    },
    "8aa492bc71d64ca6bd8e97f31f5eeae3": {
     "model_module": "@jupyter-widgets/base",
     "model_module_version": "1.2.0",
     "model_name": "LayoutModel",
     "state": {
      "_model_module": "@jupyter-widgets/base",
      "_model_module_version": "1.2.0",
      "_model_name": "LayoutModel",
      "_view_count": null,
      "_view_module": "@jupyter-widgets/base",
      "_view_module_version": "1.2.0",
      "_view_name": "LayoutView",
      "align_content": null,
      "align_items": null,
      "align_self": null,
      "border": null,
      "bottom": null,
      "display": null,
      "flex": null,
      "flex_flow": null,
      "grid_area": null,
      "grid_auto_columns": null,
      "grid_auto_flow": null,
      "grid_auto_rows": null,
      "grid_column": null,
      "grid_gap": null,
      "grid_row": null,
      "grid_template_areas": null,
      "grid_template_columns": null,
      "grid_template_rows": null,
      "height": null,
      "justify_content": null,
      "justify_items": null,
      "left": null,
      "margin": null,
      "max_height": null,
      "max_width": null,
      "min_height": null,
      "min_width": null,
      "object_fit": null,
      "object_position": null,
      "order": null,
      "overflow": null,
      "overflow_x": null,
      "overflow_y": null,
      "padding": null,
      "right": null,
      "top": null,
      "visibility": null,
      "width": null
     }
    },
    "8c03b68662a94ce9addc781f46d84cad": {
     "model_module": "@jupyter-widgets/controls",
     "model_module_version": "1.5.0",
     "model_name": "FloatProgressModel",
     "state": {
      "_dom_classes": [],
      "_model_module": "@jupyter-widgets/controls",
      "_model_module_version": "1.5.0",
      "_model_name": "FloatProgressModel",
      "_view_count": null,
      "_view_module": "@jupyter-widgets/controls",
      "_view_module_version": "1.5.0",
      "_view_name": "ProgressView",
      "bar_style": "success",
      "description": "",
      "description_tooltip": null,
      "layout": "IPY_MODEL_46ba4dfae6a24acca95c3f160a28b388",
      "max": 4,
      "min": 0,
      "orientation": "horizontal",
      "style": "IPY_MODEL_481e48c1a6d74db9bc96813341f81a99",
      "value": 4
     }
    },
    "92c9de612b4a4bf89eff0099a84dd5b2": {
     "model_module": "@jupyter-widgets/controls",
     "model_module_version": "1.5.0",
     "model_name": "FloatProgressModel",
     "state": {
      "_dom_classes": [],
      "_model_module": "@jupyter-widgets/controls",
      "_model_module_version": "1.5.0",
      "_model_name": "FloatProgressModel",
      "_view_count": null,
      "_view_module": "@jupyter-widgets/controls",
      "_view_module_version": "1.5.0",
      "_view_name": "ProgressView",
      "bar_style": "success",
      "description": "",
      "description_tooltip": null,
      "layout": "IPY_MODEL_169e32ac3e7148c5a0deda9e5357e0ec",
      "max": 11422654,
      "min": 0,
      "orientation": "horizontal",
      "style": "IPY_MODEL_582f24cb0dad4554afdf39745df809fb",
      "value": 11422654
     }
    },
    "9347180275344a0081399c6c18c26b10": {
     "model_module": "@jupyter-widgets/controls",
     "model_module_version": "1.5.0",
     "model_name": "HBoxModel",
     "state": {
      "_dom_classes": [],
      "_model_module": "@jupyter-widgets/controls",
      "_model_module_version": "1.5.0",
      "_model_name": "HBoxModel",
      "_view_count": null,
      "_view_module": "@jupyter-widgets/controls",
      "_view_module_version": "1.5.0",
      "_view_name": "HBoxView",
      "box_style": "",
      "children": [
       "IPY_MODEL_157f3910e5ed4d1483a9a932ad4a00a5",
       "IPY_MODEL_92c9de612b4a4bf89eff0099a84dd5b2",
       "IPY_MODEL_446ef97487d747449ad73598ccde0df9"
      ],
      "layout": "IPY_MODEL_4dd74da609f44a498308703cb6e8c5c6"
     }
    },
    "936bc86bb14f408cb1bc3ee2a7fa02a5": {
     "model_module": "@jupyter-widgets/base",
     "model_module_version": "1.2.0",
     "model_name": "LayoutModel",
     "state": {
      "_model_module": "@jupyter-widgets/base",
      "_model_module_version": "1.2.0",
      "_model_name": "LayoutModel",
      "_view_count": null,
      "_view_module": "@jupyter-widgets/base",
      "_view_module_version": "1.2.0",
      "_view_name": "LayoutView",
      "align_content": null,
      "align_items": null,
      "align_self": null,
      "border": null,
      "bottom": null,
      "display": null,
      "flex": null,
      "flex_flow": null,
      "grid_area": null,
      "grid_auto_columns": null,
      "grid_auto_flow": null,
      "grid_auto_rows": null,
      "grid_column": null,
      "grid_gap": null,
      "grid_row": null,
      "grid_template_areas": null,
      "grid_template_columns": null,
      "grid_template_rows": null,
      "height": null,
      "justify_content": null,
      "justify_items": null,
      "left": null,
      "margin": null,
      "max_height": null,
      "max_width": null,
      "min_height": null,
      "min_width": null,
      "object_fit": null,
      "object_position": null,
      "order": null,
      "overflow": null,
      "overflow_x": null,
      "overflow_y": null,
      "padding": null,
      "right": null,
      "top": null,
      "visibility": null,
      "width": null
     }
    },
    "9756d904cfa84e89b47398ea35b1b5f9": {
     "model_module": "@jupyter-widgets/controls",
     "model_module_version": "1.5.0",
     "model_name": "HTMLModel",
     "state": {
      "_dom_classes": [],
      "_model_module": "@jupyter-widgets/controls",
      "_model_module_version": "1.5.0",
      "_model_name": "HTMLModel",
      "_view_count": null,
      "_view_module": "@jupyter-widgets/controls",
      "_view_module_version": "1.5.0",
      "_view_name": "HTMLView",
      "description": "",
      "description_tooltip": null,
      "layout": "IPY_MODEL_04b831bb22e9483db184383faf77e5f1",
      "placeholder": "​",
      "style": "IPY_MODEL_addbaa841ff44841b8bd7b8831617f0a",
      "value": "README.md: 100%"
     }
    },
    "98b269ac653143da9a54b43d0ef04513": {
     "model_module": "@jupyter-widgets/controls",
     "model_module_version": "1.5.0",
     "model_name": "HBoxModel",
     "state": {
      "_dom_classes": [],
      "_model_module": "@jupyter-widgets/controls",
      "_model_module_version": "1.5.0",
      "_model_name": "HBoxModel",
      "_view_count": null,
      "_view_module": "@jupyter-widgets/controls",
      "_view_module_version": "1.5.0",
      "_view_name": "HBoxView",
      "box_style": "",
      "children": [
       "IPY_MODEL_43bad87b13374156b5f88dfef732a9e0",
       "IPY_MODEL_ebb6e96bd2314a1f8ce0835929c4693a",
       "IPY_MODEL_013c28724f524a608fa4817a97cc3396"
      ],
      "layout": "IPY_MODEL_656c0a82f01c4911a594c67f551ceec1"
     }
    },
    "99286241764f47f69e0f1cf15d30cb02": {
     "model_module": "@jupyter-widgets/controls",
     "model_module_version": "1.5.0",
     "model_name": "HBoxModel",
     "state": {
      "_dom_classes": [],
      "_model_module": "@jupyter-widgets/controls",
      "_model_module_version": "1.5.0",
      "_model_name": "HBoxModel",
      "_view_count": null,
      "_view_module": "@jupyter-widgets/controls",
      "_view_module_version": "1.5.0",
      "_view_name": "HBoxView",
      "box_style": "",
      "children": [
       "IPY_MODEL_dbb572a3e59a43b78dbff544e32f01c9",
       "IPY_MODEL_d1ea5c792c2b41ae98177d959bafbe2c",
       "IPY_MODEL_70e81014befa4db3a4928387f793b168"
      ],
      "layout": "IPY_MODEL_7b2a066f1cb54348866e6e1a8739f422"
     }
    },
    "a1771debaa464f8a9c97312bc8e31cfd": {
     "model_module": "@jupyter-widgets/controls",
     "model_module_version": "1.5.0",
     "model_name": "DescriptionStyleModel",
     "state": {
      "_model_module": "@jupyter-widgets/controls",
      "_model_module_version": "1.5.0",
      "_model_name": "DescriptionStyleModel",
      "_view_count": null,
      "_view_module": "@jupyter-widgets/base",
      "_view_module_version": "1.2.0",
      "_view_name": "StyleView",
      "description_width": ""
     }
    },
    "a6c4edb976184d2e95b53f4a2db3d98f": {
     "model_module": "@jupyter-widgets/controls",
     "model_module_version": "1.5.0",
     "model_name": "DescriptionStyleModel",
     "state": {
      "_model_module": "@jupyter-widgets/controls",
      "_model_module_version": "1.5.0",
      "_model_name": "DescriptionStyleModel",
      "_view_count": null,
      "_view_module": "@jupyter-widgets/base",
      "_view_module_version": "1.2.0",
      "_view_name": "StyleView",
      "description_width": ""
     }
    },
    "a8ef03496e04422481c49544bfdc0958": {
     "model_module": "@jupyter-widgets/base",
     "model_module_version": "1.2.0",
     "model_name": "LayoutModel",
     "state": {
      "_model_module": "@jupyter-widgets/base",
      "_model_module_version": "1.2.0",
      "_model_name": "LayoutModel",
      "_view_count": null,
      "_view_module": "@jupyter-widgets/base",
      "_view_module_version": "1.2.0",
      "_view_name": "LayoutView",
      "align_content": null,
      "align_items": null,
      "align_self": null,
      "border": null,
      "bottom": null,
      "display": null,
      "flex": null,
      "flex_flow": null,
      "grid_area": null,
      "grid_auto_columns": null,
      "grid_auto_flow": null,
      "grid_auto_rows": null,
      "grid_column": null,
      "grid_gap": null,
      "grid_row": null,
      "grid_template_areas": null,
      "grid_template_columns": null,
      "grid_template_rows": null,
      "height": null,
      "justify_content": null,
      "justify_items": null,
      "left": null,
      "margin": null,
      "max_height": null,
      "max_width": null,
      "min_height": null,
      "min_width": null,
      "object_fit": null,
      "object_position": null,
      "order": null,
      "overflow": null,
      "overflow_x": null,
      "overflow_y": null,
      "padding": null,
      "right": null,
      "top": null,
      "visibility": null,
      "width": null
     }
    },
    "a9c04daf3f1e4fd2b79a6c2b2b4d5c3e": {
     "model_module": "@jupyter-widgets/controls",
     "model_module_version": "1.5.0",
     "model_name": "HTMLModel",
     "state": {
      "_dom_classes": [],
      "_model_module": "@jupyter-widgets/controls",
      "_model_module_version": "1.5.0",
      "_model_name": "HTMLModel",
      "_view_count": null,
      "_view_module": "@jupyter-widgets/controls",
      "_view_module_version": "1.5.0",
      "_view_name": "HTMLView",
      "description": "",
      "description_tooltip": null,
      "layout": "IPY_MODEL_e7593326bee7427ead82d78e14c1216b",
      "placeholder": "​",
      "style": "IPY_MODEL_5740efbf38ee4afeb10cfce541f5d003",
      "value": "Uploading the dataset shards: 100%"
     }
    },
    "a9eb9a182b6742eaa53df532c9f6601f": {
     "model_module": "@jupyter-widgets/base",
     "model_module_version": "1.2.0",
     "model_name": "LayoutModel",
     "state": {
      "_model_module": "@jupyter-widgets/base",
      "_model_module_version": "1.2.0",
      "_model_name": "LayoutModel",
      "_view_count": null,
      "_view_module": "@jupyter-widgets/base",
      "_view_module_version": "1.2.0",
      "_view_name": "LayoutView",
      "align_content": null,
      "align_items": null,
      "align_self": null,
      "border": null,
      "bottom": null,
      "display": null,
      "flex": null,
      "flex_flow": null,
      "grid_area": null,
      "grid_auto_columns": null,
      "grid_auto_flow": null,
      "grid_auto_rows": null,
      "grid_column": null,
      "grid_gap": null,
      "grid_row": null,
      "grid_template_areas": null,
      "grid_template_columns": null,
      "grid_template_rows": null,
      "height": null,
      "justify_content": null,
      "justify_items": null,
      "left": null,
      "margin": null,
      "max_height": null,
      "max_width": null,
      "min_height": null,
      "min_width": null,
      "object_fit": null,
      "object_position": null,
      "order": null,
      "overflow": null,
      "overflow_x": null,
      "overflow_y": null,
      "padding": null,
      "right": null,
      "top": null,
      "visibility": null,
      "width": null
     }
    },
    "aa469b8a98e344f98e0482f3479f483d": {
     "model_module": "@jupyter-widgets/controls",
     "model_module_version": "1.5.0",
     "model_name": "ProgressStyleModel",
     "state": {
      "_model_module": "@jupyter-widgets/controls",
      "_model_module_version": "1.5.0",
      "_model_name": "ProgressStyleModel",
      "_view_count": null,
      "_view_module": "@jupyter-widgets/base",
      "_view_module_version": "1.2.0",
      "_view_name": "StyleView",
      "bar_color": null,
      "description_width": ""
     }
    },
    "ac5c9914f7d645ebb7a26645ff2d6152": {
     "model_module": "@jupyter-widgets/base",
     "model_module_version": "1.2.0",
     "model_name": "LayoutModel",
     "state": {
      "_model_module": "@jupyter-widgets/base",
      "_model_module_version": "1.2.0",
      "_model_name": "LayoutModel",
      "_view_count": null,
      "_view_module": "@jupyter-widgets/base",
      "_view_module_version": "1.2.0",
      "_view_name": "LayoutView",
      "align_content": null,
      "align_items": null,
      "align_self": null,
      "border": null,
      "bottom": null,
      "display": null,
      "flex": null,
      "flex_flow": null,
      "grid_area": null,
      "grid_auto_columns": null,
      "grid_auto_flow": null,
      "grid_auto_rows": null,
      "grid_column": null,
      "grid_gap": null,
      "grid_row": null,
      "grid_template_areas": null,
      "grid_template_columns": null,
      "grid_template_rows": null,
      "height": null,
      "justify_content": null,
      "justify_items": null,
      "left": null,
      "margin": null,
      "max_height": null,
      "max_width": null,
      "min_height": null,
      "min_width": null,
      "object_fit": null,
      "object_position": null,
      "order": null,
      "overflow": null,
      "overflow_x": null,
      "overflow_y": null,
      "padding": null,
      "right": null,
      "top": null,
      "visibility": null,
      "width": null
     }
    },
    "addbaa841ff44841b8bd7b8831617f0a": {
     "model_module": "@jupyter-widgets/controls",
     "model_module_version": "1.5.0",
     "model_name": "DescriptionStyleModel",
     "state": {
      "_model_module": "@jupyter-widgets/controls",
      "_model_module_version": "1.5.0",
      "_model_name": "DescriptionStyleModel",
      "_view_count": null,
      "_view_module": "@jupyter-widgets/base",
      "_view_module_version": "1.2.0",
      "_view_name": "StyleView",
      "description_width": ""
     }
    },
    "ae8f9796be2a47428bf37482da8852ca": {
     "model_module": "@jupyter-widgets/base",
     "model_module_version": "1.2.0",
     "model_name": "LayoutModel",
     "state": {
      "_model_module": "@jupyter-widgets/base",
      "_model_module_version": "1.2.0",
      "_model_name": "LayoutModel",
      "_view_count": null,
      "_view_module": "@jupyter-widgets/base",
      "_view_module_version": "1.2.0",
      "_view_name": "LayoutView",
      "align_content": null,
      "align_items": null,
      "align_self": null,
      "border": null,
      "bottom": null,
      "display": null,
      "flex": null,
      "flex_flow": null,
      "grid_area": null,
      "grid_auto_columns": null,
      "grid_auto_flow": null,
      "grid_auto_rows": null,
      "grid_column": null,
      "grid_gap": null,
      "grid_row": null,
      "grid_template_areas": null,
      "grid_template_columns": null,
      "grid_template_rows": null,
      "height": null,
      "justify_content": null,
      "justify_items": null,
      "left": null,
      "margin": null,
      "max_height": null,
      "max_width": null,
      "min_height": null,
      "min_width": null,
      "object_fit": null,
      "object_position": null,
      "order": null,
      "overflow": null,
      "overflow_x": null,
      "overflow_y": null,
      "padding": null,
      "right": null,
      "top": null,
      "visibility": null,
      "width": null
     }
    },
    "aec67d7d177b469d8b448408b5178751": {
     "model_module": "@jupyter-widgets/controls",
     "model_module_version": "1.5.0",
     "model_name": "HTMLModel",
     "state": {
      "_dom_classes": [],
      "_model_module": "@jupyter-widgets/controls",
      "_model_module_version": "1.5.0",
      "_model_name": "HTMLModel",
      "_view_count": null,
      "_view_module": "@jupyter-widgets/controls",
      "_view_module_version": "1.5.0",
      "_view_name": "HTMLView",
      "description": "",
      "description_tooltip": null,
      "layout": "IPY_MODEL_a9eb9a182b6742eaa53df532c9f6601f",
      "placeholder": "​",
      "style": "IPY_MODEL_d044a6747f514baf8934343471373a93",
      "value": " 4/4 [00:00&lt;00:00, 14.45ba/s]"
     }
    },
    "af406947c5164f6896067e4d8211325c": {
     "model_module": "@jupyter-widgets/controls",
     "model_module_version": "1.5.0",
     "model_name": "HTMLModel",
     "state": {
      "_dom_classes": [],
      "_model_module": "@jupyter-widgets/controls",
      "_model_module_version": "1.5.0",
      "_model_name": "HTMLModel",
      "_view_count": null,
      "_view_module": "@jupyter-widgets/controls",
      "_view_module_version": "1.5.0",
      "_view_name": "HTMLView",
      "description": "",
      "description_tooltip": null,
      "layout": "IPY_MODEL_6ebb708d3752496dacb6dae6eaeda8ed",
      "placeholder": "​",
      "style": "IPY_MODEL_576bedf2c7a947528e13634dd28ccde3",
      "value": " 1/1 [00:00&lt;00:00, 27.32ba/s]"
     }
    },
    "b2d40a2cf1f8427f9542dd706a26cde8": {
     "model_module": "@jupyter-widgets/base",
     "model_module_version": "1.2.0",
     "model_name": "LayoutModel",
     "state": {
      "_model_module": "@jupyter-widgets/base",
      "_model_module_version": "1.2.0",
      "_model_name": "LayoutModel",
      "_view_count": null,
      "_view_module": "@jupyter-widgets/base",
      "_view_module_version": "1.2.0",
      "_view_name": "LayoutView",
      "align_content": null,
      "align_items": null,
      "align_self": null,
      "border": null,
      "bottom": null,
      "display": null,
      "flex": null,
      "flex_flow": null,
      "grid_area": null,
      "grid_auto_columns": null,
      "grid_auto_flow": null,
      "grid_auto_rows": null,
      "grid_column": null,
      "grid_gap": null,
      "grid_row": null,
      "grid_template_areas": null,
      "grid_template_columns": null,
      "grid_template_rows": null,
      "height": null,
      "justify_content": null,
      "justify_items": null,
      "left": null,
      "margin": null,
      "max_height": null,
      "max_width": null,
      "min_height": null,
      "min_width": null,
      "object_fit": null,
      "object_position": null,
      "order": null,
      "overflow": null,
      "overflow_x": null,
      "overflow_y": null,
      "padding": null,
      "right": null,
      "top": null,
      "visibility": null,
      "width": null
     }
    },
    "ba88109311734915908e01e16d14e7bd": {
     "model_module": "@jupyter-widgets/controls",
     "model_module_version": "1.5.0",
     "model_name": "HBoxModel",
     "state": {
      "_dom_classes": [],
      "_model_module": "@jupyter-widgets/controls",
      "_model_module_version": "1.5.0",
      "_model_name": "HBoxModel",
      "_view_count": null,
      "_view_module": "@jupyter-widgets/controls",
      "_view_module_version": "1.5.0",
      "_view_name": "HBoxView",
      "box_style": "",
      "children": [
       "IPY_MODEL_066d9dc8a30e43a38367c02fa2db5148",
       "IPY_MODEL_e09f4237871f47b18118bd6aebcbe870",
       "IPY_MODEL_af406947c5164f6896067e4d8211325c"
      ],
      "layout": "IPY_MODEL_660559bede7444608bab683aaeb117f5"
     }
    },
    "bcd0aa7fa667481496e2cc9847d8ae45": {
     "model_module": "@jupyter-widgets/controls",
     "model_module_version": "1.5.0",
     "model_name": "ProgressStyleModel",
     "state": {
      "_model_module": "@jupyter-widgets/controls",
      "_model_module_version": "1.5.0",
      "_model_name": "ProgressStyleModel",
      "_view_count": null,
      "_view_module": "@jupyter-widgets/base",
      "_view_module_version": "1.2.0",
      "_view_name": "StyleView",
      "bar_color": null,
      "description_width": ""
     }
    },
    "be17504522f646639acb10c125b00d29": {
     "model_module": "@jupyter-widgets/controls",
     "model_module_version": "1.5.0",
     "model_name": "DescriptionStyleModel",
     "state": {
      "_model_module": "@jupyter-widgets/controls",
      "_model_module_version": "1.5.0",
      "_model_name": "DescriptionStyleModel",
      "_view_count": null,
      "_view_module": "@jupyter-widgets/base",
      "_view_module_version": "1.2.0",
      "_view_name": "StyleView",
      "description_width": ""
     }
    },
    "becb184ecab2408aa5ed469db5c8546d": {
     "model_module": "@jupyter-widgets/controls",
     "model_module_version": "1.5.0",
     "model_name": "HTMLModel",
     "state": {
      "_dom_classes": [],
      "_model_module": "@jupyter-widgets/controls",
      "_model_module_version": "1.5.0",
      "_model_name": "HTMLModel",
      "_view_count": null,
      "_view_module": "@jupyter-widgets/controls",
      "_view_module_version": "1.5.0",
      "_view_name": "HTMLView",
      "description": "",
      "description_tooltip": null,
      "layout": "IPY_MODEL_f0c45eccf88c4bb8a2182643ec05a495",
      "placeholder": "​",
      "style": "IPY_MODEL_c52f78d0abf64fe4975c24bf0d9b4cd2",
      "value": " 1/1 [00:00&lt;00:00,  1.24it/s]"
     }
    },
    "c52f78d0abf64fe4975c24bf0d9b4cd2": {
     "model_module": "@jupyter-widgets/controls",
     "model_module_version": "1.5.0",
     "model_name": "DescriptionStyleModel",
     "state": {
      "_model_module": "@jupyter-widgets/controls",
      "_model_module_version": "1.5.0",
      "_model_name": "DescriptionStyleModel",
      "_view_count": null,
      "_view_module": "@jupyter-widgets/base",
      "_view_module_version": "1.2.0",
      "_view_name": "StyleView",
      "description_width": ""
     }
    },
    "d044a6747f514baf8934343471373a93": {
     "model_module": "@jupyter-widgets/controls",
     "model_module_version": "1.5.0",
     "model_name": "DescriptionStyleModel",
     "state": {
      "_model_module": "@jupyter-widgets/controls",
      "_model_module_version": "1.5.0",
      "_model_name": "DescriptionStyleModel",
      "_view_count": null,
      "_view_module": "@jupyter-widgets/base",
      "_view_module_version": "1.2.0",
      "_view_name": "StyleView",
      "description_width": ""
     }
    },
    "d1ea5c792c2b41ae98177d959bafbe2c": {
     "model_module": "@jupyter-widgets/controls",
     "model_module_version": "1.5.0",
     "model_name": "FloatProgressModel",
     "state": {
      "_dom_classes": [],
      "_model_module": "@jupyter-widgets/controls",
      "_model_module_version": "1.5.0",
      "_model_name": "FloatProgressModel",
      "_view_count": null,
      "_view_module": "@jupyter-widgets/controls",
      "_view_module_version": "1.5.0",
      "_view_name": "ProgressView",
      "bar_style": "success",
      "description": "",
      "description_tooltip": null,
      "layout": "IPY_MODEL_4f4cf1b9f42546529df3874ae53885e2",
      "max": 1,
      "min": 0,
      "orientation": "horizontal",
      "style": "IPY_MODEL_aa469b8a98e344f98e0482f3479f483d",
      "value": 1
     }
    },
    "d45de45d02374c92a228a7c0b95f4379": {
     "model_module": "@jupyter-widgets/base",
     "model_module_version": "1.2.0",
     "model_name": "LayoutModel",
     "state": {
      "_model_module": "@jupyter-widgets/base",
      "_model_module_version": "1.2.0",
      "_model_name": "LayoutModel",
      "_view_count": null,
      "_view_module": "@jupyter-widgets/base",
      "_view_module_version": "1.2.0",
      "_view_name": "LayoutView",
      "align_content": null,
      "align_items": null,
      "align_self": null,
      "border": null,
      "bottom": null,
      "display": null,
      "flex": null,
      "flex_flow": null,
      "grid_area": null,
      "grid_auto_columns": null,
      "grid_auto_flow": null,
      "grid_auto_rows": null,
      "grid_column": null,
      "grid_gap": null,
      "grid_row": null,
      "grid_template_areas": null,
      "grid_template_columns": null,
      "grid_template_rows": null,
      "height": null,
      "justify_content": null,
      "justify_items": null,
      "left": null,
      "margin": null,
      "max_height": null,
      "max_width": null,
      "min_height": null,
      "min_width": null,
      "object_fit": null,
      "object_position": null,
      "order": null,
      "overflow": null,
      "overflow_x": null,
      "overflow_y": null,
      "padding": null,
      "right": null,
      "top": null,
      "visibility": null,
      "width": null
     }
    },
    "d71fcd65e943451aac0292fb3e4fbdab": {
     "model_module": "@jupyter-widgets/base",
     "model_module_version": "1.2.0",
     "model_name": "LayoutModel",
     "state": {
      "_model_module": "@jupyter-widgets/base",
      "_model_module_version": "1.2.0",
      "_model_name": "LayoutModel",
      "_view_count": null,
      "_view_module": "@jupyter-widgets/base",
      "_view_module_version": "1.2.0",
      "_view_name": "LayoutView",
      "align_content": null,
      "align_items": null,
      "align_self": null,
      "border": null,
      "bottom": null,
      "display": null,
      "flex": null,
      "flex_flow": null,
      "grid_area": null,
      "grid_auto_columns": null,
      "grid_auto_flow": null,
      "grid_auto_rows": null,
      "grid_column": null,
      "grid_gap": null,
      "grid_row": null,
      "grid_template_areas": null,
      "grid_template_columns": null,
      "grid_template_rows": null,
      "height": null,
      "justify_content": null,
      "justify_items": null,
      "left": null,
      "margin": null,
      "max_height": null,
      "max_width": null,
      "min_height": null,
      "min_width": null,
      "object_fit": null,
      "object_position": null,
      "order": null,
      "overflow": null,
      "overflow_x": null,
      "overflow_y": null,
      "padding": null,
      "right": null,
      "top": null,
      "visibility": null,
      "width": null
     }
    },
    "dbb572a3e59a43b78dbff544e32f01c9": {
     "model_module": "@jupyter-widgets/controls",
     "model_module_version": "1.5.0",
     "model_name": "HTMLModel",
     "state": {
      "_dom_classes": [],
      "_model_module": "@jupyter-widgets/controls",
      "_model_module_version": "1.5.0",
      "_model_name": "HTMLModel",
      "_view_count": null,
      "_view_module": "@jupyter-widgets/controls",
      "_view_module_version": "1.5.0",
      "_view_name": "HTMLView",
      "description": "",
      "description_tooltip": null,
      "layout": "IPY_MODEL_ac5c9914f7d645ebb7a26645ff2d6152",
      "placeholder": "​",
      "style": "IPY_MODEL_f933a871da364ba082d5752dd5a4289d",
      "value": "Creating parquet from Arrow format: 100%"
     }
    },
    "de4eb3fe457042f7a6978b109d66e355": {
     "model_module": "@jupyter-widgets/controls",
     "model_module_version": "1.5.0",
     "model_name": "DescriptionStyleModel",
     "state": {
      "_model_module": "@jupyter-widgets/controls",
      "_model_module_version": "1.5.0",
      "_model_name": "DescriptionStyleModel",
      "_view_count": null,
      "_view_module": "@jupyter-widgets/base",
      "_view_module_version": "1.2.0",
      "_view_name": "StyleView",
      "description_width": ""
     }
    },
    "dec368eb0a564d60b79795a566288f12": {
     "model_module": "@jupyter-widgets/controls",
     "model_module_version": "1.5.0",
     "model_name": "HTMLModel",
     "state": {
      "_dom_classes": [],
      "_model_module": "@jupyter-widgets/controls",
      "_model_module_version": "1.5.0",
      "_model_name": "HTMLModel",
      "_view_count": null,
      "_view_module": "@jupyter-widgets/controls",
      "_view_module_version": "1.5.0",
      "_view_name": "HTMLView",
      "description": "",
      "description_tooltip": null,
      "layout": "IPY_MODEL_3771674812fd4bf495ad5f8a258363f9",
      "placeholder": "​",
      "style": "IPY_MODEL_be17504522f646639acb10c125b00d29",
      "value": "Uploading the dataset shards: 100%"
     }
    },
    "e09f4237871f47b18118bd6aebcbe870": {
     "model_module": "@jupyter-widgets/controls",
     "model_module_version": "1.5.0",
     "model_name": "FloatProgressModel",
     "state": {
      "_dom_classes": [],
      "_model_module": "@jupyter-widgets/controls",
      "_model_module_version": "1.5.0",
      "_model_name": "FloatProgressModel",
      "_view_count": null,
      "_view_module": "@jupyter-widgets/controls",
      "_view_module_version": "1.5.0",
      "_view_name": "ProgressView",
      "bar_style": "success",
      "description": "",
      "description_tooltip": null,
      "layout": "IPY_MODEL_f2b0030da82141d1a6af64d55b9ceaa5",
      "max": 1,
      "min": 0,
      "orientation": "horizontal",
      "style": "IPY_MODEL_bcd0aa7fa667481496e2cc9847d8ae45",
      "value": 1
     }
    },
    "e22b2ee01dc343d98d5bea10deb6382d": {
     "model_module": "@jupyter-widgets/controls",
     "model_module_version": "1.5.0",
     "model_name": "DescriptionStyleModel",
     "state": {
      "_model_module": "@jupyter-widgets/controls",
      "_model_module_version": "1.5.0",
      "_model_name": "DescriptionStyleModel",
      "_view_count": null,
      "_view_module": "@jupyter-widgets/base",
      "_view_module_version": "1.2.0",
      "_view_name": "StyleView",
      "description_width": ""
     }
    },
    "e3e73d6180e24258b48627ecdfe3e38a": {
     "model_module": "@jupyter-widgets/base",
     "model_module_version": "1.2.0",
     "model_name": "LayoutModel",
     "state": {
      "_model_module": "@jupyter-widgets/base",
      "_model_module_version": "1.2.0",
      "_model_name": "LayoutModel",
      "_view_count": null,
      "_view_module": "@jupyter-widgets/base",
      "_view_module_version": "1.2.0",
      "_view_name": "LayoutView",
      "align_content": null,
      "align_items": null,
      "align_self": null,
      "border": null,
      "bottom": null,
      "display": null,
      "flex": null,
      "flex_flow": null,
      "grid_area": null,
      "grid_auto_columns": null,
      "grid_auto_flow": null,
      "grid_auto_rows": null,
      "grid_column": null,
      "grid_gap": null,
      "grid_row": null,
      "grid_template_areas": null,
      "grid_template_columns": null,
      "grid_template_rows": null,
      "height": null,
      "justify_content": null,
      "justify_items": null,
      "left": null,
      "margin": null,
      "max_height": null,
      "max_width": null,
      "min_height": null,
      "min_width": null,
      "object_fit": null,
      "object_position": null,
      "order": null,
      "overflow": null,
      "overflow_x": null,
      "overflow_y": null,
      "padding": null,
      "right": null,
      "top": null,
      "visibility": null,
      "width": null
     }
    },
    "e52823ea3a3445ae93f189eddf0a8e9e": {
     "model_module": "@jupyter-widgets/controls",
     "model_module_version": "1.5.0",
     "model_name": "HTMLModel",
     "state": {
      "_dom_classes": [],
      "_model_module": "@jupyter-widgets/controls",
      "_model_module_version": "1.5.0",
      "_model_name": "HTMLModel",
      "_view_count": null,
      "_view_module": "@jupyter-widgets/controls",
      "_view_module_version": "1.5.0",
      "_view_name": "HTMLView",
      "description": "",
      "description_tooltip": null,
      "layout": "IPY_MODEL_d71fcd65e943451aac0292fb3e4fbdab",
      "placeholder": "​",
      "style": "IPY_MODEL_de4eb3fe457042f7a6978b109d66e355",
      "value": " 5.17k/5.17k [00:00&lt;00:00, 568kB/s]"
     }
    },
    "e5c7f9d75da04ab594c3345049d200a0": {
     "model_module": "@jupyter-widgets/controls",
     "model_module_version": "1.5.0",
     "model_name": "ProgressStyleModel",
     "state": {
      "_model_module": "@jupyter-widgets/controls",
      "_model_module_version": "1.5.0",
      "_model_name": "ProgressStyleModel",
      "_view_count": null,
      "_view_module": "@jupyter-widgets/base",
      "_view_module_version": "1.2.0",
      "_view_name": "StyleView",
      "bar_color": null,
      "description_width": ""
     }
    },
    "e7593326bee7427ead82d78e14c1216b": {
     "model_module": "@jupyter-widgets/base",
     "model_module_version": "1.2.0",
     "model_name": "LayoutModel",
     "state": {
      "_model_module": "@jupyter-widgets/base",
      "_model_module_version": "1.2.0",
      "_model_name": "LayoutModel",
      "_view_count": null,
      "_view_module": "@jupyter-widgets/base",
      "_view_module_version": "1.2.0",
      "_view_name": "LayoutView",
      "align_content": null,
      "align_items": null,
      "align_self": null,
      "border": null,
      "bottom": null,
      "display": null,
      "flex": null,
      "flex_flow": null,
      "grid_area": null,
      "grid_auto_columns": null,
      "grid_auto_flow": null,
      "grid_auto_rows": null,
      "grid_column": null,
      "grid_gap": null,
      "grid_row": null,
      "grid_template_areas": null,
      "grid_template_columns": null,
      "grid_template_rows": null,
      "height": null,
      "justify_content": null,
      "justify_items": null,
      "left": null,
      "margin": null,
      "max_height": null,
      "max_width": null,
      "min_height": null,
      "min_width": null,
      "object_fit": null,
      "object_position": null,
      "order": null,
      "overflow": null,
      "overflow_x": null,
      "overflow_y": null,
      "padding": null,
      "right": null,
      "top": null,
      "visibility": null,
      "width": null
     }
    },
    "e8130129fa724aa2bceaa0025991ff74": {
     "model_module": "@jupyter-widgets/base",
     "model_module_version": "1.2.0",
     "model_name": "LayoutModel",
     "state": {
      "_model_module": "@jupyter-widgets/base",
      "_model_module_version": "1.2.0",
      "_model_name": "LayoutModel",
      "_view_count": null,
      "_view_module": "@jupyter-widgets/base",
      "_view_module_version": "1.2.0",
      "_view_name": "LayoutView",
      "align_content": null,
      "align_items": null,
      "align_self": null,
      "border": null,
      "bottom": null,
      "display": null,
      "flex": null,
      "flex_flow": null,
      "grid_area": null,
      "grid_auto_columns": null,
      "grid_auto_flow": null,
      "grid_auto_rows": null,
      "grid_column": null,
      "grid_gap": null,
      "grid_row": null,
      "grid_template_areas": null,
      "grid_template_columns": null,
      "grid_template_rows": null,
      "height": null,
      "justify_content": null,
      "justify_items": null,
      "left": null,
      "margin": null,
      "max_height": null,
      "max_width": null,
      "min_height": null,
      "min_width": null,
      "object_fit": null,
      "object_position": null,
      "order": null,
      "overflow": null,
      "overflow_x": null,
      "overflow_y": null,
      "padding": null,
      "right": null,
      "top": null,
      "visibility": null,
      "width": null
     }
    },
    "e9db4b8d678b4362bdcaa432fe37602b": {
     "model_module": "@jupyter-widgets/base",
     "model_module_version": "1.2.0",
     "model_name": "LayoutModel",
     "state": {
      "_model_module": "@jupyter-widgets/base",
      "_model_module_version": "1.2.0",
      "_model_name": "LayoutModel",
      "_view_count": null,
      "_view_module": "@jupyter-widgets/base",
      "_view_module_version": "1.2.0",
      "_view_name": "LayoutView",
      "align_content": null,
      "align_items": null,
      "align_self": null,
      "border": null,
      "bottom": null,
      "display": null,
      "flex": null,
      "flex_flow": null,
      "grid_area": null,
      "grid_auto_columns": null,
      "grid_auto_flow": null,
      "grid_auto_rows": null,
      "grid_column": null,
      "grid_gap": null,
      "grid_row": null,
      "grid_template_areas": null,
      "grid_template_columns": null,
      "grid_template_rows": null,
      "height": null,
      "justify_content": null,
      "justify_items": null,
      "left": null,
      "margin": null,
      "max_height": null,
      "max_width": null,
      "min_height": null,
      "min_width": null,
      "object_fit": null,
      "object_position": null,
      "order": null,
      "overflow": null,
      "overflow_x": null,
      "overflow_y": null,
      "padding": null,
      "right": null,
      "top": null,
      "visibility": null,
      "width": null
     }
    },
    "ebb6e96bd2314a1f8ce0835929c4693a": {
     "model_module": "@jupyter-widgets/controls",
     "model_module_version": "1.5.0",
     "model_name": "FloatProgressModel",
     "state": {
      "_dom_classes": [],
      "_model_module": "@jupyter-widgets/controls",
      "_model_module_version": "1.5.0",
      "_model_name": "FloatProgressModel",
      "_view_count": null,
      "_view_module": "@jupyter-widgets/controls",
      "_view_module_version": "1.5.0",
      "_view_name": "ProgressView",
      "bar_style": "success",
      "description": "",
      "description_tooltip": null,
      "layout": "IPY_MODEL_a8ef03496e04422481c49544bfdc0958",
      "max": 557895656,
      "min": 0,
      "orientation": "horizontal",
      "style": "IPY_MODEL_101f3b4f21f14136a271f519c248ddd8",
      "value": 557895656
     }
    },
    "f0ad6ac7059748179c207024cf12f09e": {
     "model_module": "@jupyter-widgets/base",
     "model_module_version": "1.2.0",
     "model_name": "LayoutModel",
     "state": {
      "_model_module": "@jupyter-widgets/base",
      "_model_module_version": "1.2.0",
      "_model_name": "LayoutModel",
      "_view_count": null,
      "_view_module": "@jupyter-widgets/base",
      "_view_module_version": "1.2.0",
      "_view_name": "LayoutView",
      "align_content": null,
      "align_items": null,
      "align_self": null,
      "border": null,
      "bottom": null,
      "display": null,
      "flex": null,
      "flex_flow": null,
      "grid_area": null,
      "grid_auto_columns": null,
      "grid_auto_flow": null,
      "grid_auto_rows": null,
      "grid_column": null,
      "grid_gap": null,
      "grid_row": null,
      "grid_template_areas": null,
      "grid_template_columns": null,
      "grid_template_rows": null,
      "height": null,
      "justify_content": null,
      "justify_items": null,
      "left": null,
      "margin": null,
      "max_height": null,
      "max_width": null,
      "min_height": null,
      "min_width": null,
      "object_fit": null,
      "object_position": null,
      "order": null,
      "overflow": null,
      "overflow_x": null,
      "overflow_y": null,
      "padding": null,
      "right": null,
      "top": null,
      "visibility": null,
      "width": null
     }
    },
    "f0c45eccf88c4bb8a2182643ec05a495": {
     "model_module": "@jupyter-widgets/base",
     "model_module_version": "1.2.0",
     "model_name": "LayoutModel",
     "state": {
      "_model_module": "@jupyter-widgets/base",
      "_model_module_version": "1.2.0",
      "_model_name": "LayoutModel",
      "_view_count": null,
      "_view_module": "@jupyter-widgets/base",
      "_view_module_version": "1.2.0",
      "_view_name": "LayoutView",
      "align_content": null,
      "align_items": null,
      "align_self": null,
      "border": null,
      "bottom": null,
      "display": null,
      "flex": null,
      "flex_flow": null,
      "grid_area": null,
      "grid_auto_columns": null,
      "grid_auto_flow": null,
      "grid_auto_rows": null,
      "grid_column": null,
      "grid_gap": null,
      "grid_row": null,
      "grid_template_areas": null,
      "grid_template_columns": null,
      "grid_template_rows": null,
      "height": null,
      "justify_content": null,
      "justify_items": null,
      "left": null,
      "margin": null,
      "max_height": null,
      "max_width": null,
      "min_height": null,
      "min_width": null,
      "object_fit": null,
      "object_position": null,
      "order": null,
      "overflow": null,
      "overflow_x": null,
      "overflow_y": null,
      "padding": null,
      "right": null,
      "top": null,
      "visibility": null,
      "width": null
     }
    },
    "f2b0030da82141d1a6af64d55b9ceaa5": {
     "model_module": "@jupyter-widgets/base",
     "model_module_version": "1.2.0",
     "model_name": "LayoutModel",
     "state": {
      "_model_module": "@jupyter-widgets/base",
      "_model_module_version": "1.2.0",
      "_model_name": "LayoutModel",
      "_view_count": null,
      "_view_module": "@jupyter-widgets/base",
      "_view_module_version": "1.2.0",
      "_view_name": "LayoutView",
      "align_content": null,
      "align_items": null,
      "align_self": null,
      "border": null,
      "bottom": null,
      "display": null,
      "flex": null,
      "flex_flow": null,
      "grid_area": null,
      "grid_auto_columns": null,
      "grid_auto_flow": null,
      "grid_auto_rows": null,
      "grid_column": null,
      "grid_gap": null,
      "grid_row": null,
      "grid_template_areas": null,
      "grid_template_columns": null,
      "grid_template_rows": null,
      "height": null,
      "justify_content": null,
      "justify_items": null,
      "left": null,
      "margin": null,
      "max_height": null,
      "max_width": null,
      "min_height": null,
      "min_width": null,
      "object_fit": null,
      "object_position": null,
      "order": null,
      "overflow": null,
      "overflow_x": null,
      "overflow_y": null,
      "padding": null,
      "right": null,
      "top": null,
      "visibility": null,
      "width": null
     }
    },
    "f5494db9c0874ab689811da1a83744b8": {
     "model_module": "@jupyter-widgets/base",
     "model_module_version": "1.2.0",
     "model_name": "LayoutModel",
     "state": {
      "_model_module": "@jupyter-widgets/base",
      "_model_module_version": "1.2.0",
      "_model_name": "LayoutModel",
      "_view_count": null,
      "_view_module": "@jupyter-widgets/base",
      "_view_module_version": "1.2.0",
      "_view_name": "LayoutView",
      "align_content": null,
      "align_items": null,
      "align_self": null,
      "border": null,
      "bottom": null,
      "display": null,
      "flex": null,
      "flex_flow": null,
      "grid_area": null,
      "grid_auto_columns": null,
      "grid_auto_flow": null,
      "grid_auto_rows": null,
      "grid_column": null,
      "grid_gap": null,
      "grid_row": null,
      "grid_template_areas": null,
      "grid_template_columns": null,
      "grid_template_rows": null,
      "height": null,
      "justify_content": null,
      "justify_items": null,
      "left": null,
      "margin": null,
      "max_height": null,
      "max_width": null,
      "min_height": null,
      "min_width": null,
      "object_fit": null,
      "object_position": null,
      "order": null,
      "overflow": null,
      "overflow_x": null,
      "overflow_y": null,
      "padding": null,
      "right": null,
      "top": null,
      "visibility": null,
      "width": null
     }
    },
    "f933a871da364ba082d5752dd5a4289d": {
     "model_module": "@jupyter-widgets/controls",
     "model_module_version": "1.5.0",
     "model_name": "DescriptionStyleModel",
     "state": {
      "_model_module": "@jupyter-widgets/controls",
      "_model_module_version": "1.5.0",
      "_model_name": "DescriptionStyleModel",
      "_view_count": null,
      "_view_module": "@jupyter-widgets/base",
      "_view_module_version": "1.2.0",
      "_view_name": "StyleView",
      "description_width": ""
     }
    },
    "ff18794791b94bd5954ecfde3d6b838d": {
     "model_module": "@jupyter-widgets/controls",
     "model_module_version": "1.5.0",
     "model_name": "HBoxModel",
     "state": {
      "_dom_classes": [],
      "_model_module": "@jupyter-widgets/controls",
      "_model_module_version": "1.5.0",
      "_model_name": "HBoxModel",
      "_view_count": null,
      "_view_module": "@jupyter-widgets/controls",
      "_view_module_version": "1.5.0",
      "_view_name": "HBoxView",
      "box_style": "",
      "children": [
       "IPY_MODEL_14ff18c371c24afca9d815c296eef3c1",
       "IPY_MODEL_8c03b68662a94ce9addc781f46d84cad",
       "IPY_MODEL_aec67d7d177b469d8b448408b5178751"
      ],
      "layout": "IPY_MODEL_010c78b6c3c74d22bf6f5643aaa50b32"
     }
    }
   }
  }
 },
 "nbformat": 4,
 "nbformat_minor": 0
}
